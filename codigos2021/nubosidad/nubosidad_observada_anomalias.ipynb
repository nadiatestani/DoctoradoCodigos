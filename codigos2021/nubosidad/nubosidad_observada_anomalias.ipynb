{
 "cells": [
  {
   "cell_type": "markdown",
   "id": "d5d61e6d",
   "metadata": {},
   "source": [
    "### Descripción del código\n",
    "\n",
    "Este código analiza la nubosidad observada en superficie para distintas estaciones meteorologicas\n",
    "\n",
    "Los datos de nubosidad vienen dadas en oktas y tienen que estar guardados en *ruta_a_archivos* (un archivo por estacion)\n",
    "\n",
    "Se hace lo siguiente: \n",
    "\n",
    "**Cálculo de frecuencias relativas**\n",
    "* Se calcula la frecuencia relativa mensual para todos los meses que cuenten con mas del 80% de datos no faltantes. Esta serie es la que se usa para hacer los siguientes calculos\n",
    "\n",
    "**Climatología:** \n",
    "* Climatología de frecuencia relativa mensual. Se usa el período comun con el satelite para calcularlo: Diciembre 1983 a Noviembre 2016. \n",
    "* Esta climatologia ademas la agrupo: sumo las frecuencias relativas medias para cada mes de las oktas de un grupo, los grupos son: 0, 1-2-3, 4, 5-6-7, 8\n",
    "* Se grafica la climatologia con graficos de barras y stackedplots\n",
    "\n",
    "**Climatología: media espacial**\n",
    "* Climatología de frecuencia relativa mensual. Se usa el período comun con el satelite para calcularlo: Diciembre 1983 a Noviembre 2016. \n",
    "* Se calcula el promedio espacialmente\n",
    "* Esta climatologia ademas la agrupo: sumo las frecuencias relativas medias para cada mes de las oktas de un grupo, los grupos son: 0, 1-2-3, 4, 5-6-7, 8\n",
    "* Se grafica la climatologia con graficos de barras y stackedplots\n",
    "\n",
    "**Cálculo anomalias:**\n",
    "* A cada valor mensual de frecuencia de nubosidad, le resto la climatología del respectivo mes\n",
    "* Calculo el promedio movil de 1 año y 5 años \n",
    "* Calculo la tendencia de Theil-Sen y la testeo con un test de Mann Kendall con un nivel de confianza del 95%\n",
    "\n",
    "**Hago correlogramas de las series de anomalías mensuales de la frecuencia de las octas 0 y 8**\n",
    "\n",
    "**Cálculo anomalias estacioneles:**\n",
    "* Promedio las anomalias mensuales calculadas previamente por cada estacion DJF, MAM, JJA, SON\n",
    "* Las grafico junto con su tendencia de Theil-Sen y la testeo con un test de Mann Kendall con un nivel de confianza del 95%\n",
    "\n",
    "**Armo tablas con las tendencias de Theil-Sen calculadas previamente**\n",
    "* Anualmente y por estaciones con las oktas agrupadas\n"
   ]
  },
  {
   "cell_type": "markdown",
   "id": "0808c1a8",
   "metadata": {},
   "source": [
    "----------------- \n",
    "\n",
    "**Paso 1** "
   ]
  },
  {
   "cell_type": "markdown",
   "id": "4b10feeb",
   "metadata": {},
   "source": [
    "*Cargo librerias y funciones necesarias*"
   ]
  },
  {
   "cell_type": "code",
   "execution_count": null,
   "id": "096a9082",
   "metadata": {},
   "outputs": [],
   "source": [
    "import os\n",
    "import pandas as pd\n",
    "import numpy as np\n",
    "import matplotlib.pyplot as plt\n",
    "from f_abrir_datos_smn import abrir_datos_smn\n",
    "from f_graficos_smn import scatter, histograma, stackplot, barplot_oktas_separadas, barplot_oktas_juntas, lineplot_oktas_separadas, lineplot_oktas_juntas, histogramas_partidos, histogramas_partidos_poster \n",
    "#from f_procesamiento_smn import media_mensual, frecuencia_oktas_por_anio, frecuencia_oktas_por_anio_estaciones,frecuencia_oktas_por_mes, agrupo_frecuencias, agrupo_data\n",
    "from f_procesamiento_smn import frecuencia_oktas_por_mes, agrupo_frecuencias\n",
    "from f_procesamiento_nubosidad_observada_anomalias import f_tabla_tendencias_agrupo, f_tabla_tendencias_agrupo_por_estacion\n",
    "from f_graficos_nubosidad_observada_anomalias import stacked_plot_barras_climatologia, stacked_plot_barras_climatologia_media_espacial, barplot_oktas_separadas_climatologia, barplot_oktas_separadas_climatologia_media_espacial, barplot_oktas_separadas_RELATIVO, barplot_oktas_separadas_RELATIVO_por_estacion\n",
    "\n",
    "from c_clases_smn import dataframe_smn, frecuencias_oktas\n",
    "import f_paletas_colores\n"
   ]
  },
  {
   "cell_type": "markdown",
   "id": "6f043e4f",
   "metadata": {},
   "source": [
    "Defino la *ruta_a_archivos* y a *ruta_a_resultados*"
   ]
  },
  {
   "cell_type": "code",
   "execution_count": null,
   "id": "c77951d7",
   "metadata": {},
   "outputs": [],
   "source": [
    "cwd = os.getcwd()\n",
    "print(\"Current working directory: {0}\".format(cwd))\n",
    "\n",
    "trabajo_en_mi_pc = False\n",
    "trabajo_en_vegeta = True\n",
    "\n",
    "if trabajo_en_mi_pc:\n",
    "    #si estoy trabajando desde mi pc parada en directorio ./Doctorado/codigos/codigos2021/nubosidad\n",
    "    ruta_a_archivos = \"../../../datos/smn/smn_variables_1961-2021/\" #ruta donde estan los archivos con datos del smn\n",
    "    ruta_a_resultados = \"../../../resultados/resultados2021/nubosidad/\" #ruta donde se guardan los resultados del analisis de nubosidad\n",
    "     \n",
    "if trabajo_en_vegeta:\n",
    "    #si estoy trabajando desde el servidor vegeta\n",
    "    ruta_a_archivos = \"/pikachu/datos/nadia.testani/Doctorado/datos/smn/smn_variables_1961-2021/\" #ruta donde estan los archivos con datos del smn\n",
    "    ruta_a_resultados = \"/pikachu/datos/nadia.testani/Doctorado/resultados/resultados2021/nubosidad/\" #ruta donde se guardan los resultados del analisis de nubosidad\n",
    "\n",
    "print(\"--------------------\")\n",
    "print(f\"La ruta a archivos es:{ruta_a_archivos}\")\n",
    "print(\"--------------------\")\n",
    "print(f\"La ruta a resultados es: {ruta_a_resultados}\")"
   ]
  },
  {
   "cell_type": "markdown",
   "id": "6eeb27f6",
   "metadata": {},
   "source": [
    "----------------- \n",
    "\n",
    "**Paso 2** "
   ]
  },
  {
   "cell_type": "markdown",
   "id": "57d8509d",
   "metadata": {},
   "source": [
    "*Cargo los datos*"
   ]
  },
  {
   "cell_type": "code",
   "execution_count": null,
   "id": "4f8480ca",
   "metadata": {},
   "outputs": [],
   "source": [
    "nombres_archivos = os.listdir(ruta_a_archivos)\n",
    "data = {}\n",
    "for nombre_archivo in nombres_archivos:\n",
    "    id_data = abrir_datos_smn(ruta_a_archivos = ruta_a_archivos, nombre_archivo = nombre_archivo, \n",
    "                              variable = \"nub\")\n",
    "    data[id_data[0]] = id_data[1]\n",
    "\n",
    "ides_omm = list(data.keys()) "
   ]
  },
  {
   "cell_type": "markdown",
   "id": "e9446d09",
   "metadata": {},
   "source": [
    "*Defino diccionario con numeros y nombres de estaciones ordenadas por region, extraigo ides y nombres*"
   ]
  },
  {
   "cell_type": "code",
   "execution_count": null,
   "id": "f8284724",
   "metadata": {},
   "outputs": [],
   "source": [
    "#cambio ides_omm para que queden ordenadas por region\n",
    "estaciones_ordenadas = {87148: \"Roque Saenz Peña\", 87166: \"Corrientes\", 87178: \"Posadas Aero\",\n",
    "                        87187: \"Oberá\", 87270: \"Reconquista Aero\", 87289: \"Paso de los Libres Aero\",\n",
    "                        87393: \"Montecaseros\", 87395: \"Concordia Aero\"}\n",
    "\n",
    "ides_omm_ordenado = list(estaciones_ordenadas.keys())\n",
    "nombres_ides_omm_ordenado = list(estaciones_ordenadas.values())"
   ]
  },
  {
   "cell_type": "markdown",
   "id": "e7c7a451",
   "metadata": {},
   "source": [
    "*Defino la fecha de inicio en el que quiero analizar las series temporales de nubosidad*"
   ]
  },
  {
   "cell_type": "code",
   "execution_count": null,
   "id": "eba149bf",
   "metadata": {},
   "outputs": [],
   "source": [
    "periodo_satelite = True\n",
    "periodo_completo = False\n",
    "\n",
    "if periodo_satelite: #periodo comun con satelite (Diciembre 1983 a Noviembre 2016)\n",
    "    fecha_inicio_str = \"1983-12-15\"\n",
    "    fecha_final_str = \"2016-11-15\"\n",
    "\n",
    "if periodo_completo: #periodo completo años enteros (1961-01-01 a 2020-12-31) \n",
    "    fecha_inicio_str = \"1961-01-01\" \n",
    "    fecha_final_str = \"2020-12-31\" \n",
    "\n",
    "#climatologia: periodo comun con satelite (Diciembre 1983 a Noviembre 2016)\n",
    "fecha_inicio_climatologia_str = \"1983-12-15\"\n",
    "fecha_final_climatologia_str = \"2016-11-15\"\n"
   ]
  },
  {
   "cell_type": "markdown",
   "id": "87c191ac",
   "metadata": {},
   "source": [
    "*Defino el porcentaje de na admitido para estimar la frecuencia relativa mensual*"
   ]
  },
  {
   "cell_type": "code",
   "execution_count": null,
   "id": "d4ea4df3",
   "metadata": {},
   "outputs": [],
   "source": [
    "porcentaje_na_admitido = 20"
   ]
  },
  {
   "cell_type": "markdown",
   "id": "336e1230",
   "metadata": {},
   "source": [
    "*Genero (o me paro si es que ya existe) en el directorio de resultados especifico para guardar lo que se genere*"
   ]
  },
  {
   "cell_type": "code",
   "execution_count": null,
   "id": "559c2a11",
   "metadata": {},
   "outputs": [],
   "source": [
    "print(\"-----------------\")\n",
    "print(\"Manejo de directorios\")\n",
    "print(\"-----------------\")\n",
    "print(f\"Se para en el directorio de resultados generales llamado: {ruta_a_resultados}\")\n",
    "os.chdir(ruta_a_resultados) #se para en ruta general de resultados de nubosidad\n",
    "print(\"-----------------\")\n",
    "\n",
    "if \"nubosidad_observada\" not in os.listdir():\n",
    "    print(f\"Genera directorio llamado: nubosidad_observada en {ruta_a_resultados}\")\n",
    "    os.mkdir(\"nubosidad_observada\")\n",
    "print(f\"Se para en el directorio llamado: {ruta_a_resultados}nubosidad_observada\")\n",
    "os.chdir(\"./nubosidad_observada\") #se para en nubosidad_observada\n",
    "print(\"-----------------\")\n",
    "\n",
    "if \"smn\" not in os.listdir():\n",
    "    print(f\"genera directorio llamado: smn en {ruta_a_resultados}nubosidad_observada\")\n",
    "    os.mkdir(\"smn\")\n",
    "print(f\"Se para en el directorio llamado: {ruta_a_resultados}nubosidad_observada/smn\")\n",
    "os.chdir(\"./smn\") #se para en smn\n",
    "print(\"-----------------\")\n",
    "\n",
    "if \"data_mensual\" not in os.listdir():\n",
    "    print(f\"Genera directorio llamado: data_mensual en {ruta_a_resultados}nubosidad_observada/smn\")\n",
    "    os.mkdir(\"data_mensual\")\n",
    "print(f\"Se para en el directorio llamado: {ruta_a_resultados}nubosidad_observada/smn/data_mensual\")\n",
    "os.chdir(\"./data_mensual\") #se para en data_mensual\n",
    "print(\"-----------------\")\n",
    "\n",
    "if f\"admite_{porcentaje_na_admitido}porc_na\" not in os.listdir():\n",
    "    print(f\"genera directorio llamado: admite_{porcentaje_na_admitido}porc_na en {ruta_a_resultados}nubosidad_observada/smn/data_mensual\")\n",
    "    os.mkdir(f\"admite_{porcentaje_na_admitido}porc_na\")\n",
    "print(f\"Se para en el directorio llamado: {ruta_a_resultados}nubosidad_observada/smn/data_mensual/admite_{porcentaje_na_admitido}porc_na\")\n",
    "directorio_na = f\"admite_{porcentaje_na_admitido}porc_na\"\n",
    "os.chdir(\"./\"+directorio_na) #se para en admite_{porcentaje_na_admitido}porc_na\n",
    "print(\"-----------------\")\n",
    "\n",
    "if \"series_diario\" not in os.listdir():\n",
    "    print(f\"Genera directorio llamado: series_diario en {ruta_a_resultados}nubosidad_observada/smn/data_mensual/admite_{porcentaje_na_admitido}porc_na\")\n",
    "    os.mkdir(\"series_diario\")\n",
    "print(f\"Se para en el directorio llamado: {ruta_a_resultados}nubosidad_observada/smn/data_mensual/admite_{porcentaje_na_admitido}porc_na/series_diario\")\n",
    "os.chdir(\"./series_diario\") #se para en series_diario, aca se van a guardar los resultados \n",
    "print(\"-----------------\")"
   ]
  },
  {
   "cell_type": "markdown",
   "id": "2866ba9e",
   "metadata": {},
   "source": [
    "----------------- \n",
    "\n",
    "**Paso 3** "
   ]
  },
  {
   "cell_type": "markdown",
   "id": "01dc4b33",
   "metadata": {},
   "source": [
    "*Se mueve un directorio para atras, genero o me paro en carpeta datos, y genero y guardo (o abro, si ya existe) un csv con datos de frecuencia de cada okta por mes (cantidad de dias por mes con cantidad de oktas) y frecuencia relativa de cada okta por mes (cantidad de dias por mes con cantidad de oktas dividido la cantidad de dias al mes)*\n",
    "\n",
    "*Para calcular las frecuencias por mes usamos la funcion frecuencia_oktas_por_mes de f_procesamiento_smn*\n",
    "\n",
    "*La frecuencia se calcula sobre los meses que tienen menos del 20% de dias del mes con datos faltantes*\n",
    "\n",
    "*Los archivos con las frecuencias los acomodo en diccionario*"
   ]
  },
  {
   "cell_type": "code",
   "execution_count": null,
   "id": "f61d6d0e",
   "metadata": {},
   "outputs": [],
   "source": [
    "os.chdir(\"../\") #se mueve uno atras: a admite_porc_na\n",
    "print(\"-----------------\") \n",
    "if \"datos\" not in os.listdir():\n",
    "    print(f\"genera directorio llamado: datos en {ruta_a_resultados}nubosidad_observada/smn/data_mensual/admite_{porcentaje_na_admitido}porc_na\")\n",
    "    os.mkdir(\"datos\")\n",
    "print(f\"se para en el directorio llamado: {ruta_a_resultados}nubosidad_observada/smn/data_mensual/admite_{porcentaje_na_admitido}porc_na/datos\")\n",
    "os.chdir(\"./datos\") #se para en datos, aca se van a guardar los resultados \n",
    "print(\"-----------------\")    \n",
    "\n",
    "data_frecuencias_mensuales = {} #genero diccionario donde se van a guardar las frecuencias mensuales\n",
    "data_frecuencias_relativas_mensuales = {} #genero diccionario donde se van a guardar las frecuencias relativas mensuales\n",
    "\n",
    "#para cada id_omm_ordenado\n",
    "for id_omm in ides_omm_ordenado:\n",
    "    ##abro o genero archivo con frecuencias\n",
    "    if f\"frecuencia_mensual_en_dias_{id_omm}.csv\" not in os.listdir():\n",
    "        print(f\"genera un archivo: frecuencia_mensual_en_dias_{id_omm}.csv en {ruta_a_resultados}nubosidad_observada/smn/data_mensual/admite_{porcentaje_na_admitido}porc_na/datos\")\n",
    "        frecuencia_mensual = frecuencia_oktas_por_mes(id_omm, data[id_omm], \".\")[0]\n",
    "    else:\n",
    "        frecuencia_mensual = pd.read_csv(f\"frecuencia_mensual_en_dias_{id_omm}.csv\", index_col=\"fecha\")\n",
    "\n",
    "    ##abro o genero archivo con frecuencias relativas\n",
    "    if f\"frecuencia_relativa_mensual_en_dias_{id_omm}.csv\" not in os.listdir():\n",
    "        print(f\"genera un archivo: frecuencia_relativa_mensual_en_dias_{id_omm}.csv en {ruta_a_resultados}nubosidad_observada/smn/data_mensual/admite_{porcentaje_na_admitido}porc_na/datos\")\n",
    "        frecuencia_relativa_mensual = frecuencia_oktas_por_mes(id_omm, data[id_omm], \".\")[1]\n",
    "    else:\n",
    "        frecuencia_relativa_mensual = pd.read_csv(f\"frecuencia_relativa_mensual_en_dias_{id_omm}.csv\", index_col=\"fecha\")\n",
    "    \n",
    "    #lo acomodo en diccionarios\n",
    "    data_frecuencias_mensuales[id_omm] = frecuencia_mensual\n",
    "    data_frecuencias_relativas_mensuales[id_omm] = frecuencia_relativa_mensual\n",
    "\n",
    "print(\"Se generaron diccionarios con data frames frecuencias mensuales y de frecuencias relativas mensuales de cada okta para cada estacion\")\n",
    "print(\"Cada elemento de esos diccionarios (un elemento por estacion) tiene esta pinta:\")\n",
    "print(\"-----------------\") \n",
    "print(\"Frecuencias mensuales:\")\n",
    "print(data_frecuencias_mensuales[87166].iloc[0:3])\n",
    "print(\"-----------------\") \n",
    "print(\"Frecuencias relativas mensuales:\")\n",
    "print(data_frecuencias_relativas_mensuales[87166].iloc[0:3])\n",
    "print(\"-----------------\") "
   ]
  },
  {
   "cell_type": "markdown",
   "id": "baf179b1",
   "metadata": {},
   "source": [
    "*Vuelve a ruta con resultados especificos*"
   ]
  },
  {
   "cell_type": "code",
   "execution_count": null,
   "id": "217078dd",
   "metadata": {},
   "outputs": [],
   "source": [
    "#vuelvo a directorio anterior\n",
    "directorio_raiz = \"../series_diario\"\n",
    "os.chdir(directorio_raiz)\n",
    "print(\"-----------------\") \n",
    "print(f\"Vuelvo a un directorio anterior. Ahora el directorio de trabajo es: {os.getcwd()}\") \n",
    "print(\"-----------------\") "
   ]
  },
  {
   "cell_type": "markdown",
   "id": "7af78717",
   "metadata": {},
   "source": [
    "--------------------\n",
    "\n",
    "**Paso 4: climatología calculo**"
   ]
  },
  {
   "cell_type": "markdown",
   "id": "172fa094",
   "metadata": {},
   "source": [
    "*Calculo media mensual de frecuencias relativas mensuales en el periodo climatologico*\n",
    "\n",
    "*Agrupo la climatologia en oktas: sumo las frecuencias relativas medias para cada mes de las oktas de un grupo. Para eso uso la funcion agrupo_frecuencias de f_procesamiento_smn*\n",
    "\n",
    "*Los grupos son: 0, 1-2-3, 4, 5-6-7, 8*"
   ]
  },
  {
   "cell_type": "code",
   "execution_count": null,
   "id": "3e85eab1",
   "metadata": {},
   "outputs": [],
   "source": [
    "climatologia_frecuencias_relativas_mensuales = {} #genero diccionario donde se van a guardar las climatologias de frecuencias relativas mensuales\n",
    "climatologia_frecuencias_relativas_mensuales_agrupadas = {} #genero diccionario donde se van a guardar las climatologias de frecuencias relativas mensuales agrupadas\n",
    "\n",
    "#para cada id_omm_ordenado\n",
    "for id_omm in ides_omm_ordenado:\n",
    "    #calculo climatologia\n",
    "    frecuencia_relativa_mensual = data_frecuencias_relativas_mensuales[id_omm]\n",
    "    frecuencia_relativa_mensual.index = pd.to_datetime(frecuencia_relativa_mensual.index)\n",
    "    frecuencia_relativa_mensual_fechas_climatologia = frecuencia_relativa_mensual.loc[fecha_inicio_climatologia_str:fecha_final_climatologia_str]\n",
    "    frecuencia_relativa_mensual_climatologia = frecuencia_relativa_mensual_fechas_climatologia.groupby(frecuencia_relativa_mensual_fechas_climatologia.index.month).mean() \n",
    "    frecuencia_relativa_mensual_climatologia\n",
    "    #Lo guardo en diccionario: climatologia_frecuencias_relativas_mensuales\n",
    "    climatologia_frecuencias_relativas_mensuales[id_omm] = frecuencia_relativa_mensual_climatologia\n",
    "    #Si sumo la frecuencia media de cada okta en cada mes suma suma 100%. Es decir: tomo enero y sumo la frecuencia relativa de cada okta. Y así *\n",
    "    for i in range(0,12):\n",
    "        if sum(frecuencia_relativa_mensual_climatologia.iloc[i]) > 98: continue\n",
    "        else: print(f\"Para la estacion: {id_omm}. La suma de las frecuencias en el mes {i+1}no es mayor a 98\")\n",
    "    #Agrupo frecuencias\n",
    "    #Lo guardo en diccionario: climatologia_frecuencias_relativas_mensuales_agrupadas\n",
    "    climatologia_frecuencias_relativas_mensuales_agrupadas[id_omm] = agrupo_frecuencias(frecuencia_relativa_mensual_climatologia, grupo = 3)\n",
    "    "
   ]
  },
  {
   "cell_type": "markdown",
   "id": "d5cc6bbb",
   "metadata": {},
   "source": [
    "--------------------\n",
    "\n",
    "**Paso 4b: climatología calculo media espacial**"
   ]
  },
  {
   "cell_type": "code",
   "execution_count": null,
   "id": "cdc4d6ba",
   "metadata": {},
   "outputs": [],
   "source": [
    "climatologia_frecuencias_relativas_mensuales_media_espacial = (climatologia_frecuencias_relativas_mensuales[ides_omm_ordenado[0]]+climatologia_frecuencias_relativas_mensuales[ides_omm_ordenado[1]]+climatologia_frecuencias_relativas_mensuales[ides_omm_ordenado[2]]+climatologia_frecuencias_relativas_mensuales[ides_omm_ordenado[3]]+climatologia_frecuencias_relativas_mensuales[ides_omm_ordenado[4]]+climatologia_frecuencias_relativas_mensuales[ides_omm_ordenado[5]]+climatologia_frecuencias_relativas_mensuales[ides_omm_ordenado[6]]+climatologia_frecuencias_relativas_mensuales[ides_omm_ordenado[7]])/8"
   ]
  },
  {
   "cell_type": "markdown",
   "id": "ead7eff6",
   "metadata": {},
   "source": [
    "--------------------\n",
    "\n",
    "**Paso 4: climatología graficos**"
   ]
  },
  {
   "cell_type": "code",
   "execution_count": null,
   "id": "8c8ded9c",
   "metadata": {},
   "outputs": [],
   "source": [
    "#hago graficos en español\n",
    "for id_omm in ides_omm_ordenado:\n",
    "    stacked_plot_barras_climatologia(frecuencias = climatologia_frecuencias_relativas_mensuales[id_omm], \n",
    "                                     estaciones = estaciones_ordenadas, id_estacion = id_omm,\n",
    "                                     colores = f_paletas_colores.paleta_9_colores, agrupo = None,\n",
    "                                     anio_inicio = fecha_inicio_climatologia_str[0:4], \n",
    "                                     anio_final = fecha_final_climatologia_str[0:4],\n",
    "                                     idioma = \"español\")\n",
    "    stacked_plot_barras_climatologia(frecuencias = climatologia_frecuencias_relativas_mensuales_agrupadas[id_omm], \n",
    "                                     estaciones = estaciones_ordenadas, id_estacion = id_omm,\n",
    "                                     colores = f_paletas_colores.paleta_5_colores, agrupo = 3,\n",
    "                                     anio_inicio = fecha_inicio_climatologia_str[0:4], \n",
    "                                     anio_final = fecha_final_climatologia_str[0:4],\n",
    "                                     idioma = \"español\")\n",
    "    barplot_oktas_separadas_climatologia(frecuencias = climatologia_frecuencias_relativas_mensuales[id_omm],\n",
    "                                         estaciones = estaciones_ordenadas, id_estacion = id_omm,\n",
    "                                         colores = f_paletas_colores.paleta_9_colores,\n",
    "                                         anio_inicio = fecha_inicio_climatologia_str[0:4], \n",
    "                                         anio_final = fecha_final_climatologia_str[0:4],\n",
    "                                         idioma = \"español\")\n",
    "\n"
   ]
  },
  {
   "cell_type": "markdown",
   "id": "6094dac8",
   "metadata": {},
   "source": [
    "**PAPER:**"
   ]
  },
  {
   "cell_type": "code",
   "execution_count": null,
   "id": "9d58a6a1",
   "metadata": {},
   "outputs": [],
   "source": [
    "#hago graficos medios en ingles - PAPER\n",
    "stacked_plot_barras_climatologia_media_espacial(frecuencias = climatologia_frecuencias_relativas_mensuales_media_espacial, \n",
    "                                 colores = f_paletas_colores.paleta_9_colores, agrupo = None,\n",
    "                                 anio_inicio = fecha_inicio_climatologia_str[0:4], \n",
    "                                 anio_final = fecha_final_climatologia_str[0:4],\n",
    "                                 idioma = \"ingles\", titulo = False)\n",
    "\n",
    "barplot_oktas_separadas_climatologia_media_espacial(frecuencias = climatologia_frecuencias_relativas_mensuales_media_espacial,\n",
    "                                     colores = f_paletas_colores.paleta_9_colores,\n",
    "                                     anio_inicio = fecha_inicio_climatologia_str[0:4], \n",
    "                                     anio_final = fecha_final_climatologia_str[0:4],\n",
    "                                     idioma = \"ingles\", titulo = False)\n"
   ]
  },
  {
   "cell_type": "markdown",
   "id": "fe5b5e4c",
   "metadata": {},
   "source": [
    "--------------------\n",
    "\n",
    "**Paso 5: calculo de anomalias**"
   ]
  },
  {
   "cell_type": "markdown",
   "id": "089d062f",
   "metadata": {},
   "source": [
    "*A cada valor mensual de frecuencia de nubosidad, le resto la climatología del respectivo mes*"
   ]
  },
  {
   "cell_type": "code",
   "execution_count": null,
   "id": "91f9be23",
   "metadata": {},
   "outputs": [],
   "source": [
    "from f_procesamiento_nubosidad_observada_anomalias import f_serie_anomalias_mensuales, promedio_movil, tendencia, tendencia_theil_sen"
   ]
  },
  {
   "cell_type": "code",
   "execution_count": null,
   "id": "95ac6a76",
   "metadata": {},
   "outputs": [],
   "source": [
    "frecuencias_relativas_anomalias = {}\n",
    "for id_omm in ides_omm_ordenado:\n",
    "    frecuencia_relativa_mensual = data_frecuencias_relativas_mensuales[id_omm]\n",
    "    frecuencia_relativa_mensual_climatologia = climatologia_frecuencias_relativas_mensuales[id_omm]\n",
    "    frecuencia_relativa_anomalia = f_serie_anomalias_mensuales(frecuencia_relativa_mensual, frecuencia_relativa_mensual_climatologia)\n",
    "    frecuencias_relativas_anomalias[id_omm] = frecuencia_relativa_anomalia"
   ]
  },
  {
   "cell_type": "markdown",
   "id": "7287f08e",
   "metadata": {},
   "source": [
    "*Calculo el promedio movil de 12 meses*"
   ]
  },
  {
   "cell_type": "code",
   "execution_count": null,
   "id": "f062ed39",
   "metadata": {},
   "outputs": [],
   "source": [
    "frecuencias_relativas_anomalias_filtro_12_meses = {}\n",
    "for id_omm in ides_omm_ordenado:\n",
    "    ventana = 12\n",
    "    frecuencia_relativa_anomalia_media_movil_12_dic = {}\n",
    "    frecuencia_relativa_anomalia = frecuencias_relativas_anomalias[id_omm]\n",
    "    for i in range(0, 9):\n",
    "        frecuencia_relativa_anomalia_media_movil_12_dic[str(i)] = promedio_movil(frecuencia_relativa_anomalia[str(i)], ventana)\n",
    "\n",
    "    frecuencia_relativa_anomalia_media_movil_12 = pd.DataFrame(frecuencia_relativa_anomalia_media_movil_12_dic)\n",
    "    frecuencia_relativa_anomalia_media_movil_12.index = frecuencia_relativa_anomalia.index\n",
    "    frecuencias_relativas_anomalias_filtro_12_meses[id_omm] = frecuencia_relativa_anomalia_media_movil_12\n",
    "\n"
   ]
  },
  {
   "cell_type": "markdown",
   "id": "491968d2",
   "metadata": {},
   "source": [
    "*Calculo el promedio movil de 5 años*"
   ]
  },
  {
   "cell_type": "code",
   "execution_count": null,
   "id": "806cb1a2",
   "metadata": {},
   "outputs": [],
   "source": [
    "frecuencias_relativas_anomalias_filtro_12_5_meses = {}\n",
    "for id_omm in ides_omm_ordenado:\n",
    "    ventana_5 = 12*5\n",
    "    frecuencia_relativa_anomalia_media_movil_12_5_dic = {}\n",
    "    frecuencia_relativa_anomalia = frecuencias_relativas_anomalias[id_omm]\n",
    "    for i in range(0, 9):\n",
    "        frecuencia_relativa_anomalia_media_movil_12_5_dic[str(i)] = promedio_movil(frecuencia_relativa_anomalia[str(i)], ventana_5)\n",
    "\n",
    "    frecuencia_relativa_anomalia_media_movil_12_5 = pd.DataFrame(frecuencia_relativa_anomalia_media_movil_12_5_dic)\n",
    "    frecuencia_relativa_anomalia_media_movil_12_5.index = frecuencia_relativa_anomalia.index\n",
    "    frecuencias_relativas_anomalias_filtro_12_5_meses[id_omm] = frecuencia_relativa_anomalia_media_movil_12_5\n"
   ]
  },
  {
   "cell_type": "markdown",
   "id": "2506e061",
   "metadata": {},
   "source": [
    "*La tendencia se calcula directamente en la funcion del graficado* "
   ]
  },
  {
   "cell_type": "markdown",
   "id": "d2b28b7b",
   "metadata": {},
   "source": [
    "--------------------\n",
    "\n",
    "**Paso 4: anomalías graficos**"
   ]
  },
  {
   "cell_type": "markdown",
   "id": "21a0494f",
   "metadata": {},
   "source": [
    "*Grafico para el periodo de comun con satelite:*"
   ]
  },
  {
   "cell_type": "code",
   "execution_count": null,
   "id": "cffe2cea",
   "metadata": {},
   "outputs": [],
   "source": [
    "periodo_satelite == True\n",
    "periodo_completo == False\n",
    "\n",
    "if periodo_satelite: #periodo comun con satelite (Diciembre 1983 a Noviembre 2016)\n",
    "    fecha_inicio_str = \"1983-12-15\"\n",
    "    fecha_final_str = \"2016-11-15\"\n",
    "\n",
    "if periodo_completo: #periodo completo años enteros (1961-01-01 a 2020-12-31) \n",
    "    fecha_inicio_str = \"1961-01-01\" \n",
    "    fecha_final_str = \"2020-12-31\" \n",
    "\n",
    "#hago graficos en español\n",
    "for id_omm in ides_omm_ordenado:\n",
    "    barplot_oktas_separadas_RELATIVO(frecuencias = frecuencias_relativas_anomalias[id_omm],\n",
    "                                     frecuencias_media_movil_12 = frecuencias_relativas_anomalias_filtro_12_meses[id_omm],\n",
    "                                     frecuencias_media_movil_12_5 = frecuencias_relativas_anomalias_filtro_12_5_meses[id_omm],\n",
    "                                     estaciones = estaciones_ordenadas, id_estacion = id_omm,\n",
    "                                     fecha_inicio_str = fecha_inicio_str, \n",
    "                                     fecha_final_str = fecha_final_str, \n",
    "                                     colores = f_paletas_colores.paleta_9_colores,\n",
    "                                     incluir_tendencia_ts = True,\n",
    "                                     incluir_media_movil_12 = True,\n",
    "                                     incluir_media_movil_12_5 = False,\n",
    "                                     idioma = \"español\")\n"
   ]
  },
  {
   "cell_type": "markdown",
   "id": "db50715e",
   "metadata": {},
   "source": [
    "*Grafico para el periodo completo:*"
   ]
  },
  {
   "cell_type": "code",
   "execution_count": null,
   "id": "6731422a",
   "metadata": {},
   "outputs": [],
   "source": [
    "periodo_satelite == False\n",
    "periodo_completo == True\n",
    "\n",
    "fecha_inicio_str = \"1961-01-01\" \n",
    "fecha_final_str = \"2020-12-31\" \n",
    "\n",
    "#hago graficos en español\n",
    "for id_omm in ides_omm_ordenado:\n",
    "    barplot_oktas_separadas_RELATIVO(frecuencias = frecuencias_relativas_anomalias[id_omm],\n",
    "                                     frecuencias_media_movil_12 = frecuencias_relativas_anomalias_filtro_12_meses[id_omm],\n",
    "                                     frecuencias_media_movil_12_5 = frecuencias_relativas_anomalias_filtro_12_5_meses[id_omm],\n",
    "                                     estaciones = estaciones_ordenadas, id_estacion = id_omm,\n",
    "                                     fecha_inicio_str = fecha_inicio_str, \n",
    "                                     fecha_final_str = fecha_final_str, \n",
    "                                     colores = f_paletas_colores.paleta_9_colores,\n",
    "                                     incluir_tendencia_ts = True,\n",
    "                                     incluir_media_movil_12 = True,\n",
    "                                     incluir_media_movil_12_5 = False,\n",
    "                                     idioma = \"español\")"
   ]
  },
  {
   "cell_type": "markdown",
   "id": "a2d2156d",
   "metadata": {},
   "source": [
    "--------------------\n",
    "\n",
    "**Paso 5: Correlograma con anomalias de frecuencia de octa 0 y octa 8**\n",
    "\n",
    "*Obs: esta parte del código se puede perfeccionar*"
   ]
  },
  {
   "cell_type": "code",
   "execution_count": null,
   "id": "29ad7fd1",
   "metadata": {},
   "outputs": [],
   "source": [
    "periodo_satelite == False\n",
    "periodo_completo == True\n",
    "\n",
    "fecha_inicio_str = \"1961-01-01\" \n",
    "fecha_final_str = \"2020-12-31\" \n",
    "\n",
    "data_frame_anomalias_frecuencias_0 = pd.concat([frecuencias_relativas_anomalias[87148][\"0\"].loc[fecha_inicio_str:fecha_final_str],\n",
    "                                              frecuencias_relativas_anomalias[87166][\"0\"].loc[fecha_inicio_str:fecha_final_str],\n",
    "                                              frecuencias_relativas_anomalias[87178][\"0\"].loc[fecha_inicio_str:fecha_final_str],\n",
    "                                              frecuencias_relativas_anomalias[87187][\"0\"].loc[fecha_inicio_str:fecha_final_str],\n",
    "                                              frecuencias_relativas_anomalias[87270][\"0\"].loc[fecha_inicio_str:fecha_final_str],\n",
    "                                              frecuencias_relativas_anomalias[87289][\"0\"].loc[fecha_inicio_str:fecha_final_str],\n",
    "                                              frecuencias_relativas_anomalias[87393][\"0\"].loc[fecha_inicio_str:fecha_final_str],\n",
    "                                              frecuencias_relativas_anomalias[87395][\"0\"].loc[fecha_inicio_str:fecha_final_str],\n",
    "                                             ], axis=1)\n",
    "data_frame_anomalias_frecuencias_0.columns = ides_omm_ordenado\n",
    "\n",
    "data_frame_anomalias_frecuencias_8 = pd.concat([frecuencias_relativas_anomalias[87148][\"8\"].loc[fecha_inicio_str:fecha_final_str],\n",
    "                                              frecuencias_relativas_anomalias[87166][\"8\"].loc[fecha_inicio_str:fecha_final_str],\n",
    "                                              frecuencias_relativas_anomalias[87178][\"8\"].loc[fecha_inicio_str:fecha_final_str],\n",
    "                                              frecuencias_relativas_anomalias[87187][\"8\"].loc[fecha_inicio_str:fecha_final_str],\n",
    "                                              frecuencias_relativas_anomalias[87270][\"8\"].loc[fecha_inicio_str:fecha_final_str],\n",
    "                                              frecuencias_relativas_anomalias[87289][\"8\"].loc[fecha_inicio_str:fecha_final_str],\n",
    "                                              frecuencias_relativas_anomalias[87393][\"8\"].loc[fecha_inicio_str:fecha_final_str],\n",
    "                                              frecuencias_relativas_anomalias[87395][\"8\"].loc[fecha_inicio_str:fecha_final_str],\n",
    "                                             ], axis=1)\n",
    "data_frame_anomalias_frecuencias_8.columns = ides_omm_ordenado"
   ]
  },
  {
   "cell_type": "code",
   "execution_count": null,
   "id": "30c631d9",
   "metadata": {},
   "outputs": [],
   "source": [
    "import matplotlib.pyplot as plt\n",
    "import seaborn as sns\n",
    "\n",
    "anio_inicio = fecha_inicio_str[0:4]\n",
    "anio_final = fecha_final_str[0:4]\n",
    "idioma = \"español\"\n",
    "\n",
    "g = sns.pairplot(data_frame_anomalias_frecuencias_0, kind = \"reg\", corner = False, dropna = True,\n",
    "            plot_kws = dict(scatter_kws = dict(alpha=0.5, color = \"red\"), line_kws = dict(color=\"darkred\")),\n",
    "            diag_kws = dict(color = \"red\"))\n",
    "if idioma == \"ingles\":\n",
    "    g.fig.suptitle(f\"Correlogram: Anomaly of daily mean total cloud cover (oktas) monthly frequency ({anio_inicio}-{anio_final}) SMN \\n Okta 0\", y = 1.04, fontsize = 24) # y= some height>1\n",
    "elif idioma == \"español\":\n",
    "    g.fig.suptitle(f\"Correlograma: Anomalía de la frecuencia mensual de cobertura nubosa media diaria ({anio_inicio}-{anio_final}) SMN \\n Octa 0\", y = 1.04,fontsize = 24)\n",
    "\n",
    "plt.show()\n",
    "\n",
    "g = sns.pairplot(data_frame_anomalias_frecuencias_8, kind = \"reg\", corner = False, dropna = True,\n",
    "            plot_kws = dict(scatter_kws = dict(alpha=0.5, color = \"red\"), line_kws = dict(color=\"darkred\")),\n",
    "            diag_kws = dict(color = \"red\"))\n",
    "if idioma == \"ingles\":\n",
    "    g.fig.suptitle(f\"Correlogram: Anomaly of daily mean total cloud cover (oktas) monthly frequency ({anio_inicio}-{anio_final}) SMN \\n Okta 8\", y = 1.04, fontsize = 24) # y= some height>1\n",
    "elif idioma == \"español\":\n",
    "    g.fig.suptitle(f\"Correlograma: Anomalía de la frecuencia mensual de cobertura nubosa media diaria ({anio_inicio}-{anio_final}) SMN \\n Octa 8\", y = 1.04,fontsize = 24)\n",
    "\n",
    "plt.show()"
   ]
  },
  {
   "cell_type": "markdown",
   "id": "0d89c3ea",
   "metadata": {},
   "source": [
    "--------------------\n",
    "\n",
    "**Paso 6: Cálculo de anomalias estacionales**"
   ]
  },
  {
   "cell_type": "markdown",
   "id": "0570832c",
   "metadata": {},
   "source": [
    "*Promedio las anomalias mensuales calculadas previamente por cada estacion DJF, MAM, JJA, SON*"
   ]
  },
  {
   "cell_type": "code",
   "execution_count": null,
   "id": "869ac5df",
   "metadata": {},
   "outputs": [],
   "source": [
    "freqs_relativas_anomalias_estacionales_todas_las_estaciones = {}\n",
    "\n",
    "for id_omm in ides_omm_ordenado:\n",
    "    freqs_relativas_anomalias_estacionales = {}\n",
    "    df_data = frecuencias_relativas_anomalias[id_omm]\n",
    "\n",
    "    for estacion in [\"DJF\", \"MAM\", \"JJA\", \"SON\"]:\n",
    "        freq_r_0 = []\n",
    "        freq_r_1 = []\n",
    "        freq_r_2 = []\n",
    "        freq_r_3 = []\n",
    "        freq_r_4 = []\n",
    "        freq_r_5 = []\n",
    "        freq_r_6 = []\n",
    "        freq_r_7 = []\n",
    "        freq_r_8 = []\n",
    "        freqs_relativas_anomalias_estacional = [freq_r_0, freq_r_1, freq_r_2, freq_r_3, freq_r_4, freq_r_5, freq_r_6, freq_r_7, freq_r_8]\n",
    "\n",
    "        for anio in df_data.index.year.unique():#iterar sobre los anios\n",
    "\n",
    "                data = df_data.loc[str(anio)]\n",
    "\n",
    "                if estacion == \"DJF\":\n",
    "                    if anio == df_data.index.year[0]:\n",
    "                        data_estacion = np.nan\n",
    "                    else:\n",
    "                        data_anio_previo = df_data.loc[str(anio-1)]\n",
    "                        data_estacion = pd.concat([data_anio_previo[data_anio_previo.index.month == 12],\n",
    "                                                   data[data.index.month ==1],data[data.index.month == 2]])\n",
    "                        media_estacion = data_estacion.mean(axis = 0)\n",
    "\n",
    "                elif estacion == \"MAM\":\n",
    "                    data_estacion = pd.concat([data[data.index.month == 3],data[data.index.month == 4],data[data.index.month == 5]])\n",
    "                    media_estacion = data_estacion.mean(axis = 0)\n",
    "\n",
    "                elif estacion == \"JJA\":\n",
    "                    data_estacion = pd.concat([data[data.index.month == 6],data[data.index.month == 7],data[data.index.month == 8]])\n",
    "                    media_estacion = data_estacion.mean(axis = 0)\n",
    "\n",
    "                elif estacion == \"SON\":\n",
    "                    data_estacion = pd.concat([data[data.index.month == 9],data[data.index.month == 10],data[data.index.month == 11]])\n",
    "                    media_estacion = data_estacion.mean(axis = 0)\n",
    "\n",
    "                if type(data_estacion) == pd.DataFrame :\n",
    "                    for i in range(0,9):\n",
    "                        freqs_relativas_anomalias_estacional[i].append(media_estacion.loc[str(i)])\n",
    "\n",
    "        if estacion == \"DJF\":\n",
    "            indices = df_data.index.year.unique()[1: len(df_data.index.year.unique())] #se saca el primer año\n",
    "        else:\n",
    "            indices = df_data.index.year.unique()\n",
    "\n",
    "\n",
    "        freqs_relativas_anomalias_estacional_df = pd.DataFrame(freqs_relativas_anomalias_estacional).T\n",
    "        freqs_relativas_anomalias_estacional_df.index = indices\n",
    "        freqs_relativas_anomalias_estacionales[estacion] = freqs_relativas_anomalias_estacional_df\n",
    "    freqs_relativas_anomalias_estacionales_todas_las_estaciones[id_omm] = freqs_relativas_anomalias_estacionales"
   ]
  },
  {
   "cell_type": "markdown",
   "id": "5f14e07f",
   "metadata": {},
   "source": [
    "--------------------\n",
    "\n",
    "**Paso 7: Gráfico de anomalias estacionales**"
   ]
  },
  {
   "cell_type": "markdown",
   "id": "82db3645",
   "metadata": {},
   "source": [
    "*Periodo completo*"
   ]
  },
  {
   "cell_type": "code",
   "execution_count": null,
   "id": "0b916c91",
   "metadata": {
    "scrolled": true
   },
   "outputs": [],
   "source": [
    "periodo_satelite == False\n",
    "periodo_completo == True\n",
    "\n",
    "fecha_inicio_str = \"1961-01-01\" \n",
    "fecha_final_str = \"2020-12-31\"\n",
    "\n",
    "for id_omm in ides_omm_ordenado:\n",
    "    for estacion in [\"DJF\", \"MAM\", \"JJA\", \"SON\"]:\n",
    "        barplot_oktas_separadas_RELATIVO_por_estacion(frecuencias_estacion = freqs_relativas_anomalias_estacionales_todas_las_estaciones[id_omm][estacion], \n",
    "                                                      estacion_del_anio = estacion,\n",
    "                                                      estaciones = estaciones_ordenadas, id_estacion = id_omm,\n",
    "                                                      fecha_inicio_str = fecha_inicio_str, \n",
    "                                                      fecha_final_str = fecha_final_str, \n",
    "                                                      colores =f_paletas_colores.paleta_9_colores,\n",
    "                                                      incluir_tendencia_ts = True, idioma = \"español\")\n"
   ]
  },
  {
   "cell_type": "markdown",
   "id": "c964ff31",
   "metadata": {},
   "source": [
    "*Periodo en comun con satelite*"
   ]
  },
  {
   "cell_type": "code",
   "execution_count": null,
   "id": "3a530c1b",
   "metadata": {},
   "outputs": [],
   "source": [
    "periodo_satelite == True\n",
    "periodo_completo == False\n",
    "\n",
    "fecha_inicio_str = \"1983-12-15\"\n",
    "fecha_final_str = \"2016-11-15\"\n",
    "\n",
    "for id_omm in ides_omm_ordenado:\n",
    "    for estacion in [\"DJF\", \"MAM\", \"JJA\", \"SON\"]:\n",
    "        barplot_oktas_separadas_RELATIVO_por_estacion(frecuencias_estacion = freqs_relativas_anomalias_estacionales_todas_las_estaciones[id_omm][estacion], \n",
    "                                                      estacion_del_anio = estacion,\n",
    "                                                      estaciones = estaciones_ordenadas, id_estacion = id_omm,\n",
    "                                                      fecha_inicio_str = fecha_inicio_str, \n",
    "                                                      fecha_final_str = fecha_final_str, \n",
    "                                                      colores =f_paletas_colores.paleta_9_colores,\n",
    "                                                      incluir_tendencia_ts = True, idioma = \"español\")\n"
   ]
  },
  {
   "cell_type": "markdown",
   "id": "c1f8fd9e",
   "metadata": {},
   "source": [
    "--------------------\n",
    "\n",
    "**Paso 8: Genero tablas con tendencias**"
   ]
  },
  {
   "cell_type": "markdown",
   "id": "03e5da9a",
   "metadata": {},
   "source": [
    "*Lo hago con las oktas agrupadas en 0, 1-2-3, 4, 5-6-7, 8*"
   ]
  },
  {
   "cell_type": "code",
   "execution_count": null,
   "id": "2739fcca",
   "metadata": {},
   "outputs": [],
   "source": [
    "periodo_satelite == False\n",
    "periodo_completo == True\n",
    "\n",
    "fecha_inicio_str = \"1961-01-01\" \n",
    "fecha_final_str = \"2020-12-31\"\n",
    "\n",
    "f_tabla_tendencias_agrupo(frecuencias_relativas_anomalias,fecha_inicio_str, fecha_final_str, estaciones_ordenadas, ides_omm_ordenado)"
   ]
  },
  {
   "cell_type": "code",
   "execution_count": null,
   "id": "42347ee7",
   "metadata": {},
   "outputs": [],
   "source": [
    "periodo_satelite == True\n",
    "periodo_completo == False\n",
    "\n",
    "fecha_inicio_str = \"1983-12-15\"\n",
    "fecha_final_str = \"2016-11-15\"\n",
    "\n",
    "f_tabla_tendencias_agrupo(frecuencias_relativas_anomalias,fecha_inicio_str, fecha_final_str, estaciones_ordenadas, ides_omm_ordenado)"
   ]
  },
  {
   "cell_type": "markdown",
   "id": "aee7f873",
   "metadata": {},
   "source": [
    "*Lo hago por estacion*"
   ]
  },
  {
   "cell_type": "code",
   "execution_count": null,
   "id": "1c7d0a9f",
   "metadata": {},
   "outputs": [],
   "source": [
    "periodo_satelite == False\n",
    "periodo_completo == True\n",
    "\n",
    "fecha_inicio_str = \"1961-01-01\" \n",
    "fecha_final_str = \"2020-12-31\"\n",
    "\n",
    "f_tabla_tendencias_agrupo_por_estacion(freqs_relativas_anomalias_estacionales_todas_las_estaciones,fecha_inicio_str, fecha_final_str, estaciones_ordenadas, ides_omm_ordenado)"
   ]
  },
  {
   "cell_type": "code",
   "execution_count": null,
   "id": "c08acee6",
   "metadata": {},
   "outputs": [],
   "source": [
    "periodo_satelite == True\n",
    "periodo_completo == False\n",
    "\n",
    "fecha_inicio_str = \"1983-12-15\"\n",
    "fecha_final_str = \"2016-11-15\"\n",
    "\n",
    "f_tabla_tendencias_agrupo_por_estacion(freqs_relativas_anomalias_estacionales_todas_las_estaciones,fecha_inicio_str, fecha_final_str, estaciones_ordenadas, ides_omm_ordenado)"
   ]
  },
  {
   "cell_type": "markdown",
   "id": "0cba9811",
   "metadata": {},
   "source": [
    "### A PARTIR DE ACA HAGO CALCULOS CON OTRAS VARIABLES"
   ]
  },
  {
   "cell_type": "code",
   "execution_count": null,
   "id": "c3c00c16",
   "metadata": {},
   "outputs": [],
   "source": [
    "#%% Abro datos y los acomodo en diccionario\n",
    "nombres_archivos = os.listdir(ruta_a_archivos)\n",
    "\n",
    "datos_variables = {}\n",
    "for nombre_archivo in nombres_archivos:\n",
    "    data = pd.read_csv(os.path.join(ruta_a_archivos,nombre_archivo), sep=\"\\t\", parse_dates = True, na_values = r\"\\N\")     \n",
    "    data_que_uso = data[[\"fecha\", \"tmax\", \"tmin\", \"tmed\", \"prcp\"]]\n",
    "    data_que_uso.index = pd.to_datetime(data_que_uso[\"fecha\"])\n",
    "    data_que_uso = data_que_uso[[\"tmax\", \"tmin\", \"tmed\", \"prcp\"]]\n",
    "    data_que_uso.index = pd.to_datetime(data_que_uso.index)\n",
    "    id_estacion = data[\"omm_id\"].unique()[0]\n",
    "    datos_variables[id_estacion] = data_que_uso\n",
    "    \n",
    "\n",
    "\n",
    "# chequeo errores indiscutibles\n",
    "# tmax < tmin\n",
    "ides_omm = list(datos_variables.keys())\n",
    "for id_omm in ides_omm:\n",
    "    if sum(datos_variables[id_omm][\"tmax\"] < datos_variables[id_omm][\"tmin\"]) != 0:\n",
    "        print(f\"En la estacion {id_omm} exite el caso tmax < tmin\")\n",
    "\n",
    "# pp < 0\n",
    "for id_omm in ides_omm:\n",
    "    if sum(datos_variables[id_omm][\"prcp\"] < 0) != 0:\n",
    "        print(f\"En la estacion {id_omm} exite el caso prcp < 0\")\n",
    "\n",
    "#chequeo outliers de tmax: distancia 3 desvios estandares (mensuales) de la media (mensual)"
   ]
  },
  {
   "cell_type": "code",
   "execution_count": null,
   "id": "1f17d245",
   "metadata": {},
   "outputs": [],
   "source": [
    "*Calculo media mensual de Tmax y Tmin y de PP*"
   ]
  },
  {
   "cell_type": "code",
   "execution_count": null,
   "id": "c63d5f80",
   "metadata": {},
   "outputs": [],
   "source": [
    "datos_tmin_tmax_medias_mensuales = {}\n",
    "datos_pp_acum_mensual = {}\n",
    "\n",
    "for id_omm in ides_omm:\n",
    "    datos_tmin_tmax_medias_mensuales[id_omm] = datos_variables[id_omm][[\"tmax\", \"tmin\"]].groupby(pd.Grouper(freq='M')).mean()\n",
    "    datos_pp_acum_mensual[id_omm] = datos_variables[id_omm][\"prcp\"].groupby(pd.Grouper(freq='M')).sum()"
   ]
  },
  {
   "cell_type": "markdown",
   "id": "75751547",
   "metadata": {},
   "source": [
    "*Calculo la climatología (el valor medio del dato mensual) usando el mismo periodo de referencia que para nubosidad*"
   ]
  },
  {
   "cell_type": "code",
   "execution_count": null,
   "id": "b7d3de67",
   "metadata": {},
   "outputs": [],
   "source": [
    "#climatologia: periodo comun con satelite (Diciembre 1983 a Noviembre 2016)\n",
    "fecha_inicio_climatologia_str = \"1983-12-15\"\n",
    "fecha_final_climatologia_str = \"2016-11-15\""
   ]
  },
  {
   "cell_type": "code",
   "execution_count": null,
   "id": "e88634d8",
   "metadata": {},
   "outputs": [],
   "source": [
    "tmin_tmax_medias_mensuales_climatologia = {}\n",
    "pp_acum_mensual_climatologia = {}\n",
    "\n",
    "for id_omm in ides_omm:\n",
    "    tmin_tmax_mensuales_fechas_climatologia = datos_tmin_tmax_medias_mensuales[id_omm].loc[fecha_inicio_climatologia_str:fecha_final_climatologia_str]\n",
    "    tmin_tmax_mensuales_climatologia = tmin_tmax_mensuales_fechas_climatologia.groupby(tmin_tmax_mensuales_fechas_climatologia.index.month).mean()\n",
    "    tmin_tmax_medias_mensuales_climatologia[id_omm] = tmin_tmax_mensuales_climatologia\n",
    "    \n",
    "    pp_mensual_fechas_climatologia = datos_pp_acum_mensual[id_omm].loc[fecha_inicio_climatologia_str:fecha_final_climatologia_str]\n",
    "    pp_mensual_climatologia = pp_mensual_fechas_climatologia.groupby(pp_mensual_fechas_climatologia.index.month).mean()\n",
    "    pp_acum_mensual_climatologia[id_omm] = pp_mensual_climatologia"
   ]
  },
  {
   "cell_type": "markdown",
   "id": "b6029786",
   "metadata": {},
   "source": [
    "*Calculo anomalias*"
   ]
  },
  {
   "cell_type": "code",
   "execution_count": null,
   "id": "c8a0700e",
   "metadata": {},
   "outputs": [],
   "source": [
    "tmin_tmax_medias_mensuales_anomalias = {}\n",
    "pp_acum_mensual_anomalias = {}\n",
    "\n",
    "for id_omm in ides_omm:\n",
    "    tmax_tmin_anomalias_mensuales  = f_serie_anomalias_mensuales(datos_tmin_tmax_medias_mensuales[id_omm], tmin_tmax_medias_mensuales_climatologia[id_omm])\n",
    "    tmin_tmax_medias_mensuales_anomalias[id_omm] = tmax_tmin_anomalias_mensuales\n",
    "    pp_anomalias_mensuales  = f_serie_anomalias_mensuales(datos_pp_acum_mensual[id_omm], pp_acum_mensual_climatologia[id_omm])\n",
    "    pp_acum_mensual_anomalias[id_omm] = pp_anomalias_mensuales"
   ]
  },
  {
   "cell_type": "markdown",
   "id": "d89e3278",
   "metadata": {},
   "source": [
    "*Calculo tendencias y las acomodo en una tabla*"
   ]
  },
  {
   "cell_type": "code",
   "execution_count": null,
   "id": "656654a0",
   "metadata": {},
   "outputs": [],
   "source": [
    "def f_tabla_tendencias_tmin_tmax_pp(diccionario_anomalias_tmax_tmin, diccionario_anomalias_pp ,\n",
    "                                    fecha_inicio_str, fecha_final_str, \n",
    "                                    estaciones_ordenadas, ides_omm_ordenado):\n",
    "    \n",
    "    numRows = len(ides_omm_ordenado)\n",
    "    numCols = 3\n",
    "\n",
    "    tabla_tendencias = pd.DataFrame(index=range(numRows),columns=range(numCols))\n",
    "    tabla_tendencias_significativas = pd.DataFrame(index=range(numRows),columns=range(numCols))\n",
    "    \n",
    "    for j, id_omm in enumerate(ides_omm_ordenado):\n",
    "\n",
    "        df_anomalias_tmin = diccionario_anomalias_tmax_tmin[id_omm][\"tmin\"].loc[fecha_inicio_str:fecha_final_str]\n",
    "        df_anomalias_tmax = diccionario_anomalias_tmax_tmin[id_omm][\"tmax\"].loc[fecha_inicio_str:fecha_final_str]\n",
    "        df_anomalias_pp = diccionario_anomalias_pp[id_omm].loc[fecha_inicio_str:fecha_final_str]\n",
    "\n",
    "        #tmin\n",
    "        tendencia_tmin = tendencia_theil_sen(df_anomalias_tmin)\n",
    "        pendiente_tmin = tendencia_tmin[1]*10*12 #decadal\n",
    "        significativo_tmin = tendencia_tmin[2]\n",
    "        tabla_tendencias.iloc[j,0] = round(pendiente_tmin, 2) #filas, columnas\n",
    "        tabla_tendencias_significativas.iloc[j,0] = significativo_tmin\n",
    "        \n",
    "        #tmax\n",
    "        tendencia_tmax = tendencia_theil_sen(df_anomalias_tmax)\n",
    "        pendiente_tmax = tendencia_tmax[1]*10*12 #decadal\n",
    "        significativo_tmax = tendencia_tmax[2]\n",
    "        tabla_tendencias.iloc[j,1] = round(pendiente_tmax, 2) #filas, columnas\n",
    "        tabla_tendencias_significativas.iloc[j,1] = significativo_tmax\n",
    "\n",
    "        #pp\n",
    "        tendencia_pp = tendencia_theil_sen(df_anomalias_pp)\n",
    "        pendiente_pp = tendencia_pp[1]*10*12 #decadal\n",
    "        significativo_pp = tendencia_pp[2]\n",
    "        tabla_tendencias.iloc[j,2] = round(pendiente_pp, 2) #filas, columnas\n",
    "        tabla_tendencias_significativas.iloc[j,2] = significativo_pp\n",
    "\n",
    "\n",
    "    tabla_tendencias.index =  list(estaciones_ordenadas.values())\n",
    "    tabla_tendencias.columns = [\"tmin\", \"tmax\", \"pp\"]\n",
    "    tabla_tendencias_significativas.index = list(estaciones_ordenadas.values())\n",
    "    tabla_tendencias_significativas.columns = [\"tmin\", \"tmax\", \"pp\"]\n",
    "    #guardo\n",
    "    tabla_tendencias.to_excel(f\"tabla_tendencias_tmax_tmin_pp_{fecha_inicio_str}_{fecha_final_str}.xlsx\")\n",
    "    tabla_tendencias_significativas.to_excel(f\"tabla_tendencias_significativas_tmax_tmin_pp_{fecha_inicio_str}_{fecha_final_str}.xlsx\")\n",
    "    print(tabla_tendencias)\n",
    "    print(tabla_tendencias_significativas)\n",
    "    return(print(f\"Se generaron tablas de tendencias de tmax, tmin y pp para el periodo {fecha_inicio_str}_{fecha_final_str}\"))\n"
   ]
  },
  {
   "cell_type": "code",
   "execution_count": null,
   "id": "0295ecb6",
   "metadata": {},
   "outputs": [],
   "source": [
    "periodo_satelite = True\n",
    "periodo_completo = False\n",
    "\n",
    "fecha_inicio_str = \"1983-12-15\"\n",
    "fecha_final_str = \"2016-11-15\"\n",
    "\n",
    "#fecha_inicio_str = \"1961-01-01\" \n",
    "#fecha_final_str = \"2020-12-31\" \n",
    "\n",
    "f_tabla_tendencias_tmin_tmax_pp(tmin_tmax_medias_mensuales_anomalias, pp_acum_mensual_anomalias ,\n",
    "                                fecha_inicio_str, fecha_final_str, \n",
    "                                estaciones_ordenadas, ides_omm_ordenado)"
   ]
  },
  {
   "cell_type": "code",
   "execution_count": null,
   "id": "23cb21b3",
   "metadata": {},
   "outputs": [],
   "source": [
    "periodo_satelite = False\n",
    "periodo_completo = True\n",
    "\n",
    "#fecha_inicio_str = \"1983-12-15\"\n",
    "#fecha_final_str = \"2016-11-15\"\n",
    "\n",
    "fecha_inicio_str = \"1961-01-01\" \n",
    "fecha_final_str = \"2020-12-31\" \n",
    "\n",
    "f_tabla_tendencias_tmin_tmax_pp(tmin_tmax_medias_mensuales_anomalias, pp_acum_mensual_anomalias ,\n",
    "                                fecha_inicio_str, fecha_final_str, \n",
    "                                estaciones_ordenadas, ides_omm_ordenado)"
   ]
  },
  {
   "cell_type": "markdown",
   "id": "7a30ebb6",
   "metadata": {},
   "source": [
    "**Lo hago por estacion**"
   ]
  },
  {
   "cell_type": "code",
   "execution_count": null,
   "id": "ee7b0c57",
   "metadata": {},
   "outputs": [],
   "source": [
    "freqs_relativas_anomalias_estacionales_todas_las_estaciones = {}\n",
    "\n",
    "tmin_tmax_medias_mensuales_anomalias_por_estacion = {}\n",
    "pp_acum_mensual_anomalias_por_estacion = {}\n",
    "\n",
    "\n",
    "for id_omm in ides_omm_ordenado:\n",
    "    tmin_medias_mensuales_anomalias_estacionales = {}\n",
    "    df_data_tmin = tmin_tmax_medias_mensuales_anomalias[id_omm][\"tmin\"]\n",
    "    \n",
    "    tmax_medias_mensuales_anomalias_estacionales = {}\n",
    "    df_data_tmax = tmin_tmax_medias_mensuales_anomalias[id_omm][\"tmax\"]\n",
    "    \n",
    "    pp_acum_mensual_anomalias_estacionales = {}\n",
    "    df_data_pp = pp_acum_mensual_anomalias[id_omm]\n",
    "\n",
    "    for estacion in [\"DJF\", \"MAM\", \"JJA\", \"SON\"]:\n",
    "        freq_tmin = []\n",
    "        freq_tmax = []\n",
    "        freq_pp = []\n",
    "        freqs_relativas_anomalias_estacional = [freq_tmin, freq_tmax, freq_pp]\n",
    "        \n",
    "        #tmin\n",
    "        for anio in df_data_tmin.index.year.unique():#iterar sobre los anios\n",
    "\n",
    "                data = df_data_tmin.loc[str(anio)]\n",
    "\n",
    "                if estacion == \"DJF\":\n",
    "                    if anio == df_data_tmin.index.year[0]:\n",
    "                        data_estacion = np.nan\n",
    "                    else:\n",
    "                        data_anio_previo = df_data_tmin.loc[str(anio-1)]\n",
    "                        data_estacion = pd.concat([data_anio_previo[data_anio_previo.index.month == 12],\n",
    "                                                   data[data.index.month ==1],data[data.index.month == 2]])\n",
    "                        media_estacion = data_estacion.mean(axis = 0)\n",
    "\n",
    "                elif estacion == \"MAM\":\n",
    "                    data_estacion = pd.concat([data[data.index.month == 3],data[data.index.month == 4],data[data.index.month == 5]])\n",
    "                    media_estacion = data_estacion.mean(axis = 0)\n",
    "\n",
    "                elif estacion == \"JJA\":\n",
    "                    data_estacion = pd.concat([data[data.index.month == 6],data[data.index.month == 7],data[data.index.month == 8]])\n",
    "                    media_estacion = data_estacion.mean(axis = 0)\n",
    "\n",
    "                elif estacion == \"SON\":\n",
    "                    data_estacion = pd.concat([data[data.index.month == 9],data[data.index.month == 10],data[data.index.month == 11]])\n",
    "                    media_estacion = data_estacion.mean(axis = 0)\n",
    "\n",
    "                if type(data_estacion) == pd.DataFrame :\n",
    "                    freqs_relativas_anomalias_estacional[i].append(media_estacion.loc[str(i)])\n",
    "\n",
    "        if estacion == \"DJF\":\n",
    "            indices = df_data_tmin.index.year.unique()[1: len(df_data_tmin.index.year.unique())] #se saca el primer año\n",
    "        else:\n",
    "            indices = df_data_tmin.index.year.unique()\n",
    "\n",
    "\n",
    "        freqs_relativas_anomalias_estacional_df = pd.DataFrame(freqs_relativas_anomalias_estacional).T\n",
    "        freqs_relativas_anomalias_estacional_df.index = indices\n",
    "        freqs_relativas_anomalias_estacionales[estacion] = freqs_relativas_anomalias_estacional_df\n",
    "    freqs_relativas_anomalias_estacionales_todas_las_estaciones[id_omm] = freqs_relativas_anomalias_estacionales"
   ]
  }
 ],
 "metadata": {
  "kernelspec": {
   "display_name": "Python 3 (ipykernel)",
   "language": "python",
   "name": "python3"
  },
  "language_info": {
   "codemirror_mode": {
    "name": "ipython",
    "version": 3
   },
   "file_extension": ".py",
   "mimetype": "text/x-python",
   "name": "python",
   "nbconvert_exporter": "python",
   "pygments_lexer": "ipython3",
   "version": "3.9.1"
  }
 },
 "nbformat": 4,
 "nbformat_minor": 5
}
