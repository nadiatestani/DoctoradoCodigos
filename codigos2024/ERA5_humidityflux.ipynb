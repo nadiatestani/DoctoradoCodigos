{
 "cells": [
  {
   "cell_type": "markdown",
   "metadata": {},
   "source": [
    "Estimate the humidity flux in 850hPa"
   ]
  },
  {
   "cell_type": "code",
   "execution_count": 1,
   "metadata": {},
   "outputs": [],
   "source": [
    "import os\n",
    "import pandas as pd \n",
    "import datetime \n",
    "import numpy as np\n",
    "\n",
    "import iris\n",
    "import iris.coord_categorisation\n",
    "\n",
    "import scipy\n",
    "from scipy.stats import theilslopes #theil-sen trends\n",
    "from scipy.stats import linregress\n",
    "\n",
    "import f_Iris"
   ]
  },
  {
   "cell_type": "code",
   "execution_count": 2,
   "metadata": {},
   "outputs": [
    {
     "name": "stdout",
     "output_type": "stream",
     "text": [
      "Current working directory: /home/nadia.testani/DoctoradoCodigos/codigos2024\n"
     ]
    }
   ],
   "source": [
    "# directories\n",
    "cwd = os.getcwd()\n",
    "print(\"Current working directory: {0}\".format(cwd))\n",
    "\n",
    "#si estoy trabajando desde el servidor vegeta\n",
    "ruta_a_archivos_ERA5_mensual = \"/pikachu/datos/nadia.testani/Doctorado/datos/ERA5/mon/SAm\" #ruta donde estan los archivos con datos de ERA5\n",
    "ruta_a_archivos_ERA5_mensual_ori = \"/datos/ERA5_updated/mon\" #ruta donde estan los archivos con datos de ERA5 originales\n",
    "ruta_a_resultados = \"/pikachu/datos/nadia.testani/Doctorado/resultados/resultados2024\" #ruta donde se guardan los resultados del analisis de nubosidad"
   ]
  },
  {
   "cell_type": "code",
   "execution_count": 3,
   "metadata": {},
   "outputs": [],
   "source": [
    "#humidity = \"ERA5_q850.nc\"\n",
    "\n",
    "file_dir = ruta_a_archivos_ERA5_mensual_ori\n",
    "file_name_wind = \"ERA5_wind850.nc\"\n",
    "file_name_q = \"ERA5_q850.nc\"\n",
    "cube_v = iris.load_cube(f\"{file_dir}/{file_name_wind}\", 'v') \n",
    "cube_u = iris.load_cube(f\"{file_dir}/{file_name_wind}\", 'u') \n",
    "cube_q = iris.load_cube(f\"{file_dir}/{file_name_q}\", 'q') "
   ]
  },
  {
   "cell_type": "code",
   "execution_count": 4,
   "metadata": {},
   "outputs": [],
   "source": [
    "#select region\n",
    "cube_u = cube_u.intersection(\n",
    "            longitude=(-87, -33),\n",
    "            latitude=(-60, 15),\n",
    "            ignore_bounds=True)\n",
    "\n",
    "cube_v = cube_v.intersection(\n",
    "            longitude=(-87, -33),\n",
    "            latitude=(-60, 15),\n",
    "            ignore_bounds=True)\n",
    "\n",
    "cube_q = cube_q.intersection(\n",
    "            longitude=(-87, -33),\n",
    "            latitude=(-60, 15),\n",
    "            ignore_bounds=True)"
   ]
  },
  {
   "cell_type": "code",
   "execution_count": 5,
   "metadata": {},
   "outputs": [],
   "source": [
    "cube_q_u = cube_q * cube_u\n",
    "cube_q_v = cube_q * cube_v"
   ]
  },
  {
   "cell_type": "code",
   "execution_count": 6,
   "metadata": {},
   "outputs": [],
   "source": [
    "#save data\n",
    "iris.save(cube_q_u, f\"{ruta_a_archivos_ERA5_mensual}/ERA5_q_u_850.nc\")\n",
    "iris.save(cube_q_v, f\"{ruta_a_archivos_ERA5_mensual}/ERA5_q_v_850.nc\")"
   ]
  }
 ],
 "metadata": {
  "kernelspec": {
   "display_name": "base_nadia2",
   "language": "python",
   "name": "python3"
  },
  "language_info": {
   "codemirror_mode": {
    "name": "ipython",
    "version": 3
   },
   "file_extension": ".py",
   "mimetype": "text/x-python",
   "name": "python",
   "nbconvert_exporter": "python",
   "pygments_lexer": "ipython3",
   "version": "3.9.18"
  }
 },
 "nbformat": 4,
 "nbformat_minor": 2
}
