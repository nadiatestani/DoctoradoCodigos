{
 "cells": [
  {
   "cell_type": "markdown",
   "metadata": {},
   "source": [
    "Regressions between ERA5 (dif. variables) and Cloud Index (CI) in Corrientes Argentina\n",
    "\n",
    "Preprocessing:\n",
    "1) Generate detrended anomalies of obs data: CI\n",
    "2) Generate detrended anomalies of grid data: ERA5 and ISCCP\n",
    "\n",
    "1--------------------------\n",
    "Las anomalias de CI se generaron asi:\n",
    "\n",
    "* Calculo el CI mensual para los meses con menos del 20% de datos faltantes. Está en: \"/pikachu/datos/nadia.testani/Doctorado/resultados/resultados2021/nubosidad/paper\"\n",
    "* Calculo la media regional\n",
    "* Calculo la tendencia de theil-sen de la media regional\n",
    "* Calculo las anomalias de CI (le resto a las medias mensuales la CI climatologica de cada mes calculada sobre el periodo comun con el satelite: fecha_inicio_climatologia_str = \"1983-12-15\"\n",
    "fecha_final_climatologia_str = \"2016-11-15\")\n",
    "* La serie se guarda en csvs: \"/pikachu/datos/nadia.testani/Doctorado/datos/smn/CI_detrend_anom_ref198312to201611.csv\"\n",
    "\n",
    "2----------------------------\n",
    "ERA5 for Southamerica\n",
    "\n",
    "3----------------------------\n",
    "Cloud amount ISCCP for Southamerica\n",
    "\n",
    "4----------------------------\n",
    "ERA5 Southern Hemisphere\n",
    "\n",
    "-----------------------------\n",
    "\n",
    "5---------------------------\n",
    "SST"
   ]
  },
  {
   "cell_type": "code",
   "execution_count": 1,
   "metadata": {},
   "outputs": [],
   "source": [
    "import os\n",
    "import pandas as pd \n",
    "import datetime \n",
    "import numpy as np\n",
    "\n",
    "import iris\n",
    "import iris.coord_categorisation\n",
    "\n",
    "import scipy\n",
    "from scipy.stats import theilslopes #theil-sen trends\n",
    "from scipy.stats import linregress\n",
    "\n",
    "import f_Iris"
   ]
  },
  {
   "cell_type": "code",
   "execution_count": 2,
   "metadata": {},
   "outputs": [
    {
     "name": "stdout",
     "output_type": "stream",
     "text": [
      "Current working directory: /home/nadia.testani/DoctoradoCodigos/codigos2024\n"
     ]
    }
   ],
   "source": [
    "# directories\n",
    "cwd = os.getcwd()\n",
    "print(\"Current working directory: {0}\".format(cwd))\n",
    "\n",
    "#si estoy trabajando desde el servidor vegeta\n",
    "ruta_a_archivos_ERA5_mensual = \"/pikachu/datos/nadia.testani/Doctorado/datos/ERA5/mon/SAm\" #ruta donde estan los archivos con datos de ERA5\n",
    "ruta_a_archivos_ERA5_mensual_ori = \"/datos/ERA5_updated/mon\" #ruta donde estan los archivos con datos de ERA5 originales\n",
    "ruta_a_archivos_CI = \"/pikachu/datos/nadia.testani/Doctorado/resultados/resultados2021/nubosidad/paper\"\n",
    "ruta_a_archivos_smn = \"/pikachu/datos/nadia.testani/Doctorado/datos/smn\"\n",
    "ruta_a_archivos_ISCCP = \"/pikachu/datos2/isccp-h/HGM\"\n",
    "ruta_a_resultados = \"/pikachu/datos/nadia.testani/Doctorado/resultados/resultados2024\" #ruta donde se guardan los resultados del analisis de nubosidad\n",
    "ruta_a_archivos_SST = \"/datos/OBS/SST/ERSSTV5\" #en vegeta"
   ]
  },
  {
   "cell_type": "code",
   "execution_count": 3,
   "metadata": {},
   "outputs": [],
   "source": [
    "#functions\n",
    "\n",
    "#filter theil-sen trend\n",
    "def calculate_theilsen_slope(y):\n",
    "    slope, intercept, _, _ = theilslopes(y, range(len(y)), alpha=0.95)\n",
    "    return slope, intercept\n",
    "\n",
    "#estimate anomalies\n",
    "def f_serie_anomalias_mensuales(serie, serie_climatologia):\n",
    "    serie_anomalia = serie.copy()\n",
    "    for fecha in serie_anomalia.index:\n",
    "        for mes in serie_anomalia.index.month.unique():\n",
    "            if fecha.month == mes:\n",
    "                serie_anomalia.loc[fecha] = serie.loc[fecha]-serie_climatologia.loc[mes]\n",
    "    return serie_anomalia"
   ]
  },
  {
   "cell_type": "code",
   "execution_count": 4,
   "metadata": {},
   "outputs": [],
   "source": [
    "#clim dates\n",
    "fecha_inicio_climatologia_str = \"1983-12-15\"\n",
    "fecha_final_climatologia_str = \"2016-11-15\""
   ]
  },
  {
   "cell_type": "code",
   "execution_count": 5,
   "metadata": {},
   "outputs": [],
   "source": [
    "# 1.1) Cloud Index\n",
    "CI = pd.read_csv(f\"{ruta_a_archivos_CI}/TCC_monthly_CI_SMN.csv\") #from 1961-01-01 until 2021-11-01\n",
    "\n",
    "#set dates as index\n",
    "CI = CI.set_index(CI[\"Unnamed: 0\"]) \n",
    "CI = CI.drop([\"Unnamed: 0\"], axis = 1)\n",
    "CI.index = pd.DatetimeIndex(CI.index)\n",
    "\n",
    "#estimate regional mean\n",
    "CI_regional_mean = CI.mean(axis=1)\n",
    "\n",
    "#detrend\n",
    "CI_detrend = CI_regional_mean.copy()\n",
    "trend = calculate_theilsen_slope(CI_detrend.values)[0] * np.arange(len(CI_detrend)) + calculate_theilsen_slope(CI_detrend.values)[1]\n",
    "CI_detrend = CI_detrend - trend\n",
    "\n",
    "#estimate climatology\n",
    "CI_detrend_fechas_climatologia = CI_detrend.loc[fecha_inicio_climatologia_str:fecha_final_climatologia_str]\n",
    "CI_detrend_climatologia = CI_detrend_fechas_climatologia.groupby(CI_detrend_fechas_climatologia.index.month).mean() \n",
    "\n",
    "#estimate anomalies\n",
    "CI_detrend_anom = f_serie_anomalias_mensuales(CI_detrend, CI_detrend_climatologia)\n",
    "\n",
    "#save\n",
    "CI_detrend_anom.to_csv(f\"{ruta_a_archivos_smn}/CI_detrend_anom_ref198312to201611.csv\")\n",
    "\n",
    "#CI dates\n",
    "date_i_CI = CI_detrend_anom.index[0]\n",
    "date_f_CI = CI_detrend_anom.index[-1]"
   ]
  },
  {
   "cell_type": "code",
   "execution_count": 9,
   "metadata": {},
   "outputs": [
    {
     "name": "stderr",
     "output_type": "stream",
     "text": [
      "/home/nadia.testani/.local/lib/python3.9/site-packages/numpy/core/fromnumeric.py:3504: RuntimeWarning: Mean of empty slice.\n",
      "  return _methods._mean(a, axis=axis, dtype=dtype,\n",
      "/home/nadia.testani/.local/lib/python3.9/site-packages/numpy/core/_methods.py:129: RuntimeWarning: invalid value encountered in scalar divide\n",
      "  ret = ret.dtype.type(ret / rcount)\n"
     ]
    }
   ],
   "source": [
    "# 2.1) ERA5 2-meters temperature \n",
    "file_dir = ruta_a_archivos_ERA5_mensual\n",
    "file_name = \"new_data.nc\"\n",
    "variable_name = 't2m'\n",
    "cube = iris.load_cube(f\"{file_dir}/{file_name}\", variable_name) \n",
    "cube = cube[:,0,:,:] #select expver=1\n",
    "\n",
    "#select dates: common period with CI\n",
    "cube_CIdates = f_Iris.clip_timerange(cube, f\"{str(date_i_CI)[0:10]}/{str(date_f_CI)[0:10]}\")\n",
    "cube_Climdates = f_Iris.clip_timerange(cube, f\"{str(fecha_inicio_climatologia_str)[0:10]}/{str(fecha_final_climatologia_str)[0:10]}\")\n",
    "\n",
    "#detrend\n",
    "cube_CIdates_detrend = f_Iris.detrend_theil_sen_cube(cube_CIdates, dimension='time', method='linear')\n",
    "cube_CIdates_detrend.data[:,4,5]\n",
    "iris.save(cube_CIdates_detrend, f\"{ruta_a_archivos_ERA5_mensual}/{variable_name}_detrend.nc\")\n",
    "\n",
    "#anomalies \n",
    "cube_Climdates_detrend = f_Iris.clip_timerange(cube_CIdates_detrend, f\"{str(fecha_inicio_climatologia_str)[0:10]}/{str(fecha_final_climatologia_str)[0:10]}\")\n",
    "\n",
    "iris.coord_categorisation.add_month(cube_CIdates_detrend, 'time', name='month')\n",
    "iris.coord_categorisation.add_month(cube_Climdates_detrend, 'time', name='month')\n",
    "\n",
    "monthly_means = cube_Climdates_detrend.aggregated_by('month', iris.analysis.MEAN)\n",
    "\n",
    "reps = (cube_CIdates_detrend.shape[0]+1)/12  #sum 1 because the last year is not complete\n",
    "clim_array = np.repeat(monthly_means.data, reps, axis=0)\n",
    "clim_array = clim_array[0:cube_CIdates_detrend.shape[0],:,:]\n",
    "cube_detrend_anoms = cube_CIdates_detrend - clim_array\n",
    "iris.save(cube_detrend_anoms, f\"{ruta_a_archivos_ERA5_mensual}/{variable_name}_detrend_anoms.nc\")"
   ]
  },
  {
   "cell_type": "code",
   "execution_count": 10,
   "metadata": {},
   "outputs": [
    {
     "name": "stderr",
     "output_type": "stream",
     "text": [
      "/home/nadia.testani/.local/lib/python3.9/site-packages/numpy/core/fromnumeric.py:3504: RuntimeWarning: Mean of empty slice.\n",
      "  return _methods._mean(a, axis=axis, dtype=dtype,\n",
      "/home/nadia.testani/.local/lib/python3.9/site-packages/numpy/core/_methods.py:129: RuntimeWarning: invalid value encountered in scalar divide\n",
      "  ret = ret.dtype.type(ret / rcount)\n"
     ]
    }
   ],
   "source": [
    "# 2.2) ERA5 total precipitation\n",
    "file_dir = ruta_a_archivos_ERA5_mensual\n",
    "file_name = \"new_data.nc\"\n",
    "variable_name = 'tp'\n",
    "cube = iris.load_cube(f\"{file_dir}/{file_name}\", variable_name) \n",
    "cube = cube[:,0,:,:] #select expver=1\n",
    "\n",
    "#select dates: common period with CI\n",
    "cube_CIdates = f_Iris.clip_timerange(cube, f\"{str(date_i_CI)[0:10]}/{str(date_f_CI)[0:10]}\")\n",
    "cube_Climdates = f_Iris.clip_timerange(cube, f\"{str(fecha_inicio_climatologia_str)[0:10]}/{str(fecha_final_climatologia_str)[0:10]}\")\n",
    "\n",
    "#detrend\n",
    "cube_CIdates_detrend = f_Iris.detrend_theil_sen_cube(cube_CIdates, dimension='time', method='linear')\n",
    "cube_CIdates_detrend.data[:,4,5]\n",
    "iris.save(cube_CIdates_detrend, f\"{ruta_a_archivos_ERA5_mensual}/{variable_name}_detrend.nc\")\n",
    "\n",
    "#anomalies \n",
    "cube_Climdates_detrend = f_Iris.clip_timerange(cube_CIdates_detrend, f\"{str(fecha_inicio_climatologia_str)[0:10]}/{str(fecha_final_climatologia_str)[0:10]}\")\n",
    "\n",
    "iris.coord_categorisation.add_month(cube_CIdates_detrend, 'time', name='month')\n",
    "iris.coord_categorisation.add_month(cube_Climdates_detrend, 'time', name='month')\n",
    "\n",
    "monthly_means = cube_Climdates_detrend.aggregated_by('month', iris.analysis.MEAN)\n",
    "\n",
    "reps = (cube_CIdates_detrend.shape[0]+1)/12  #sum 1 because the last year is not complete\n",
    "clim_array = np.repeat(monthly_means.data, reps, axis=0)\n",
    "clim_array = clim_array[0:cube_CIdates_detrend.shape[0],:,:]\n",
    "cube_detrend_anoms = cube_CIdates_detrend - clim_array\n",
    "iris.save(cube_detrend_anoms, f\"{ruta_a_archivos_ERA5_mensual}/{variable_name}_detrend_anoms.nc\")"
   ]
  },
  {
   "cell_type": "code",
   "execution_count": 11,
   "metadata": {},
   "outputs": [
    {
     "name": "stderr",
     "output_type": "stream",
     "text": [
      "/home/nadia.testani/.local/lib/python3.9/site-packages/numpy/core/fromnumeric.py:3504: RuntimeWarning: Mean of empty slice.\n",
      "  return _methods._mean(a, axis=axis, dtype=dtype,\n",
      "/home/nadia.testani/.local/lib/python3.9/site-packages/numpy/core/_methods.py:129: RuntimeWarning: invalid value encountered in scalar divide\n",
      "  ret = ret.dtype.type(ret / rcount)\n"
     ]
    }
   ],
   "source": [
    "# 2.3) ERA5 mean top net long radiation flux (W*m-2)\n",
    "file_dir = ruta_a_archivos_ERA5_mensual\n",
    "file_name = \"new_data.nc\"\n",
    "variable_name = 'mtnlwrf'\n",
    "cube = iris.load_cube(f\"{file_dir}/{file_name}\", variable_name) \n",
    "cube = cube[:,0,:,:] #select expver=1\n",
    "\n",
    "#select dates: common period with CI\n",
    "cube_CIdates = f_Iris.clip_timerange(cube, f\"{str(date_i_CI)[0:10]}/{str(date_f_CI)[0:10]}\")\n",
    "cube_Climdates = f_Iris.clip_timerange(cube, f\"{str(fecha_inicio_climatologia_str)[0:10]}/{str(fecha_final_climatologia_str)[0:10]}\")\n",
    "\n",
    "#detrend\n",
    "cube_CIdates_detrend = f_Iris.detrend_theil_sen_cube(cube_CIdates, dimension='time', method='linear')\n",
    "cube_CIdates_detrend.data[:,4,5]\n",
    "iris.save(cube_CIdates_detrend, f\"{ruta_a_archivos_ERA5_mensual}/{variable_name}_detrend.nc\")\n",
    "\n",
    "#anomalies \n",
    "cube_Climdates_detrend = f_Iris.clip_timerange(cube_CIdates_detrend, f\"{str(fecha_inicio_climatologia_str)[0:10]}/{str(fecha_final_climatologia_str)[0:10]}\")\n",
    "\n",
    "iris.coord_categorisation.add_month(cube_CIdates_detrend, 'time', name='month')\n",
    "iris.coord_categorisation.add_month(cube_Climdates_detrend, 'time', name='month')\n",
    "\n",
    "monthly_means = cube_Climdates_detrend.aggregated_by('month', iris.analysis.MEAN)\n",
    "\n",
    "reps = (cube_CIdates_detrend.shape[0]+1)/12  #sum 1 because the last year is not complete\n",
    "clim_array = np.repeat(monthly_means.data, reps, axis=0)\n",
    "clim_array = clim_array[0:cube_CIdates_detrend.shape[0],:,:]\n",
    "cube_detrend_anoms = cube_CIdates_detrend - clim_array\n",
    "iris.save(cube_detrend_anoms, f\"{ruta_a_archivos_ERA5_mensual}/{variable_name}_detrend_anoms.nc\")"
   ]
  },
  {
   "cell_type": "code",
   "execution_count": 12,
   "metadata": {},
   "outputs": [
    {
     "name": "stderr",
     "output_type": "stream",
     "text": [
      "/home/nadia.testani/.local/lib/python3.9/site-packages/numpy/core/fromnumeric.py:3504: RuntimeWarning: Mean of empty slice.\n",
      "  return _methods._mean(a, axis=axis, dtype=dtype,\n",
      "/home/nadia.testani/.local/lib/python3.9/site-packages/numpy/core/_methods.py:129: RuntimeWarning: invalid value encountered in scalar divide\n",
      "  ret = ret.dtype.type(ret / rcount)\n"
     ]
    }
   ],
   "source": [
    "# 2.4) ERA5 vertically integrated moisture divergence (kg m**-2)\n",
    "file_dir = ruta_a_archivos_ERA5_mensual\n",
    "file_name = \"new_data.nc\"\n",
    "variable_name = 'mvimd'\n",
    "cube = iris.load_cube(f\"{file_dir}/{file_name}\", variable_name) \n",
    "cube = cube[:,0,:,:] #select expver=1\n",
    "\n",
    "#select dates: common period with CI\n",
    "cube_CIdates = f_Iris.clip_timerange(cube, f\"{str(date_i_CI)[0:10]}/{str(date_f_CI)[0:10]}\")\n",
    "cube_Climdates = f_Iris.clip_timerange(cube, f\"{str(fecha_inicio_climatologia_str)[0:10]}/{str(fecha_final_climatologia_str)[0:10]}\")\n",
    "\n",
    "#detrend\n",
    "cube_CIdates_detrend = f_Iris.detrend_theil_sen_cube(cube_CIdates, dimension='time', method='linear')\n",
    "cube_CIdates_detrend.data[:,4,5]\n",
    "iris.save(cube_CIdates_detrend, f\"{ruta_a_archivos_ERA5_mensual}/{variable_name}_detrend.nc\")\n",
    "\n",
    "#anomalies \n",
    "cube_Climdates_detrend = f_Iris.clip_timerange(cube_CIdates_detrend, f\"{str(fecha_inicio_climatologia_str)[0:10]}/{str(fecha_final_climatologia_str)[0:10]}\")\n",
    "\n",
    "iris.coord_categorisation.add_month(cube_CIdates_detrend, 'time', name='month')\n",
    "iris.coord_categorisation.add_month(cube_Climdates_detrend, 'time', name='month')\n",
    "\n",
    "monthly_means = cube_Climdates_detrend.aggregated_by('month', iris.analysis.MEAN)\n",
    "\n",
    "reps = (cube_CIdates_detrend.shape[0]+1)/12  #sum 1 because the last year is not complete\n",
    "clim_array = np.repeat(monthly_means.data, reps, axis=0)\n",
    "clim_array = clim_array[0:cube_CIdates_detrend.shape[0],:,:]\n",
    "cube_detrend_anoms = cube_CIdates_detrend - clim_array\n",
    "iris.save(cube_detrend_anoms, f\"{ruta_a_archivos_ERA5_mensual}/{variable_name}_detrend_anoms.nc\")"
   ]
  },
  {
   "cell_type": "code",
   "execution_count": 13,
   "metadata": {},
   "outputs": [
    {
     "name": "stderr",
     "output_type": "stream",
     "text": [
      "/home/nadia.testani/.local/lib/python3.9/site-packages/numpy/core/fromnumeric.py:3504: RuntimeWarning: Mean of empty slice.\n",
      "  return _methods._mean(a, axis=axis, dtype=dtype,\n",
      "/home/nadia.testani/.local/lib/python3.9/site-packages/numpy/core/_methods.py:129: RuntimeWarning: invalid value encountered in scalar divide\n",
      "  ret = ret.dtype.type(ret / rcount)\n"
     ]
    }
   ],
   "source": [
    "# 2.5) ERA5 omega \n",
    "file_dir = ruta_a_archivos_ERA5_mensual_ori\n",
    "file_name = \"ERA5_w700.nc\"\n",
    "variable_name = 'w'\n",
    "cube = iris.load_cube(f\"{file_dir}/{file_name}\", variable_name) \n",
    "\n",
    "#select region\n",
    "cube = cube.intersection(\n",
    "            longitude=(-87, -33),\n",
    "            latitude=(-60, 15),\n",
    "            ignore_bounds=True)\n",
    "\n",
    "#select dates: common period with CI\n",
    "cube_CIdates = f_Iris.clip_timerange(cube, f\"{str(date_i_CI)[0:10]}/{str(date_f_CI)[0:10]}\")\n",
    "cube_Climdates = f_Iris.clip_timerange(cube, f\"{str(fecha_inicio_climatologia_str)[0:10]}/{str(fecha_final_climatologia_str)[0:10]}\")\n",
    "\n",
    "#detrend\n",
    "cube_CIdates_detrend = f_Iris.detrend_theil_sen_cube(cube_CIdates, dimension='time', method='linear')\n",
    "cube_CIdates_detrend.data[:,4,5]\n",
    "iris.save(cube_CIdates_detrend, f\"{ruta_a_archivos_ERA5_mensual}/{variable_name}_detrend.nc\")\n",
    "\n",
    "#anomalies \n",
    "cube_Climdates_detrend = f_Iris.clip_timerange(cube_CIdates_detrend, f\"{str(fecha_inicio_climatologia_str)[0:10]}/{str(fecha_final_climatologia_str)[0:10]}\")\n",
    "\n",
    "iris.coord_categorisation.add_month(cube_CIdates_detrend, 'time', name='month')\n",
    "iris.coord_categorisation.add_month(cube_Climdates_detrend, 'time', name='month')\n",
    "\n",
    "monthly_means = cube_Climdates_detrend.aggregated_by('month', iris.analysis.MEAN)\n",
    "\n",
    "reps = (cube_CIdates_detrend.shape[0]+1)/12  #sum 1 because the last year is not complete\n",
    "clim_array = np.repeat(monthly_means.data, reps, axis=0)\n",
    "clim_array = clim_array[0:cube_CIdates_detrend.shape[0],:,:]\n",
    "cube_detrend_anoms = cube_CIdates_detrend - clim_array\n",
    "iris.save(cube_detrend_anoms, f\"{ruta_a_archivos_ERA5_mensual}/{variable_name}_detrend_anoms.nc\")"
   ]
  },
  {
   "cell_type": "code",
   "execution_count": 14,
   "metadata": {},
   "outputs": [
    {
     "name": "stderr",
     "output_type": "stream",
     "text": [
      "/home/nadia.testani/.local/lib/python3.9/site-packages/numpy/core/fromnumeric.py:3504: RuntimeWarning: Mean of empty slice.\n",
      "  return _methods._mean(a, axis=axis, dtype=dtype,\n",
      "/home/nadia.testani/.local/lib/python3.9/site-packages/numpy/core/_methods.py:129: RuntimeWarning: invalid value encountered in scalar divide\n",
      "  ret = ret.dtype.type(ret / rcount)\n"
     ]
    }
   ],
   "source": [
    "# 2.6) ERA5 q850\n",
    "file_dir = ruta_a_archivos_ERA5_mensual_ori\n",
    "file_name = \"ERA5_q850.nc\"\n",
    "variable_name = 'q'\n",
    "cube = iris.load_cube(f\"{file_dir}/{file_name}\", variable_name) \n",
    "\n",
    "#select region\n",
    "cube = cube.intersection(\n",
    "            longitude=(-87, -33),\n",
    "            latitude=(-60, 15),\n",
    "            ignore_bounds=True)\n",
    "\n",
    "#select dates: common period with CI\n",
    "cube_CIdates = f_Iris.clip_timerange(cube, f\"{str(date_i_CI)[0:10]}/{str(date_f_CI)[0:10]}\")\n",
    "cube_Climdates = f_Iris.clip_timerange(cube, f\"{str(fecha_inicio_climatologia_str)[0:10]}/{str(fecha_final_climatologia_str)[0:10]}\")\n",
    "\n",
    "#detrend\n",
    "cube_CIdates_detrend = f_Iris.detrend_theil_sen_cube(cube_CIdates, dimension='time', method='linear')\n",
    "cube_CIdates_detrend.data[:,4,5]\n",
    "iris.save(cube_CIdates_detrend, f\"{ruta_a_archivos_ERA5_mensual}/{variable_name}_detrend.nc\")\n",
    "\n",
    "#anomalies \n",
    "cube_Climdates_detrend = f_Iris.clip_timerange(cube_CIdates_detrend, f\"{str(fecha_inicio_climatologia_str)[0:10]}/{str(fecha_final_climatologia_str)[0:10]}\")\n",
    "\n",
    "iris.coord_categorisation.add_month(cube_CIdates_detrend, 'time', name='month')\n",
    "iris.coord_categorisation.add_month(cube_Climdates_detrend, 'time', name='month')\n",
    "\n",
    "monthly_means = cube_Climdates_detrend.aggregated_by('month', iris.analysis.MEAN)\n",
    "\n",
    "reps = (cube_CIdates_detrend.shape[0]+1)/12  #sum 1 because the last year is not complete\n",
    "clim_array = np.repeat(monthly_means.data, reps, axis=0)\n",
    "clim_array = clim_array[0:cube_CIdates_detrend.shape[0],:,:]\n",
    "cube_detrend_anoms = cube_CIdates_detrend - clim_array\n",
    "iris.save(cube_detrend_anoms, f\"{ruta_a_archivos_ERA5_mensual}/{variable_name}_detrend_anoms.nc\")\n"
   ]
  },
  {
   "cell_type": "code",
   "execution_count": 6,
   "metadata": {},
   "outputs": [
    {
     "name": "stderr",
     "output_type": "stream",
     "text": [
      "/home/nadia.testani/.local/lib/python3.9/site-packages/numpy/core/fromnumeric.py:3504: RuntimeWarning: Mean of empty slice.\n",
      "  return _methods._mean(a, axis=axis, dtype=dtype,\n",
      "/home/nadia.testani/.local/lib/python3.9/site-packages/numpy/core/_methods.py:129: RuntimeWarning: invalid value encountered in scalar divide\n",
      "  ret = ret.dtype.type(ret / rcount)\n"
     ]
    }
   ],
   "source": [
    "# 2.6.1) ERA5 q850*u \n",
    "file_dir = ruta_a_archivos_ERA5_mensual\n",
    "file_name = \"ERA5_q_u_850.nc\"\n",
    "variable_name = \"q_u\"\n",
    "cube = iris.load_cube(f\"{file_dir}/{file_name}\") \n",
    "\n",
    "#select dates: common period with CI\n",
    "cube_CIdates = f_Iris.clip_timerange(cube, f\"{str(date_i_CI)[0:10]}/{str(date_f_CI)[0:10]}\")\n",
    "cube_Climdates = f_Iris.clip_timerange(cube, f\"{str(fecha_inicio_climatologia_str)[0:10]}/{str(fecha_final_climatologia_str)[0:10]}\")\n",
    "\n",
    "#detrend\n",
    "cube_CIdates_detrend = f_Iris.detrend_theil_sen_cube(cube_CIdates, dimension='time', method='linear')\n",
    "cube_CIdates_detrend.data[:,4,5]\n",
    "iris.save(cube_CIdates_detrend, f\"{ruta_a_archivos_ERA5_mensual}/{variable_name}_detrend.nc\")\n",
    "\n",
    "#anomalies \n",
    "cube_Climdates_detrend = f_Iris.clip_timerange(cube_CIdates_detrend, f\"{str(fecha_inicio_climatologia_str)[0:10]}/{str(fecha_final_climatologia_str)[0:10]}\")\n",
    "\n",
    "iris.coord_categorisation.add_month(cube_CIdates_detrend, 'time', name='month')\n",
    "iris.coord_categorisation.add_month(cube_Climdates_detrend, 'time', name='month')\n",
    "\n",
    "monthly_means = cube_Climdates_detrend.aggregated_by('month', iris.analysis.MEAN)\n",
    "\n",
    "reps = (cube_CIdates_detrend.shape[0]+1)/12  #sum 1 because the last year is not complete\n",
    "clim_array = np.repeat(monthly_means.data, reps, axis=0)\n",
    "clim_array = clim_array[0:cube_CIdates_detrend.shape[0],:,:]\n",
    "cube_detrend_anoms = cube_CIdates_detrend - clim_array\n",
    "iris.save(cube_detrend_anoms, f\"{ruta_a_archivos_ERA5_mensual}/{variable_name}_detrend_anoms.nc\")\n"
   ]
  },
  {
   "cell_type": "code",
   "execution_count": 7,
   "metadata": {},
   "outputs": [
    {
     "name": "stderr",
     "output_type": "stream",
     "text": [
      "/home/nadia.testani/.local/lib/python3.9/site-packages/numpy/core/fromnumeric.py:3504: RuntimeWarning: Mean of empty slice.\n",
      "  return _methods._mean(a, axis=axis, dtype=dtype,\n",
      "/home/nadia.testani/.local/lib/python3.9/site-packages/numpy/core/_methods.py:129: RuntimeWarning: invalid value encountered in scalar divide\n",
      "  ret = ret.dtype.type(ret / rcount)\n"
     ]
    }
   ],
   "source": [
    "# 2.6.2) ERA5 q850*v \n",
    "file_dir = ruta_a_archivos_ERA5_mensual\n",
    "file_name = \"ERA5_q_v_850.nc\"\n",
    "variable_name = \"q_v\"\n",
    "cube = iris.load_cube(f\"{file_dir}/{file_name}\") \n",
    "\n",
    "#select dates: common period with CI\n",
    "cube_CIdates = f_Iris.clip_timerange(cube, f\"{str(date_i_CI)[0:10]}/{str(date_f_CI)[0:10]}\")\n",
    "cube_Climdates = f_Iris.clip_timerange(cube, f\"{str(fecha_inicio_climatologia_str)[0:10]}/{str(fecha_final_climatologia_str)[0:10]}\")\n",
    "\n",
    "#detrend\n",
    "cube_CIdates_detrend = f_Iris.detrend_theil_sen_cube(cube_CIdates, dimension='time', method='linear')\n",
    "cube_CIdates_detrend.data[:,4,5]\n",
    "iris.save(cube_CIdates_detrend, f\"{ruta_a_archivos_ERA5_mensual}/{variable_name}_detrend.nc\")\n",
    "\n",
    "#anomalies \n",
    "cube_Climdates_detrend = f_Iris.clip_timerange(cube_CIdates_detrend, f\"{str(fecha_inicio_climatologia_str)[0:10]}/{str(fecha_final_climatologia_str)[0:10]}\")\n",
    "\n",
    "iris.coord_categorisation.add_month(cube_CIdates_detrend, 'time', name='month')\n",
    "iris.coord_categorisation.add_month(cube_Climdates_detrend, 'time', name='month')\n",
    "\n",
    "monthly_means = cube_Climdates_detrend.aggregated_by('month', iris.analysis.MEAN)\n",
    "\n",
    "reps = (cube_CIdates_detrend.shape[0]+1)/12  #sum 1 because the last year is not complete\n",
    "clim_array = np.repeat(monthly_means.data, reps, axis=0)\n",
    "clim_array = clim_array[0:cube_CIdates_detrend.shape[0],:,:]\n",
    "cube_detrend_anoms = cube_CIdates_detrend - clim_array\n",
    "iris.save(cube_detrend_anoms, f\"{ruta_a_archivos_ERA5_mensual}/{variable_name}_detrend_anoms.nc\")\n"
   ]
  },
  {
   "cell_type": "code",
   "execution_count": 7,
   "metadata": {},
   "outputs": [
    {
     "name": "stderr",
     "output_type": "stream",
     "text": [
      "/home/nadia.testani/miniforge3/envs/base_nadia2/lib/python3.9/site-packages/iris/fileformats/_pyke_rules/compiled_krb/fc_rules_cf_fc.py:2190: UserWarning: Ignoring netCDF variable 'lev_3' invalid units 'level'\n",
      "  warnings.warn(msg)\n",
      "/home/nadia.testani/.local/lib/python3.9/site-packages/numpy/core/fromnumeric.py:3504: RuntimeWarning: Mean of empty slice.\n",
      "  return _methods._mean(a, axis=axis, dtype=dtype,\n",
      "/home/nadia.testani/.local/lib/python3.9/site-packages/numpy/core/_methods.py:129: RuntimeWarning: invalid value encountered in scalar divide\n",
      "  ret = ret.dtype.type(ret / rcount)\n"
     ]
    }
   ],
   "source": [
    "# 2.7) ISCCP-H monthly cloud amount --> this is done with the climatology period \n",
    "\n",
    "file_dir = ruta_a_archivos_ISCCP\n",
    "file_name = \"media_mensual_cldamt_cldamttypes.nc\"\n",
    "variable_name = \"cldamt\"\n",
    "cube = iris.load_cube(f\"{file_dir}/{file_name}\", variable_name) \n",
    "\n",
    "#select region\n",
    "cube = cube.intersection(\n",
    "            longitude=(-87, -33),\n",
    "            latitude=(-60, 15),\n",
    "            ignore_bounds=True)\n",
    "\n",
    "#select dates: climatology dates\n",
    "cube_Climdates = f_Iris.clip_timerange(cube, f\"{str(fecha_inicio_climatologia_str)[0:10]}/{str(fecha_final_climatologia_str)[0:10]}\")\n",
    "\n",
    "#detrend\n",
    "cube_Climdates_detrend = f_Iris.detrend_theil_sen_cube(cube_Climdates, dimension='time', method='linear')\n",
    "cube_Climdates_detrend.data[:,4,5]\n",
    "iris.save(cube_Climdates_detrend, f\"{ruta_a_archivos_ISCCP}/{variable_name}_detrend.nc\")\n",
    "\n",
    "#anomalies \n",
    "cube_Climdates_detrend = f_Iris.clip_timerange(cube_Climdates_detrend, f\"{str(fecha_inicio_climatologia_str)[0:10]}/{str(fecha_final_climatologia_str)[0:10]}\")\n",
    "\n",
    "iris.coord_categorisation.add_month(cube_Climdates_detrend, 'time', name='month')\n",
    "\n",
    "monthly_means = cube_Climdates_detrend.aggregated_by('month', iris.analysis.MEAN)\n",
    "\n",
    "reps = (cube_Climdates_detrend.shape[0]+1)/12  #sum 1 because the last year is not complete\n",
    "clim_array = np.repeat(monthly_means.data, reps, axis=0)\n",
    "clim_array = clim_array[0:cube_Climdates_detrend.shape[0],:,:]\n",
    "cube_detrend_anoms = cube_Climdates_detrend - clim_array\n",
    "iris.save(cube_detrend_anoms, f\"{ruta_a_archivos_ISCCP}/{variable_name}_detrend_anoms.nc\")"
   ]
  },
  {
   "cell_type": "code",
   "execution_count": 16,
   "metadata": {},
   "outputs": [
    {
     "name": "stderr",
     "output_type": "stream",
     "text": [
      "/home/nadia.testani/.local/lib/python3.9/site-packages/numpy/core/fromnumeric.py:3504: RuntimeWarning: Mean of empty slice.\n",
      "  return _methods._mean(a, axis=axis, dtype=dtype,\n",
      "/home/nadia.testani/.local/lib/python3.9/site-packages/numpy/core/_methods.py:129: RuntimeWarning: invalid value encountered in scalar divide\n",
      "  ret = ret.dtype.type(ret / rcount)\n"
     ]
    }
   ],
   "source": [
    "# 3.1) ERA5 geopot. height Southern Hemisphere 200 hPa\n",
    "file_dir = ruta_a_archivos_ERA5_mensual_ori\n",
    "file_name = \"ERA5_zg.nc\"\n",
    "variable_name = 'z'\n",
    "cube = iris.load_cube(f\"{file_dir}/{file_name}\", variable_name) \n",
    "\n",
    "#select region\n",
    "cube = cube.intersection(longitude = (-180,180),\n",
    "            latitude=(-90, 15),\n",
    "            ignore_bounds=True)\n",
    "\n",
    "#200 \n",
    "cube = cube[:,0,:,:] #200 hpa\n",
    "\n",
    "#select dates: common period with CI\n",
    "cube_CIdates = f_Iris.clip_timerange(cube, f\"{str(date_i_CI)[0:10]}/{str(date_f_CI)[0:10]}\")\n",
    "cube_Climdates = f_Iris.clip_timerange(cube, f\"{str(fecha_inicio_climatologia_str)[0:10]}/{str(fecha_final_climatologia_str)[0:10]}\")\n",
    "\n",
    "#detrend\n",
    "cube_CIdates_detrend = f_Iris.detrend_theil_sen_cube(cube_CIdates, dimension='time', method='linear')\n",
    "cube_CIdates_detrend.data[:,4,5]\n",
    "iris.save(cube_CIdates_detrend, f\"{ruta_a_archivos_ERA5_mensual}/{variable_name}_200hPa_detrend.nc\")\n",
    "\n",
    "#anomalies \n",
    "cube_Climdates_detrend = f_Iris.clip_timerange(cube_CIdates_detrend, f\"{str(fecha_inicio_climatologia_str)[0:10]}/{str(fecha_final_climatologia_str)[0:10]}\")\n",
    "\n",
    "iris.coord_categorisation.add_month(cube_CIdates_detrend, 'time', name='month')\n",
    "iris.coord_categorisation.add_month(cube_Climdates_detrend, 'time', name='month')\n",
    "\n",
    "monthly_means = cube_Climdates_detrend.aggregated_by('month', iris.analysis.MEAN)\n",
    "\n",
    "reps = (cube_CIdates_detrend.shape[0]+1)/12  #sum 1 because the last year is not complete\n",
    "clim_array = np.repeat(monthly_means.data, reps, axis=0)\n",
    "clim_array = clim_array[0:cube_CIdates_detrend.shape[0],:,:]\n",
    "cube_detrend_anoms = cube_CIdates_detrend - clim_array\n",
    "iris.save(cube_detrend_anoms, f\"{ruta_a_archivos_ERA5_mensual}/{variable_name}_200hPa_detrend_anoms.nc\")\n"
   ]
  },
  {
   "cell_type": "code",
   "execution_count": 19,
   "metadata": {},
   "outputs": [
    {
     "name": "stderr",
     "output_type": "stream",
     "text": [
      "/home/nadia.testani/.local/lib/python3.9/site-packages/numpy/core/fromnumeric.py:3504: RuntimeWarning: Mean of empty slice.\n",
      "  return _methods._mean(a, axis=axis, dtype=dtype,\n",
      "/home/nadia.testani/.local/lib/python3.9/site-packages/numpy/core/_methods.py:129: RuntimeWarning: invalid value encountered in scalar divide\n",
      "  ret = ret.dtype.type(ret / rcount)\n"
     ]
    },
    {
     "ename": "RuntimeError",
     "evalue": "NetCDF: Not a valid ID",
     "output_type": "error",
     "traceback": [
      "\u001b[0;31m---------------------------------------------------------------------------\u001b[0m",
      "\u001b[0;31mAttributeError\u001b[0m                            Traceback (most recent call last)",
      "File \u001b[0;32m~/miniforge3/envs/base_nadia2/lib/python3.9/site-packages/iris/fileformats/netcdf.py:395\u001b[0m, in \u001b[0;36mNetCDFDataProxy.__getitem__\u001b[0;34m(self, keys)\u001b[0m\n\u001b[1;32m    394\u001b[0m     \u001b[38;5;66;03m# Get the NetCDF variable data and slice.\u001b[39;00m\n\u001b[0;32m--> 395\u001b[0m     var \u001b[38;5;241m=\u001b[39m \u001b[43mvariable\u001b[49m\u001b[43m[\u001b[49m\u001b[43mkeys\u001b[49m\u001b[43m]\u001b[49m\n\u001b[1;32m    396\u001b[0m \u001b[38;5;28;01mfinally\u001b[39;00m:\n",
      "File \u001b[0;32msrc/netCDF4/_netCDF4.pyx:5027\u001b[0m, in \u001b[0;36mnetCDF4._netCDF4.Variable.__getitem__\u001b[0;34m()\u001b[0m\n",
      "File \u001b[0;32msrc/netCDF4/_netCDF4.pyx:4923\u001b[0m, in \u001b[0;36mnetCDF4._netCDF4.Variable.__getattr__\u001b[0;34m()\u001b[0m\n",
      "File \u001b[0;32msrc/netCDF4/_netCDF4.pyx:4645\u001b[0m, in \u001b[0;36mnetCDF4._netCDF4.Variable.getncattr\u001b[0;34m()\u001b[0m\n",
      "File \u001b[0;32msrc/netCDF4/_netCDF4.pyx:1544\u001b[0m, in \u001b[0;36mnetCDF4._netCDF4._get_att\u001b[0;34m()\u001b[0m\n",
      "File \u001b[0;32msrc/netCDF4/_netCDF4.pyx:2034\u001b[0m, in \u001b[0;36mnetCDF4._netCDF4._ensure_nc_success\u001b[0;34m()\u001b[0m\n",
      "\u001b[0;31mAttributeError\u001b[0m: NetCDF: Not a valid ID",
      "\nDuring handling of the above exception, another exception occurred:\n",
      "\u001b[0;31mRuntimeError\u001b[0m                              Traceback (most recent call last)",
      "Cell \u001b[0;32mIn[19], line 21\u001b[0m\n\u001b[1;32m     19\u001b[0m \u001b[38;5;66;03m#detrend\u001b[39;00m\n\u001b[1;32m     20\u001b[0m cube_CIdates_detrend \u001b[38;5;241m=\u001b[39m f_Iris\u001b[38;5;241m.\u001b[39mdetrend_theil_sen_cube(cube_CIdates, dimension\u001b[38;5;241m=\u001b[39m\u001b[38;5;124m'\u001b[39m\u001b[38;5;124mtime\u001b[39m\u001b[38;5;124m'\u001b[39m, method\u001b[38;5;241m=\u001b[39m\u001b[38;5;124m'\u001b[39m\u001b[38;5;124mlinear\u001b[39m\u001b[38;5;124m'\u001b[39m)\n\u001b[0;32m---> 21\u001b[0m \u001b[43mcube_CIdates_detrend\u001b[49m\u001b[38;5;241;43m.\u001b[39;49m\u001b[43mdata\u001b[49m[:,\u001b[38;5;241m4\u001b[39m,\u001b[38;5;241m5\u001b[39m]\n\u001b[1;32m     22\u001b[0m iris\u001b[38;5;241m.\u001b[39msave(cube_CIdates_detrend, \u001b[38;5;124mf\u001b[39m\u001b[38;5;124m\"\u001b[39m\u001b[38;5;132;01m{\u001b[39;00mruta_a_archivos_ERA5_mensual\u001b[38;5;132;01m}\u001b[39;00m\u001b[38;5;124m/\u001b[39m\u001b[38;5;132;01m{\u001b[39;00mvariable_name\u001b[38;5;132;01m}\u001b[39;00m\u001b[38;5;124m_500hPa_detrend.nc\u001b[39m\u001b[38;5;124m\"\u001b[39m)\n\u001b[1;32m     24\u001b[0m \u001b[38;5;66;03m#anomalies \u001b[39;00m\n",
      "File \u001b[0;32m~/miniforge3/envs/base_nadia2/lib/python3.9/site-packages/iris/cube.py:1726\u001b[0m, in \u001b[0;36mCube.data\u001b[0;34m(self)\u001b[0m\n\u001b[1;32m   1693\u001b[0m \u001b[38;5;129m@property\u001b[39m\n\u001b[1;32m   1694\u001b[0m \u001b[38;5;28;01mdef\u001b[39;00m \u001b[38;5;21mdata\u001b[39m(\u001b[38;5;28mself\u001b[39m):\n\u001b[1;32m   1695\u001b[0m \u001b[38;5;250m    \u001b[39m\u001b[38;5;124;03m\"\"\"\u001b[39;00m\n\u001b[1;32m   1696\u001b[0m \u001b[38;5;124;03m    The :class:`numpy.ndarray` representing the multi-dimensional data of\u001b[39;00m\n\u001b[1;32m   1697\u001b[0m \u001b[38;5;124;03m    the cube.\u001b[39;00m\n\u001b[0;32m   (...)\u001b[0m\n\u001b[1;32m   1724\u001b[0m \n\u001b[1;32m   1725\u001b[0m \u001b[38;5;124;03m    \"\"\"\u001b[39;00m\n\u001b[0;32m-> 1726\u001b[0m     \u001b[38;5;28;01mreturn\u001b[39;00m \u001b[38;5;28;43mself\u001b[39;49m\u001b[38;5;241;43m.\u001b[39;49m\u001b[43m_data_manager\u001b[49m\u001b[38;5;241;43m.\u001b[39;49m\u001b[43mdata\u001b[49m\n",
      "File \u001b[0;32m~/miniforge3/envs/base_nadia2/lib/python3.9/site-packages/iris/_data_manager.py:216\u001b[0m, in \u001b[0;36mDataManager.data\u001b[0;34m(self)\u001b[0m\n\u001b[1;32m    213\u001b[0m \u001b[38;5;28;01mif\u001b[39;00m \u001b[38;5;28mself\u001b[39m\u001b[38;5;241m.\u001b[39mhas_lazy_data():\n\u001b[1;32m    214\u001b[0m     \u001b[38;5;28;01mtry\u001b[39;00m:\n\u001b[1;32m    215\u001b[0m         \u001b[38;5;66;03m# Realise the lazy data.\u001b[39;00m\n\u001b[0;32m--> 216\u001b[0m         result \u001b[38;5;241m=\u001b[39m \u001b[43mas_concrete_data\u001b[49m\u001b[43m(\u001b[49m\u001b[38;5;28;43mself\u001b[39;49m\u001b[38;5;241;43m.\u001b[39;49m\u001b[43m_lazy_array\u001b[49m\u001b[43m)\u001b[49m\n\u001b[1;32m    217\u001b[0m         \u001b[38;5;66;03m# Assign the realised result.\u001b[39;00m\n\u001b[1;32m    218\u001b[0m         \u001b[38;5;28mself\u001b[39m\u001b[38;5;241m.\u001b[39m_real_array \u001b[38;5;241m=\u001b[39m result\n",
      "File \u001b[0;32m~/miniforge3/envs/base_nadia2/lib/python3.9/site-packages/iris/_lazy_data.py:262\u001b[0m, in \u001b[0;36mas_concrete_data\u001b[0;34m(data)\u001b[0m\n\u001b[1;32m    245\u001b[0m \u001b[38;5;250m\u001b[39m\u001b[38;5;124;03m\"\"\"\u001b[39;00m\n\u001b[1;32m    246\u001b[0m \u001b[38;5;124;03mReturn the actual content of a lazy array, as a numpy array.\u001b[39;00m\n\u001b[1;32m    247\u001b[0m \u001b[38;5;124;03mIf the input data is a NumPy `ndarray` or masked array, return it\u001b[39;00m\n\u001b[0;32m   (...)\u001b[0m\n\u001b[1;32m    259\u001b[0m \n\u001b[1;32m    260\u001b[0m \u001b[38;5;124;03m\"\"\"\u001b[39;00m\n\u001b[1;32m    261\u001b[0m \u001b[38;5;28;01mif\u001b[39;00m is_lazy_data(data):\n\u001b[0;32m--> 262\u001b[0m     data, \u001b[38;5;241m=\u001b[39m \u001b[43m_co_realise_lazy_arrays\u001b[49m\u001b[43m(\u001b[49m\u001b[43m[\u001b[49m\u001b[43mdata\u001b[49m\u001b[43m]\u001b[49m\u001b[43m)\u001b[49m\n\u001b[1;32m    264\u001b[0m \u001b[38;5;28;01mreturn\u001b[39;00m data\n",
      "File \u001b[0;32m~/miniforge3/envs/base_nadia2/lib/python3.9/site-packages/iris/_lazy_data.py:226\u001b[0m, in \u001b[0;36m_co_realise_lazy_arrays\u001b[0;34m(arrays)\u001b[0m\n\u001b[1;32m    211\u001b[0m \u001b[38;5;28;01mdef\u001b[39;00m \u001b[38;5;21m_co_realise_lazy_arrays\u001b[39m(arrays):\n\u001b[1;32m    212\u001b[0m \u001b[38;5;250m    \u001b[39m\u001b[38;5;124;03m\"\"\"\u001b[39;00m\n\u001b[1;32m    213\u001b[0m \u001b[38;5;124;03m    Compute multiple lazy arrays and return a list of real values.\u001b[39;00m\n\u001b[1;32m    214\u001b[0m \n\u001b[0;32m   (...)\u001b[0m\n\u001b[1;32m    224\u001b[0m \n\u001b[1;32m    225\u001b[0m \u001b[38;5;124;03m    \"\"\"\u001b[39;00m\n\u001b[0;32m--> 226\u001b[0m     computed_arrays \u001b[38;5;241m=\u001b[39m \u001b[43mda\u001b[49m\u001b[38;5;241;43m.\u001b[39;49m\u001b[43mcompute\u001b[49m\u001b[43m(\u001b[49m\u001b[38;5;241;43m*\u001b[39;49m\u001b[43marrays\u001b[49m\u001b[43m)\u001b[49m\n\u001b[1;32m    227\u001b[0m     results \u001b[38;5;241m=\u001b[39m []\n\u001b[1;32m    228\u001b[0m     \u001b[38;5;28;01mfor\u001b[39;00m lazy_in, real_out \u001b[38;5;129;01min\u001b[39;00m \u001b[38;5;28mzip\u001b[39m(arrays, computed_arrays):\n\u001b[1;32m    229\u001b[0m         \u001b[38;5;66;03m# Ensure we always have arrays.\u001b[39;00m\n\u001b[1;32m    230\u001b[0m         \u001b[38;5;66;03m# Note : in some cases dask (and numpy) will return a scalar\u001b[39;00m\n\u001b[1;32m    231\u001b[0m         \u001b[38;5;66;03m# numpy.int/numpy.float object rather than an ndarray.\u001b[39;00m\n\u001b[1;32m    232\u001b[0m         \u001b[38;5;66;03m# Recorded in https://github.com/dask/dask/issues/2111.\u001b[39;00m\n",
      "File \u001b[0;32m~/.local/lib/python3.9/site-packages/dask/threaded.py:89\u001b[0m, in \u001b[0;36mget\u001b[0;34m(dsk, keys, cache, num_workers, pool, **kwargs)\u001b[0m\n\u001b[1;32m     86\u001b[0m     \u001b[38;5;28;01melif\u001b[39;00m \u001b[38;5;28misinstance\u001b[39m(pool, multiprocessing\u001b[38;5;241m.\u001b[39mpool\u001b[38;5;241m.\u001b[39mPool):\n\u001b[1;32m     87\u001b[0m         pool \u001b[38;5;241m=\u001b[39m MultiprocessingPoolExecutor(pool)\n\u001b[0;32m---> 89\u001b[0m results \u001b[38;5;241m=\u001b[39m \u001b[43mget_async\u001b[49m\u001b[43m(\u001b[49m\n\u001b[1;32m     90\u001b[0m \u001b[43m    \u001b[49m\u001b[43mpool\u001b[49m\u001b[38;5;241;43m.\u001b[39;49m\u001b[43msubmit\u001b[49m\u001b[43m,\u001b[49m\n\u001b[1;32m     91\u001b[0m \u001b[43m    \u001b[49m\u001b[43mpool\u001b[49m\u001b[38;5;241;43m.\u001b[39;49m\u001b[43m_max_workers\u001b[49m\u001b[43m,\u001b[49m\n\u001b[1;32m     92\u001b[0m \u001b[43m    \u001b[49m\u001b[43mdsk\u001b[49m\u001b[43m,\u001b[49m\n\u001b[1;32m     93\u001b[0m \u001b[43m    \u001b[49m\u001b[43mkeys\u001b[49m\u001b[43m,\u001b[49m\n\u001b[1;32m     94\u001b[0m \u001b[43m    \u001b[49m\u001b[43mcache\u001b[49m\u001b[38;5;241;43m=\u001b[39;49m\u001b[43mcache\u001b[49m\u001b[43m,\u001b[49m\n\u001b[1;32m     95\u001b[0m \u001b[43m    \u001b[49m\u001b[43mget_id\u001b[49m\u001b[38;5;241;43m=\u001b[39;49m\u001b[43m_thread_get_id\u001b[49m\u001b[43m,\u001b[49m\n\u001b[1;32m     96\u001b[0m \u001b[43m    \u001b[49m\u001b[43mpack_exception\u001b[49m\u001b[38;5;241;43m=\u001b[39;49m\u001b[43mpack_exception\u001b[49m\u001b[43m,\u001b[49m\n\u001b[1;32m     97\u001b[0m \u001b[43m    \u001b[49m\u001b[38;5;241;43m*\u001b[39;49m\u001b[38;5;241;43m*\u001b[39;49m\u001b[43mkwargs\u001b[49m\u001b[43m,\u001b[49m\n\u001b[1;32m     98\u001b[0m \u001b[43m\u001b[49m\u001b[43m)\u001b[49m\n\u001b[1;32m    100\u001b[0m \u001b[38;5;66;03m# Cleanup pools associated to dead threads\u001b[39;00m\n\u001b[1;32m    101\u001b[0m \u001b[38;5;28;01mwith\u001b[39;00m pools_lock:\n",
      "File \u001b[0;32m~/.local/lib/python3.9/site-packages/dask/local.py:511\u001b[0m, in \u001b[0;36mget_async\u001b[0;34m(submit, num_workers, dsk, result, cache, get_id, rerun_exceptions_locally, pack_exception, raise_exception, callbacks, dumps, loads, chunksize, **kwargs)\u001b[0m\n\u001b[1;32m    509\u001b[0m         _execute_task(task, data)  \u001b[38;5;66;03m# Re-execute locally\u001b[39;00m\n\u001b[1;32m    510\u001b[0m     \u001b[38;5;28;01melse\u001b[39;00m:\n\u001b[0;32m--> 511\u001b[0m         \u001b[43mraise_exception\u001b[49m\u001b[43m(\u001b[49m\u001b[43mexc\u001b[49m\u001b[43m,\u001b[49m\u001b[43m \u001b[49m\u001b[43mtb\u001b[49m\u001b[43m)\u001b[49m\n\u001b[1;32m    512\u001b[0m res, worker_id \u001b[38;5;241m=\u001b[39m loads(res_info)\n\u001b[1;32m    513\u001b[0m state[\u001b[38;5;124m\"\u001b[39m\u001b[38;5;124mcache\u001b[39m\u001b[38;5;124m\"\u001b[39m][key] \u001b[38;5;241m=\u001b[39m res\n",
      "File \u001b[0;32m~/.local/lib/python3.9/site-packages/dask/local.py:319\u001b[0m, in \u001b[0;36mreraise\u001b[0;34m(exc, tb)\u001b[0m\n\u001b[1;32m    317\u001b[0m \u001b[38;5;28;01mif\u001b[39;00m exc\u001b[38;5;241m.\u001b[39m__traceback__ \u001b[38;5;129;01mis\u001b[39;00m \u001b[38;5;129;01mnot\u001b[39;00m tb:\n\u001b[1;32m    318\u001b[0m     \u001b[38;5;28;01mraise\u001b[39;00m exc\u001b[38;5;241m.\u001b[39mwith_traceback(tb)\n\u001b[0;32m--> 319\u001b[0m \u001b[38;5;28;01mraise\u001b[39;00m exc\n",
      "File \u001b[0;32m~/.local/lib/python3.9/site-packages/dask/local.py:224\u001b[0m, in \u001b[0;36mexecute_task\u001b[0;34m(key, task_info, dumps, loads, get_id, pack_exception)\u001b[0m\n\u001b[1;32m    222\u001b[0m \u001b[38;5;28;01mtry\u001b[39;00m:\n\u001b[1;32m    223\u001b[0m     task, data \u001b[38;5;241m=\u001b[39m loads(task_info)\n\u001b[0;32m--> 224\u001b[0m     result \u001b[38;5;241m=\u001b[39m \u001b[43m_execute_task\u001b[49m\u001b[43m(\u001b[49m\u001b[43mtask\u001b[49m\u001b[43m,\u001b[49m\u001b[43m \u001b[49m\u001b[43mdata\u001b[49m\u001b[43m)\u001b[49m\n\u001b[1;32m    225\u001b[0m     \u001b[38;5;28mid\u001b[39m \u001b[38;5;241m=\u001b[39m get_id()\n\u001b[1;32m    226\u001b[0m     result \u001b[38;5;241m=\u001b[39m dumps((result, \u001b[38;5;28mid\u001b[39m))\n",
      "File \u001b[0;32m~/miniforge3/envs/base_nadia2/lib/python3.9/site-packages/iris/fileformats/netcdf.py:397\u001b[0m, in \u001b[0;36mNetCDFDataProxy.__getitem__\u001b[0;34m(self, keys)\u001b[0m\n\u001b[1;32m    395\u001b[0m     var \u001b[38;5;241m=\u001b[39m variable[keys]\n\u001b[1;32m    396\u001b[0m \u001b[38;5;28;01mfinally\u001b[39;00m:\n\u001b[0;32m--> 397\u001b[0m     \u001b[43mdataset\u001b[49m\u001b[38;5;241;43m.\u001b[39;49m\u001b[43mclose\u001b[49m\u001b[43m(\u001b[49m\u001b[43m)\u001b[49m\n\u001b[1;32m    398\u001b[0m \u001b[38;5;28;01mreturn\u001b[39;00m np\u001b[38;5;241m.\u001b[39masanyarray(var)\n",
      "File \u001b[0;32msrc/netCDF4/_netCDF4.pyx:2627\u001b[0m, in \u001b[0;36mnetCDF4._netCDF4.Dataset.close\u001b[0;34m()\u001b[0m\n",
      "File \u001b[0;32msrc/netCDF4/_netCDF4.pyx:2590\u001b[0m, in \u001b[0;36mnetCDF4._netCDF4.Dataset._close\u001b[0;34m()\u001b[0m\n",
      "File \u001b[0;32msrc/netCDF4/_netCDF4.pyx:2034\u001b[0m, in \u001b[0;36mnetCDF4._netCDF4._ensure_nc_success\u001b[0;34m()\u001b[0m\n",
      "\u001b[0;31mRuntimeError\u001b[0m: NetCDF: Not a valid ID"
     ]
    }
   ],
   "source": [
    "# 3.2) ERA5 geopot. height Southern Hemisphere 500 hPa\n",
    "file_dir = ruta_a_archivos_ERA5_mensual_ori\n",
    "file_name = \"ERA5_zg.nc\"\n",
    "variable_name = 'z'\n",
    "cube = iris.load_cube(f\"{file_dir}/{file_name}\", variable_name) \n",
    "\n",
    "#select region\n",
    "cube = cube.intersection(longitude = (-180,180),\n",
    "            latitude=(-90, 15),\n",
    "            ignore_bounds=True)\n",
    "\n",
    "#500 \n",
    "cube = cube[:,1,:,:] #500 hpa\n",
    "\n",
    "#select dates: common period with CI\n",
    "cube_CIdates = f_Iris.clip_timerange(cube, f\"{str(date_i_CI)[0:10]}/{str(date_f_CI)[0:10]}\")\n",
    "cube_Climdates = f_Iris.clip_timerange(cube, f\"{str(fecha_inicio_climatologia_str)[0:10]}/{str(fecha_final_climatologia_str)[0:10]}\")\n",
    "\n",
    "#detrend\n",
    "cube_CIdates_detrend = f_Iris.detrend_theil_sen_cube(cube_CIdates, dimension='time', method='linear')\n",
    "cube_CIdates_detrend.data[:,4,5]\n",
    "iris.save(cube_CIdates_detrend, f\"{ruta_a_archivos_ERA5_mensual}/{variable_name}_500hPa_detrend.nc\")\n",
    "\n",
    "#anomalies \n",
    "cube_Climdates_detrend = f_Iris.clip_timerange(cube_CIdates_detrend, f\"{str(fecha_inicio_climatologia_str)[0:10]}/{str(fecha_final_climatologia_str)[0:10]}\")\n",
    "\n",
    "iris.coord_categorisation.add_month(cube_CIdates_detrend, 'time', name='month')\n",
    "iris.coord_categorisation.add_month(cube_Climdates_detrend, 'time', name='month')\n",
    "\n",
    "monthly_means = cube_Climdates_detrend.aggregated_by('month', iris.analysis.MEAN)\n",
    "\n",
    "reps = (cube_CIdates_detrend.shape[0]+1)/12  #sum 1 because the last year is not complete\n",
    "clim_array = np.repeat(monthly_means.data, reps, axis=0)\n",
    "clim_array = clim_array[0:cube_CIdates_detrend.shape[0],:,:]\n",
    "cube_detrend_anoms = cube_CIdates_detrend - clim_array\n",
    "iris.save(cube_detrend_anoms, f\"{ruta_a_archivos_ERA5_mensual}/{variable_name}_500hPa_detrend_anoms.nc\")\n"
   ]
  },
  {
   "cell_type": "code",
   "execution_count": 18,
   "metadata": {},
   "outputs": [
    {
     "name": "stderr",
     "output_type": "stream",
     "text": [
      "/home/nadia.testani/.local/lib/python3.9/site-packages/numpy/core/fromnumeric.py:3504: RuntimeWarning: Mean of empty slice.\n",
      "  return _methods._mean(a, axis=axis, dtype=dtype,\n",
      "/home/nadia.testani/.local/lib/python3.9/site-packages/numpy/core/_methods.py:129: RuntimeWarning: invalid value encountered in scalar divide\n",
      "  ret = ret.dtype.type(ret / rcount)\n"
     ]
    }
   ],
   "source": [
    "# 3.3) ERA5 geopot. height Southern Hemisphere 850 hPa\n",
    "file_dir = ruta_a_archivos_ERA5_mensual_ori\n",
    "file_name = \"ERA5_zg.nc\"\n",
    "variable_name = 'z'\n",
    "cube = iris.load_cube(f\"{file_dir}/{file_name}\", variable_name) \n",
    "\n",
    "#select region\n",
    "cube = cube.intersection(longitude = (-180,180),\n",
    "            latitude=(-90, 15),\n",
    "            ignore_bounds=True)\n",
    "\n",
    "#850 \n",
    "cube = cube[:,2,:,:] #850 hpa\n",
    "\n",
    "#select dates: common period with CI\n",
    "cube_CIdates = f_Iris.clip_timerange(cube, f\"{str(date_i_CI)[0:10]}/{str(date_f_CI)[0:10]}\")\n",
    "cube_Climdates = f_Iris.clip_timerange(cube, f\"{str(fecha_inicio_climatologia_str)[0:10]}/{str(fecha_final_climatologia_str)[0:10]}\")\n",
    "\n",
    "#detrend\n",
    "cube_CIdates_detrend = f_Iris.detrend_theil_sen_cube(cube_CIdates, dimension='time', method='linear')\n",
    "cube_CIdates_detrend.data[:,4,5]\n",
    "iris.save(cube_CIdates_detrend, f\"{ruta_a_archivos_ERA5_mensual}/{variable_name}_850hpa_detrend.nc\")\n",
    "\n",
    "#anomalies \n",
    "cube_Climdates_detrend = f_Iris.clip_timerange(cube_CIdates_detrend, f\"{str(fecha_inicio_climatologia_str)[0:10]}/{str(fecha_final_climatologia_str)[0:10]}\")\n",
    "\n",
    "iris.coord_categorisation.add_month(cube_CIdates_detrend, 'time', name='month')\n",
    "iris.coord_categorisation.add_month(cube_Climdates_detrend, 'time', name='month')\n",
    "\n",
    "monthly_means = cube_Climdates_detrend.aggregated_by('month', iris.analysis.MEAN)\n",
    "\n",
    "reps = (cube_CIdates_detrend.shape[0]+1)/12  #sum 1 because the last year is not complete\n",
    "clim_array = np.repeat(monthly_means.data, reps, axis=0)\n",
    "clim_array = clim_array[0:cube_CIdates_detrend.shape[0],:,:]\n",
    "cube_detrend_anoms = cube_CIdates_detrend - clim_array\n",
    "iris.save(cube_detrend_anoms, f\"{ruta_a_archivos_ERA5_mensual}/{variable_name}_850hPa_detrend_anoms.nc\")\n"
   ]
  },
  {
   "cell_type": "code",
   "execution_count": 16,
   "metadata": {},
   "outputs": [
    {
     "name": "stderr",
     "output_type": "stream",
     "text": [
      "/home/nadia.testani/miniforge3/envs/base_nadia2/lib/python3.9/site-packages/iris/fileformats/_pyke_rules/compiled_krb/fc_rules_cf_fc.py:1940: UserWarning: Skipping global attribute 'climatology': 'climatology' is not a permitted attribute\n",
      "  warnings.warn(msg.format(attr_name, str(e)))\n",
      "/home/nadia.testani/miniforge3/envs/base_nadia2/lib/python3.9/site-packages/iris/fileformats/_pyke_rules/compiled_krb/fc_rules_cf_fc.py:1940: UserWarning: Skipping global attribute 'climatology': 'climatology' is not a permitted attribute\n",
      "  warnings.warn(msg.format(attr_name, str(e)))\n",
      "/home/nadia.testani/.local/lib/python3.9/site-packages/numpy/core/fromnumeric.py:3504: RuntimeWarning: Mean of empty slice.\n",
      "  return _methods._mean(a, axis=axis, dtype=dtype,\n",
      "/home/nadia.testani/.local/lib/python3.9/site-packages/numpy/core/_methods.py:129: RuntimeWarning: invalid value encountered in scalar divide\n",
      "  ret = ret.dtype.type(ret / rcount)\n"
     ]
    }
   ],
   "source": [
    "# 3.4) SST NOAA Extended Reconstructed SST V5 NOAA ERSSTv5 (in situ only)\n",
    "file_dir = ruta_a_archivos_SST\n",
    "file_name = \"sst.mnmean.nc\"\n",
    "variable_name = 'sst'\n",
    "cube = iris.load_cube(f\"{file_dir}/{file_name}\", variable_name) \n",
    "\n",
    "#select region\n",
    "cube = cube.intersection(longitude = (-180,180),\n",
    "            latitude=(-90, 15),\n",
    "            ignore_bounds=True)\n",
    "\n",
    "#select dates: common period with CI\n",
    "cube_CIdates = f_Iris.clip_timerange(cube, f\"{str(date_i_CI)[0:10]}/{str(date_f_CI)[0:10]}\")\n",
    "cube_Climdates = f_Iris.clip_timerange(cube, f\"{str(fecha_inicio_climatologia_str)[0:10]}/{str(fecha_final_climatologia_str)[0:10]}\")\n",
    "\n",
    "#detrend\n",
    "cube_CIdates_detrend = f_Iris.detrend_theil_sen_cube(cube_CIdates, dimension='time', method='linear')\n",
    "cube_CIdates_detrend.data[:,4,5]\n",
    "iris.save(cube_CIdates_detrend, f\"{ruta_a_archivos_ERA5_mensual}/{variable_name}_850hpa_detrend.nc\")\n",
    "\n",
    "#anomalies \n",
    "cube_Climdates_detrend = f_Iris.clip_timerange(cube_CIdates_detrend, f\"{str(fecha_inicio_climatologia_str)[0:10]}/{str(fecha_final_climatologia_str)[0:10]}\")\n",
    "\n",
    "iris.coord_categorisation.add_month(cube_CIdates_detrend, 'time', name='month')\n",
    "iris.coord_categorisation.add_month(cube_Climdates_detrend, 'time', name='month')\n",
    "\n",
    "monthly_means = cube_Climdates_detrend.aggregated_by('month', iris.analysis.MEAN)\n",
    "\n",
    "reps = (cube_CIdates_detrend.shape[0]+1)/12  #sum 1 because the last year is not complete\n",
    "clim_array = np.repeat(monthly_means.data, reps, axis=0)\n",
    "clim_array = clim_array[0:cube_CIdates_detrend.shape[0],:,:]\n",
    "cube_detrend_anoms = cube_CIdates_detrend - clim_array\n",
    "iris.save(cube_detrend_anoms, f\"{ruta_a_archivos_ERA5_mensual}/{variable_name}_detrend_anoms.nc\")\n"
   ]
  },
  {
   "cell_type": "code",
   "execution_count": null,
   "metadata": {},
   "outputs": [],
   "source": []
  }
 ],
 "metadata": {
  "kernelspec": {
   "display_name": "Python 3 (ipykernel)",
   "language": "python",
   "name": "python3"
  },
  "language_info": {
   "codemirror_mode": {
    "name": "ipython",
    "version": 3
   },
   "file_extension": ".py",
   "mimetype": "text/x-python",
   "name": "python",
   "nbconvert_exporter": "python",
   "pygments_lexer": "ipython3",
   "version": "3.9.18"
  }
 },
 "nbformat": 4,
 "nbformat_minor": 4
}
