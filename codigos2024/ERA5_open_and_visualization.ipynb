{
 "cells": [
  {
   "cell_type": "markdown",
   "metadata": {},
   "source": [
    "    ## First code to learn how to open and plot ERA5 data"
   ]
  },
  {
   "cell_type": "code",
   "execution_count": 146,
   "metadata": {},
   "outputs": [],
   "source": [
    "import os\n",
    "import pandas\n",
    "import numpy as np\n",
    "\n",
    "import iris\n",
    "from iris.analysis import MEAN\n",
    "from iris.analysis.stats import pearsonr\n",
    "import iris.coord_categorisation\n",
    "\n",
    "from scipy.stats import theilslopes #theil-sen trends\n",
    "\n",
    "import matplotlib.pyplot as plt"
   ]
  },
  {
   "cell_type": "code",
   "execution_count": 63,
   "metadata": {},
   "outputs": [
    {
     "name": "stdout",
     "output_type": "stream",
     "text": [
      "Current working directory: /home/nadia.testani/Doctorado/DoctoradoCodigos/codigos2024\n"
     ]
    }
   ],
   "source": [
    "# directories\n",
    "cwd = os.getcwd()\n",
    "print(\"Current working directory: {0}\".format(cwd))\n",
    "\n",
    "#si estoy trabajando desde el servidor vegeta\n",
    "ruta_a_archivos_ERA5_mensual = \"../../../../../datos/ERA5_updated/mon\" #ruta donde estan los archivos con datos de ERA5\n",
    "ruta_a_resultados = \"/pikachu/datos/nadia.testani/Doctorado/resultados/resultados2024\" #ruta donde se guardan los resultados del analisis de nubosidad"
   ]
  },
  {
   "cell_type": "code",
   "execution_count": 180,
   "metadata": {},
   "outputs": [
    {
     "name": "stderr",
     "output_type": "stream",
     "text": [
      "/home/nadia.testani/anaconda3/envs/base_nadia/lib/python3.9/site-packages/iris/coords.py:1410: UserWarning: Collapsing a non-contiguous coordinate. Metadata may not be fully descriptive for 'time'.\n",
      "  warnings.warn(msg.format(self.name()))\n"
     ]
    },
    {
     "name": "stderr",
     "output_type": "stream",
     "text": [
      "/home/nadia.testani/anaconda3/envs/base_nadia/lib/python3.9/site-packages/iris/coords.py:1410: UserWarning: Collapsing a non-contiguous coordinate. Metadata may not be fully descriptive for 'time'.\n",
      "  warnings.warn(msg.format(self.name()))\n",
      "/home/nadia.testani/anaconda3/envs/base_nadia/lib/python3.9/site-packages/iris/coords.py:1410: UserWarning: Collapsing a non-contiguous coordinate. Metadata may not be fully descriptive for 'time'.\n",
      "  warnings.warn(msg.format(self.name()))\n",
      "/home/nadia.testani/anaconda3/envs/base_nadia/lib/python3.9/site-packages/iris/coords.py:1410: UserWarning: Collapsing a non-contiguous coordinate. Metadata may not be fully descriptive for 'time'.\n",
      "  warnings.warn(msg.format(self.name()))\n"
     ]
    },
    {
     "data": {
      "image/png": "[encoded data removed]",
      "text/plain": [
       "<Figure size 640x480 with 1 Axes>"
      ]
     },
     "metadata": {},
     "output_type": "display_data"
    }
   ],
   "source": [
    "#open ERA5\n",
    "ERA5_netcdf = iris.load_cube(f\"{ruta_a_archivos_ERA5_mensual}/ERA5_precip.nc\")\n",
    "\n",
    "#time coord: convertion to dates\n",
    "time_coord = ERA5_netcdf.coord('time')\n",
    "time_axis = time_coord.units.num2date(time_coord.core_points())\n",
    "\n",
    "#name of variable\n",
    "variable_name = ERA5_netcdf.name()\n",
    "\n",
    "#access to data\n",
    "ERA5_data = ERA5_netcdf.data\n",
    "\n",
    "#plot\n",
    "plt.contourf(ERA5_data[1,:,:])\n",
    "\n",
    "# regression\n",
    "correlation_coefficient = pearsonr(ERA5_netcdf, ERA5_netcdf[:,0,0])\n",
    "plt.contourf(correlation_coefficient.data)\n",
    "\n",
    "#average one dimension \n",
    "ERA5_netcdf.collapsed('time',MEAN)\n",
    "\n",
    "#slice \n",
    "ERA5_netcdf_subset = ERA5_netcdf[:,0:2,0:2]\n",
    "\n",
    "#theil-sen trend\n",
    "def calculate_theilsen_slope(y):\n",
    "    slope, intercept, _, _ = theilslopes(y, range(len(y)), alpha=0.95)\n",
    "    return slope, intercept\n",
    "# Apply the Theil-Sen slope calculation to each grid point\n",
    "trend_cube = ERA5_netcdf_subset[0:2,:,:].copy()\n",
    "trend_cube.data = np.apply_along_axis(calculate_theilsen_slope, axis=0, arr=ERA5_netcdf_subset.data)\n",
    "\n",
    "#filter theil-sen trend\n",
    "def filter_theilsen_slope(y):\n",
    "    #y: array 1D\n",
    "    trend = calculate_theilsen_slope(y)[0] * np.arange(len(y)) + calculate_theilsen_slope(y)[1]\n",
    "    filter_data = y - trend\n",
    "    return filter_data\n",
    "data_trend_filtered = ERA5_netcdf_subset[:,:,:].copy()\n",
    "data_trend_filtered.data = np.apply_along_axis(filter_theilsen_slope, axis=0, arr=ERA5_netcdf_subset.data)\n",
    "\n",
    "# calculate monthly mean\n",
    "# Categorize the time coordinate by month\n",
    "iris.coord_categorisation.add_month(ERA5_netcdf_subset, 'time', name='month')\n",
    "\n",
    "# Calculate the monthly mean for each grid point\n",
    "monthly_means = ERA5_netcdf_subset.aggregated_by('month', iris.analysis.MEAN)\n",
    "\n",
    "# Filter monthly means --> anomalies\n",
    "monthly_means_array = np.repeat(monthly_means.data, len(ERA5_netcdf_subset.data[:,1,1])/12, axis=0)\n",
    "ERA5_anomalies = ERA5_netcdf_subset.data - monthly_means_array"
   ]
  },
  {
   "cell_type": "code",
   "execution_count": 282,
   "metadata": {},
   "outputs": [
    {
     "data": {
      "text/plain": [
       "masked_array(\n",
       "  data=[[[-1.19171940e-04, -1.12538804e-04],\n",
       "         [-1.28927752e-04, -9.73540253e-05]],\n",
       "\n",
       "        [[-4.45950829e-05, -1.86748288e-05],\n",
       "         [-6.59231660e-05, -6.52088283e-05]],\n",
       "\n",
       "        [[-5.10241223e-05, -4.18193706e-05],\n",
       "         [-3.37779690e-05, -5.74939810e-05]],\n",
       "\n",
       "        ...,\n",
       "\n",
       "        [[ 2.74775103e-04,  1.82850045e-04],\n",
       "         [ 2.49344681e-04,  1.56664465e-04]],\n",
       "\n",
       "        [[ 1.07620079e-04,  9.67009166e-05],\n",
       "         [ 5.90451143e-05,  3.19411005e-05]],\n",
       "\n",
       "        [[-1.67359121e-06, -1.38785613e-05],\n",
       "         [ 4.61870355e-05,  8.79655868e-06]]],\n",
       "  mask=False,\n",
       "  fill_value=1e+20)"
      ]
     },
     "execution_count": 282,
     "metadata": {},
     "output_type": "execute_result"
    }
   ],
   "source": [
    "\n",
    "\n"
   ]
  },
  {
   "cell_type": "code",
   "execution_count": 224,
   "metadata": {},
   "outputs": [
    {
     "ename": "AttributeError",
     "evalue": "'Cube' object has no attribute 'Constraint'",
     "output_type": "error",
     "traceback": [
      "\u001b[0;31m---------------------------------------------------------------------------\u001b[0m",
      "\u001b[0;31mAttributeError\u001b[0m                            Traceback (most recent call last)",
      "Cell \u001b[0;32mIn[224], line 1\u001b[0m\n\u001b[0;32m----> 1\u001b[0m \u001b[43mERA5_netcdf_subset\u001b[49m\u001b[38;5;241;43m.\u001b[39;49m\u001b[43mConstraint\u001b[49m(month \u001b[38;5;241m=\u001b[39m \u001b[38;5;241m1\u001b[39m)\n",
      "\u001b[0;31mAttributeError\u001b[0m: 'Cube' object has no attribute 'Constraint'"
     ]
    }
   ],
   "source": [
    "ERA5_netcdf_subset.Constraint(month = 1)"
   ]
  },
  {
   "cell_type": "code",
   "execution_count": 206,
   "metadata": {},
   "outputs": [
    {
     "data": {
      "text/plain": [
       "(DimCoord(array([-10.25], dtype=float32), standard_name='latitude', units=Unit('degrees'), long_name='latitude', var_name='latitude'),\n",
       " DimCoord(array([-89.75], dtype=float32), standard_name='longitude', units=Unit('degrees'), long_name='longitude', var_name='longitude'),\n",
       " AuxCoord(array(['Jan', 'Feb', 'Mar', 'Apr', 'May', 'Jun', 'Jul', 'Aug', 'Sep',\n",
       "        'Oct', 'Nov', 'Dec', 'Jan', 'Feb', 'Mar', 'Apr', 'May', 'Jun',\n",
       "        'Jul', 'Aug', 'Sep', 'Oct', 'Nov', 'Dec', 'Jan', 'Feb', 'Mar',\n",
       "        'Apr', 'May', 'Jun', 'Jul', 'Aug', 'Sep', 'Oct', 'Nov', 'Dec',\n",
       "        'Jan', 'Feb', 'Mar', 'Apr', 'May', 'Jun', 'Jul', 'Aug', 'Sep',\n",
       "        'Oct', 'Nov', 'Dec', 'Jan', 'Feb', 'Mar', 'Apr', 'May', 'Jun',\n",
       "        'Jul', 'Aug', 'Sep', 'Oct', 'Nov', 'Dec', 'Jan', 'Feb', 'Mar',\n",
       "        'Apr', 'May', 'Jun', 'Jul', 'Aug', 'Sep', 'Oct', 'Nov', 'Dec',\n",
       "        'Jan', 'Feb', 'Mar', 'Apr', 'May', 'Jun', 'Jul', 'Aug', 'Sep',\n",
       "        'Oct', 'Nov', 'Dec', 'Jan', 'Feb', 'Mar', 'Apr', 'May', 'Jun',\n",
       "        'Jul', 'Aug', 'Sep', 'Oct', 'Nov', 'Dec', 'Jan', 'Feb', 'Mar',\n",
       "        'Apr', 'May', 'Jun', 'Jul', 'Aug', 'Sep', 'Oct', 'Nov', 'Dec',\n",
       "        'Jan', 'Feb', 'Mar', 'Apr', 'May', 'Jun', 'Jul', 'Aug', 'Sep',\n",
       "        'Oct', 'Nov', 'Dec', 'Jan', 'Feb', 'Mar', 'Apr', 'May', 'Jun',\n",
       "        'Jul', 'Aug', 'Sep', 'Oct', 'Nov', 'Dec', 'Jan', 'Feb', 'Mar',\n",
       "        'Apr', 'May', 'Jun', 'Jul', 'Aug', 'Sep', 'Oct', 'Nov', 'Dec',\n",
       "        'Jan', 'Feb', 'Mar', 'Apr', 'May', 'Jun', 'Jul', 'Aug', 'Sep',\n",
       "        'Oct', 'Nov', 'Dec', 'Jan', 'Feb', 'Mar', 'Apr', 'May', 'Jun',\n",
       "        'Jul', 'Aug', 'Sep', 'Oct', 'Nov', 'Dec', 'Jan', 'Feb', 'Mar',\n",
       "        'Apr', 'May', 'Jun', 'Jul', 'Aug', 'Sep', 'Oct', 'Nov', 'Dec',\n",
       "        'Jan', 'Feb', 'Mar', 'Apr', 'May', 'Jun', 'Jul', 'Aug', 'Sep',\n",
       "        'Oct', 'Nov', 'Dec', 'Jan', 'Feb', 'Mar', 'Apr', 'May', 'Jun',\n",
       "        'Jul', 'Aug', 'Sep', 'Oct', 'Nov', 'Dec', 'Jan', 'Feb', 'Mar',\n",
       "        'Apr', 'May', 'Jun', 'Jul', 'Aug', 'Sep', 'Oct', 'Nov', 'Dec',\n",
       "        'Jan', 'Feb', 'Mar', 'Apr', 'May', 'Jun', 'Jul', 'Aug', 'Sep',\n",
       "        'Oct', 'Nov', 'Dec', 'Jan', 'Feb', 'Mar', 'Apr', 'May', 'Jun',\n",
       "        'Jul', 'Aug', 'Sep', 'Oct', 'Nov', 'Dec', 'Jan', 'Feb', 'Mar',\n",
       "        'Apr', 'May', 'Jun', 'Jul', 'Aug', 'Sep', 'Oct', 'Nov', 'Dec',\n",
       "        'Jan', 'Feb', 'Mar', 'Apr', 'May', 'Jun', 'Jul', 'Aug', 'Sep',\n",
       "        'Oct', 'Nov', 'Dec', 'Jan', 'Feb', 'Mar', 'Apr', 'May', 'Jun',\n",
       "        'Jul', 'Aug', 'Sep', 'Oct', 'Nov', 'Dec', 'Jan', 'Feb', 'Mar',\n",
       "        'Apr', 'May', 'Jun', 'Jul', 'Aug', 'Sep', 'Oct', 'Nov', 'Dec',\n",
       "        'Jan', 'Feb', 'Mar', 'Apr', 'May', 'Jun', 'Jul', 'Aug', 'Sep',\n",
       "        'Oct', 'Nov', 'Dec', 'Jan', 'Feb', 'Mar', 'Apr', 'May', 'Jun',\n",
       "        'Jul', 'Aug', 'Sep', 'Oct', 'Nov', 'Dec', 'Jan', 'Feb', 'Mar',\n",
       "        'Apr', 'May', 'Jun', 'Jul', 'Aug', 'Sep', 'Oct', 'Nov', 'Dec',\n",
       "        'Jan', 'Feb', 'Mar', 'Apr', 'May', 'Jun', 'Jul', 'Aug', 'Sep',\n",
       "        'Oct', 'Nov', 'Dec', 'Jan', 'Feb', 'Mar', 'Apr', 'May', 'Jun',\n",
       "        'Jul', 'Aug', 'Sep', 'Oct', 'Nov', 'Dec', 'Jan', 'Feb', 'Mar',\n",
       "        'Apr', 'May', 'Jun', 'Jul', 'Aug', 'Sep', 'Oct', 'Nov', 'Dec',\n",
       "        'Jan', 'Feb', 'Mar', 'Apr', 'May', 'Jun', 'Jul', 'Aug', 'Sep',\n",
       "        'Oct', 'Nov', 'Dec', 'Jan', 'Feb', 'Mar', 'Apr', 'May', 'Jun',\n",
       "        'Jul', 'Aug', 'Sep', 'Oct', 'Nov', 'Dec', 'Jan', 'Feb', 'Mar',\n",
       "        'Apr', 'May', 'Jun', 'Jul', 'Aug', 'Sep', 'Oct', 'Nov', 'Dec',\n",
       "        'Jan', 'Feb', 'Mar', 'Apr', 'May', 'Jun', 'Jul', 'Aug', 'Sep',\n",
       "        'Oct', 'Nov', 'Dec', 'Jan', 'Feb', 'Mar', 'Apr', 'May', 'Jun',\n",
       "        'Jul', 'Aug', 'Sep', 'Oct', 'Nov', 'Dec', 'Jan', 'Feb', 'Mar',\n",
       "        'Apr', 'May', 'Jun', 'Jul', 'Aug', 'Sep', 'Oct', 'Nov', 'Dec',\n",
       "        'Jan', 'Feb', 'Mar', 'Apr', 'May', 'Jun', 'Jul', 'Aug', 'Sep',\n",
       "        'Oct', 'Nov', 'Dec', 'Jan', 'Feb', 'Mar', 'Apr', 'May', 'Jun',\n",
       "        'Jul', 'Aug', 'Sep', 'Oct', 'Nov', 'Dec', 'Jan', 'Feb', 'Mar',\n",
       "        'Apr', 'May', 'Jun', 'Jul', 'Aug', 'Sep', 'Oct', 'Nov', 'Dec',\n",
       "        'Jan', 'Feb', 'Mar', 'Apr', 'May', 'Jun', 'Jul', 'Aug', 'Sep',\n",
       "        'Oct', 'Nov', 'Dec', 'Jan', 'Feb', 'Mar', 'Apr', 'May', 'Jun',\n",
       "        'Jul', 'Aug', 'Sep', 'Oct', 'Nov', 'Dec', 'Jan', 'Feb', 'Mar',\n",
       "        'Apr', 'May', 'Jun', 'Jul', 'Aug', 'Sep', 'Oct', 'Nov', 'Dec',\n",
       "        'Jan', 'Feb', 'Mar', 'Apr', 'May', 'Jun', 'Jul', 'Aug', 'Sep',\n",
       "        'Oct', 'Nov', 'Dec', 'Jan', 'Feb', 'Mar', 'Apr', 'May', 'Jun',\n",
       "        'Jul', 'Aug', 'Sep', 'Oct', 'Nov', 'Dec', 'Jan', 'Feb', 'Mar',\n",
       "        'Apr', 'May', 'Jun', 'Jul', 'Aug', 'Sep', 'Oct', 'Nov', 'Dec',\n",
       "        'Jan', 'Feb', 'Mar', 'Apr', 'May', 'Jun', 'Jul', 'Aug', 'Sep',\n",
       "        'Oct', 'Nov', 'Dec', 'Jan', 'Feb', 'Mar', 'Apr', 'May', 'Jun',\n",
       "        'Jul', 'Aug', 'Sep', 'Oct', 'Nov', 'Dec', 'Jan', 'Feb', 'Mar',\n",
       "        'Apr', 'May', 'Jun', 'Jul', 'Aug', 'Sep', 'Oct', 'Nov', 'Dec',\n",
       "        'Jan', 'Feb', 'Mar', 'Apr', 'May', 'Jun', 'Jul', 'Aug', 'Sep',\n",
       "        'Oct', 'Nov', 'Dec', 'Jan', 'Feb', 'Mar', 'Apr', 'May', 'Jun',\n",
       "        'Jul', 'Aug', 'Sep', 'Oct', 'Nov', 'Dec', 'Jan', 'Feb', 'Mar',\n",
       "        'Apr', 'May', 'Jun', 'Jul', 'Aug', 'Sep', 'Oct', 'Nov', 'Dec',\n",
       "        'Jan', 'Feb', 'Mar', 'Apr', 'May', 'Jun', 'Jul', 'Aug', 'Sep',\n",
       "        'Oct', 'Nov', 'Dec', 'Jan', 'Feb', 'Mar', 'Apr', 'May', 'Jun',\n",
       "        'Jul', 'Aug', 'Sep', 'Oct', 'Nov', 'Dec', 'Jan', 'Feb', 'Mar',\n",
       "        'Apr', 'May', 'Jun', 'Jul', 'Aug', 'Sep', 'Oct', 'Nov', 'Dec',\n",
       "        'Jan', 'Feb', 'Mar', 'Apr', 'May', 'Jun', 'Jul', 'Aug', 'Sep',\n",
       "        'Oct', 'Nov', 'Dec', 'Jan', 'Feb', 'Mar', 'Apr', 'May', 'Jun',\n",
       "        'Jul', 'Aug', 'Sep', 'Oct', 'Nov', 'Dec', 'Jan', 'Feb', 'Mar',\n",
       "        'Apr', 'May', 'Jun', 'Jul', 'Aug', 'Sep', 'Oct', 'Nov', 'Dec',\n",
       "        'Jan', 'Feb', 'Mar', 'Apr', 'May', 'Jun', 'Jul', 'Aug', 'Sep',\n",
       "        'Oct', 'Nov', 'Dec', 'Jan', 'Feb', 'Mar', 'Apr', 'May', 'Jun',\n",
       "        'Jul', 'Aug', 'Sep', 'Oct', 'Nov', 'Dec', 'Jan', 'Feb', 'Mar',\n",
       "        'Apr', 'May', 'Jun', 'Jul', 'Aug', 'Sep', 'Oct', 'Nov', 'Dec',\n",
       "        'Jan', 'Feb', 'Mar', 'Apr', 'May', 'Jun', 'Jul', 'Aug', 'Sep',\n",
       "        'Oct', 'Nov', 'Dec', 'Jan', 'Feb', 'Mar', 'Apr', 'May', 'Jun',\n",
       "        'Jul', 'Aug', 'Sep', 'Oct', 'Nov', 'Dec', 'Jan', 'Feb', 'Mar',\n",
       "        'Apr', 'May', 'Jun', 'Jul', 'Aug', 'Sep', 'Oct', 'Nov', 'Dec'],\n",
       "       dtype='<U64'), standard_name=None, units=Unit('no_unit'), long_name='month'))"
      ]
     },
     "execution_count": 206,
     "metadata": {},
     "output_type": "execute_result"
    }
   ],
   "source": [
    "ERA5_netcdf_subset[:,1,1].aux_coords"
   ]
  },
  {
   "cell_type": "code",
   "execution_count": 137,
   "metadata": {},
   "outputs": [
    {
     "data": {
      "text/plain": [
       "[<matplotlib.lines.Line2D at 0x7fae54e28fa0>]"
      ]
     },
     "execution_count": 137,
     "metadata": {},
     "output_type": "execute_result"
    },
    {
     "data": {
      "image/png": "[encoded data removed]",
      "text/plain": [
       "<Figure size 640x480 with 1 Axes>"
      ]
     },
     "metadata": {},
     "output_type": "display_data"
    }
   ],
   "source": [
    "a = trend_cube[0,1,1].data*np.arange(len(ERA5_netcdf_subset[:,1,1].data)) + trend_cube[1,1,1].data\n",
    "plt.plot(ERA5_netcdf_subset[:,1,1].data - a) #tendency filter"
   ]
  },
  {
   "cell_type": "code",
   "execution_count": 129,
   "metadata": {},
   "outputs": [
    {
     "data": {
      "text/html": [
       "\n",
       "<style>\n",
       "  a.iris {\n",
       "      text-decoration: none !important;\n",
       "  }\n",
       "  table.iris {\n",
       "      white-space: pre;\n",
       "      border: 1px solid;\n",
       "      border-color: #9c9c9c;\n",
       "      font-family: monaco, monospace;\n",
       "  }\n",
       "  th.iris {\n",
       "      background: #303f3f;\n",
       "      color: #e0e0e0;\n",
       "      border-left: 1px solid;\n",
       "      border-color: #9c9c9c;\n",
       "      font-size: 1.05em;\n",
       "      min-width: 50px;\n",
       "      max-width: 125px;\n",
       "  }\n",
       "  tr.iris :first-child {\n",
       "      border-right: 1px solid #9c9c9c !important;\n",
       "  }\n",
       "  td.iris-title {\n",
       "      background: #d5dcdf;\n",
       "      border-top: 1px solid #9c9c9c;\n",
       "      font-weight: bold;\n",
       "  }\n",
       "  .iris-word-cell {\n",
       "      text-align: left !important;\n",
       "      white-space: pre;\n",
       "  }\n",
       "  .iris-subheading-cell {\n",
       "      padding-left: 2em !important;\n",
       "  }\n",
       "  .iris-inclusion-cell {\n",
       "      padding-right: 1em !important;\n",
       "  }\n",
       "  .iris-panel-body {\n",
       "      padding-top: 0px;\n",
       "  }\n",
       "  .iris-panel-title {\n",
       "      padding-left: 3em;\n",
       "  }\n",
       "  .iris-panel-title {\n",
       "      margin-top: 7px;\n",
       "  }\n",
       "</style>\n",
       "<table class=\"iris\" id=\"140386732171120\">\n",
       "    <tr class=\"iris\">\n",
       "<th class=\"iris iris-word-cell\">Total Precipitation (m)</th>\n",
       "<th class=\"iris iris-word-cell\">(scalar cube)</th>\n",
       "</tr>\n",
       "    \n",
       "    <tr class=\"iris\">\n",
       "    <td class=\"iris-title iris-word-cell\">Scalar coordinates</td>\n",
       "    <td class=\"iris-title\"></td>\n",
       "</tr>\n",
       "<tr class=\"iris\">\n",
       "    <td class=\"iris-word-cell iris-subheading-cell\">\tlatitude</td>\n",
       "    <td class=\"iris-word-cell\" colspan=\"1\">-10.25 degrees</td>\n",
       "</tr>\n",
       "<tr class=\"iris\">\n",
       "    <td class=\"iris-word-cell iris-subheading-cell\">\tlongitude</td>\n",
       "    <td class=\"iris-word-cell\" colspan=\"1\">-89.75 degrees</td>\n",
       "</tr>\n",
       "<tr class=\"iris\">\n",
       "    <td class=\"iris-word-cell iris-subheading-cell\">\ttime</td>\n",
       "    <td class=\"iris-word-cell\" colspan=\"1\">1959-01-01 00:00:00</td>\n",
       "</tr>\n",
       "<tr class=\"iris\">\n",
       "    <td class=\"iris-title iris-word-cell\">Attributes</td>\n",
       "    <td class=\"iris-title\"></td>\n",
       "</tr>\n",
       "<tr class=\"iris\">\n",
       "    <td class=\"iris-word-cell iris-subheading-cell\">\tConventions</td>\n",
       "    <td class=\"iris-word-cell\" colspan=\"1\">CF-1.6</td>\n",
       "</tr>\n",
       "<tr class=\"iris\">\n",
       "    <td class=\"iris-word-cell iris-subheading-cell\">\thistory</td>\n",
       "    <td class=\"iris-word-cell\" colspan=\"1\">2022-09-06 13:37:04 GMT by grib_to_netcdf-2.25.1: /opt/ecmwf/mars-client/bin/grib_to_netcdf.bin...</td>\n",
       "</tr>\n",
       "</table>\n",
       "        "
      ],
      "text/plain": [
       "<iris 'Cube' of Total precipitation / (m) (scalar cube)>"
      ]
     },
     "execution_count": 129,
     "metadata": {},
     "output_type": "execute_result"
    }
   ],
   "source": [
    "trend_cube[0,1,1]"
   ]
  },
  {
   "cell_type": "code",
   "execution_count": 121,
   "metadata": {},
   "outputs": [
    {
     "data": {
      "text/plain": [
       "array([[[3.38370495e-07, 2.70696396e-07],\n",
       "        [2.87967390e-07, 2.55337735e-07]],\n",
       "\n",
       "       [[7.91617773e-04, 6.46152298e-04],\n",
       "        [7.66927478e-04, 6.77666350e-04]]])"
      ]
     },
     "execution_count": 121,
     "metadata": {},
     "output_type": "execute_result"
    }
   ],
   "source": [
    "trend_cube.data"
   ]
  },
  {
   "cell_type": "code",
   "execution_count": 66,
   "metadata": {},
   "outputs": [],
   "source": [
    "#apply the same function to all grid-points\n",
    "\n",
    "# Define your custom function\n",
    "def custom_function(value):\n",
    "    # Modify this function according to your specific requirements\n",
    "    return value * 2  # Example: doubling the values\n",
    "\n",
    "# Apply the custom function to all grid points\n",
    "ERA5_netcdf.data = np.vectorize(custom_function)(ERA5_netcdf.data)"
   ]
  },
  {
   "cell_type": "code",
   "execution_count": null,
   "metadata": {},
   "outputs": [],
   "source": [
    "#regression example\n",
    "dataset = \n",
    "pearsonr(dataset, reference, **kwargs)"
   ]
  }
 ],
 "metadata": {
  "kernelspec": {
   "display_name": "Python 3",
   "language": "python",
   "name": "python3"
  },
  "language_info": {
   "codemirror_mode": {
    "name": "ipython",
    "version": 3
   },
   "file_extension": ".py",
   "mimetype": "text/x-python",
   "name": "python",
   "nbconvert_exporter": "python",
   "pygments_lexer": "ipython3",
   "version": "3.9.1"
  }
 },
 "nbformat": 4,
 "nbformat_minor": 2
}
