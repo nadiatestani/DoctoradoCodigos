{
 "cells": [
  {
   "cell_type": "markdown",
   "metadata": {},
   "source": [
    "Regressions between ERA5 (dif. variables) and Cloud Index (CI) in Corrientes Argentina\n",
    "\n",
    "Las anomalias de CI se generaron asi:\n",
    "\n",
    "* Calculo el CI mensuales para los meses con menos del 20% de datos faltantes\n",
    "* Calculo las anomalias de CI mensuales (le resto a las medias mensuales la CI climatologica de cada mes calculada sobre el periodo comun con el satelite: fecha_inicio_climatologia_str = \"1983-12-15\"\n",
    "fecha_final_climatologia_str = \"2016-11-15\")\n",
    "* Todo se guarda en csvs: cada columna es una estacion. En: \"/pikachu/datos/nadia.testani/Doctorado/resultados/resultados2021/nubosidad/paper\"\n",
    "TCC_monthly_CI_SMN_anomaly.csv"
   ]
  },
  {
   "cell_type": "code",
   "execution_count": 8,
   "metadata": {},
   "outputs": [],
   "source": [
    "import os\n",
    "import pandas as pd \n",
    "import numpy as np\n",
    "\n",
    "import iris\n",
    "from iris.analysis import MEAN\n",
    "from iris.analysis.stats import pearsonr\n",
    "import iris.coord_categorisation\n",
    "\n",
    "import scipy\n",
    "from scipy.stats import theilslopes #theil-sen trends\n",
    "\n",
    "import matplotlib.pyplot as plt"
   ]
  },
  {
   "cell_type": "code",
   "execution_count": 3,
   "metadata": {},
   "outputs": [
    {
     "name": "stdout",
     "output_type": "stream",
     "text": [
      "Current working directory: /home/nadia.testani/Doctorado/DoctoradoCodigos/codigos2024\n"
     ]
    }
   ],
   "source": [
    "# directories\n",
    "cwd = os.getcwd()\n",
    "print(\"Current working directory: {0}\".format(cwd))\n",
    "\n",
    "#si estoy trabajando desde el servidor vegeta\n",
    "ruta_a_archivos_ERA5_mensual = \"../../../../../datos/ERA5_updated/mon\" #ruta donde estan los archivos con datos de ERA5\n",
    "ruta_a_archivos_CI = \"/pikachu/datos/nadia.testani/Doctorado/resultados/resultados2021/nubosidad/paper\"\n",
    "ruta_a_resultados = \"/pikachu/datos/nadia.testani/Doctorado/resultados/resultados2024\" #ruta donde se guardan los resultados del analisis de nubosidad"
   ]
  },
  {
   "cell_type": "code",
   "execution_count": 18,
   "metadata": {},
   "outputs": [],
   "source": [
    "#Cloud Index\n",
    "\n",
    "CI_anomaly = pd.read_csv(f\"{ruta_a_archivos_CI}/TCC_monthly_CI_SMN_anomaly.csv\")\n",
    "#from 1961-01-01 until 2021-11-01\n",
    "\n",
    "#set dates as index\n",
    "CI_anomaly = CI_anomaly.set_index(CI_anomaly[\"Unnamed: 0\"]) \n",
    "CI_anomaly = CI_anomaly.drop([\"Unnamed: 0\"], axis = 1)\n",
    "CI_anomaly.index = pd.DatetimeIndex(CI_anomaly.index)\n",
    "\n",
    "#filter theil-sen trend\n",
    "def calculate_theilsen_slope(y):\n",
    "    slope, intercept, _, _ = theilslopes(y, range(len(y)), alpha=0.95)\n",
    "    return slope, intercept\n",
    "\n",
    "CI_anomaly_no_trends = CI_anomaly.copy()\n",
    "for column in CI_anomaly_no_trends: #iterate throw every station\n",
    "    serie = CI_anomaly_no_trends[column]\n",
    "    valores = serie.values[np.isfinite(serie.values)]\n",
    "    trend = calculate_theilsen_slope(valores)[0] * np.arange(len(serie)) + calculate_theilsen_slope(valores)[1]\n",
    "    CI_anomaly_no_trends[column] = serie - trend\n",
    "\n",
    "#regional mean value\n",
    "CI_anomaly_no_trends_regional_mean = CI_anomaly_no_trends.mean(axis=1)"
   ]
  },
  {
   "cell_type": "code",
   "execution_count": null,
   "metadata": {},
   "outputs": [],
   "source": [
    "#ERA5 precipitation"
   ]
  }
 ],
 "metadata": {
  "kernelspec": {
   "display_name": "Python 3 (ipykernel)",
   "language": "python",
   "name": "python3"
  },
  "language_info": {
   "codemirror_mode": {
    "name": "ipython",
    "version": 3
   },
   "file_extension": ".py",
   "mimetype": "text/x-python",
   "name": "python",
   "nbconvert_exporter": "python",
   "pygments_lexer": "ipython3",
   "version": "3.9.1"
  }
 },
 "nbformat": 4,
 "nbformat_minor": 4
}
