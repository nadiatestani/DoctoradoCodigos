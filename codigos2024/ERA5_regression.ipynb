{
 "cells": [
  {
   "cell_type": "markdown",
   "metadata": {},
   "source": [
    "Regressions between ERA5 (dif. variables) and Cloud Index (CI) in Corrientes Argentina\n",
    "\n",
    "Las anomalias de CI se generaron asi:\n",
    "\n",
    "* Calculo el CI mensuales para los meses con menos del 20% de datos faltantes\n",
    "* Calculo las anomalias de CI mensuales (le resto a las medias mensuales la CI climatologica de cada mes calculada sobre el periodo comun con el satelite: fecha_inicio_climatologia_str = \"1983-12-15\"\n",
    "fecha_final_climatologia_str = \"2016-11-15\")\n",
    "* Todo se guarda en csvs: cada columna es una estacion. En: \"/pikachu/datos/nadia.testani/Doctorado/resultados/resultados2021/nubosidad/paper\"\n",
    "TCC_monthly_CI_SMN_anomaly.csv\n",
    "\n",
    "ERA5 is for southamerica"
   ]
  },
  {
   "cell_type": "code",
   "execution_count": 52,
   "metadata": {},
   "outputs": [],
   "source": [
    "import os\n",
    "import pandas as pd \n",
    "import datetime \n",
    "import numpy as np\n",
    "\n",
    "import iris\n",
    "#from iris.analysis import MEAN\n",
    "#from iris.analysis.stats import pearsonr\n",
    "import iris.coord_categorisation\n",
    "\n",
    "import scipy\n",
    "from scipy.stats import theilslopes #theil-sen trends\n",
    "from iris.analysis.stats import pearsonr\n",
    "\n",
    "import matplotlib.pyplot as plt\n",
    "import cartopy.crs as ccrs\n",
    "\n",
    "import f_Iris\n",
    "#import esmvalcore.preprocessor as ep "
   ]
  },
  {
   "cell_type": "code",
   "execution_count": 2,
   "metadata": {},
   "outputs": [
    {
     "name": "stdout",
     "output_type": "stream",
     "text": [
      "Current working directory: /home/nadia.testani/Doctorado/DoctoradoCodigos/codigos2024\n"
     ]
    }
   ],
   "source": [
    "# directories\n",
    "cwd = os.getcwd()\n",
    "print(\"Current working directory: {0}\".format(cwd))\n",
    "\n",
    "#si estoy trabajando desde el servidor vegeta\n",
    "ruta_a_archivos_ERA5_mensual = \"/pikachu/datos/nadia.testani/Doctorado/datos/ERA5/mon/SAm\" #ruta donde estan los archivos con datos de ERA5\n",
    "ruta_a_archivos_CI = \"/pikachu/datos/nadia.testani/Doctorado/resultados/resultados2021/nubosidad/paper\"\n",
    "ruta_a_resultados = \"/pikachu/datos/nadia.testani/Doctorado/resultados/resultados2024\" #ruta donde se guardan los resultados del analisis de nubosidad"
   ]
  },
  {
   "cell_type": "code",
   "execution_count": 3,
   "metadata": {},
   "outputs": [],
   "source": [
    "fecha_inicio_climatologia_str = \"1983-12-15\"\n",
    "fecha_final_climatologia_str = \"2016-11-15\""
   ]
  },
  {
   "cell_type": "code",
   "execution_count": 4,
   "metadata": {},
   "outputs": [],
   "source": [
    "#Cloud Index\n",
    "CI = pd.read_csv(f\"{ruta_a_archivos_CI}/TCC_monthly_CI_SMN.csv\") #from 1961-01-01 until 2021-11-01\n",
    "\n",
    "#set dates as index\n",
    "CI = CI.set_index(CI[\"Unnamed: 0\"]) \n",
    "CI = CI.drop([\"Unnamed: 0\"], axis = 1)\n",
    "CI.index = pd.DatetimeIndex(CI.index)\n",
    "\n",
    "#estimate regional mean\n",
    "CI_regional_mean = CI.mean(axis=1)\n",
    "\n",
    "#filter theil-sen trend\n",
    "def calculate_theilsen_slope(y):\n",
    "    slope, intercept, _, _ = theilslopes(y, range(len(y)), alpha=0.95)\n",
    "    return slope, intercept\n",
    "\n",
    "CI_detrend = CI_regional_mean.copy()\n",
    "trend = calculate_theilsen_slope(CI_detrend.values)[0] * np.arange(len(CI_detrend)) + calculate_theilsen_slope(CI_detrend.values)[1]\n",
    "CI_detrend = CI_detrend - trend\n",
    "\n",
    "#estimate climatology\n",
    "CI_detrend_fechas_climatologia = CI_detrend.loc[fecha_inicio_climatologia_str:fecha_final_climatologia_str]\n",
    "CI_detrend_climatologia = CI_detrend_fechas_climatologia.groupby(CI_detrend_fechas_climatologia.index.month).mean() \n",
    "\n",
    "#estimate anomalies\n",
    "def f_serie_anomalias_mensuales(serie, serie_climatologia):\n",
    "    serie_anomalia = serie.copy()\n",
    "    for fecha in serie_anomalia.index:\n",
    "        for mes in serie_anomalia.index.month.unique():\n",
    "            if fecha.month == mes:\n",
    "                serie_anomalia.loc[fecha] = serie.loc[fecha]-serie_climatologia.loc[mes]\n",
    "    return serie_anomalia\n",
    "\n",
    "CI_detrend_anom = f_serie_anomalias_mensuales(CI_detrend, CI_detrend_climatologia)"
   ]
  },
  {
   "cell_type": "code",
   "execution_count": 5,
   "metadata": {},
   "outputs": [],
   "source": [
    "#ERA5\n",
    "file_dir = ruta_a_archivos_ERA5_mensual\n",
    "file_name = \"new_data.nc\"\n",
    "variable_name = 't2m'\n",
    "t2m = iris.load_cube(f\"{file_dir}/{file_name}\", variable_name) \n",
    "t2m = t2m[:,0,:,:] #select expver=1"
   ]
  },
  {
   "cell_type": "code",
   "execution_count": 6,
   "metadata": {},
   "outputs": [],
   "source": [
    "#select dates common to CI \n",
    "date_i_CI = CI_detrend_anom.index[0]\n",
    "date_f_CI = CI_detrend_anom.index[-1]"
   ]
  },
  {
   "cell_type": "code",
   "execution_count": 7,
   "metadata": {},
   "outputs": [],
   "source": [
    "fecha_inicio_climatologia_str = \"1983-12-15\"\n",
    "fecha_final_climatologia_str = \"2016-11-15\"\n",
    "t2m_CIdates = f_Iris.clip_timerange(t2m, f\"{str(date_i_CI)[0:10]}/{str(date_f_CI)[0:10]}\")\n",
    "#check that it is ok:\n",
    "time_coord = t2m_CIdates.coord(\"time\") \n",
    "time_axis = time_coord.units.num2date(time_coord.core_points())\n",
    "#print(time_axis)"
   ]
  },
  {
   "cell_type": "code",
   "execution_count": 8,
   "metadata": {},
   "outputs": [
    {
     "name": "stderr",
     "output_type": "stream",
     "text": [
      "/home/nadia.testani/.local/lib/python3.9/site-packages/numpy/core/fromnumeric.py:3504: RuntimeWarning: Mean of empty slice.\n",
      "  return _methods._mean(a, axis=axis, dtype=dtype,\n",
      "/home/nadia.testani/.local/lib/python3.9/site-packages/numpy/core/_methods.py:129: RuntimeWarning: invalid value encountered in scalar divide\n",
      "  ret = ret.dtype.type(ret / rcount)\n"
     ]
    }
   ],
   "source": [
    "#detrend\n",
    "t2m_CIdates_detrend = f_Iris.detrend_theil_sen_cube(t2m_CIdates, dimension='time', method='linear')"
   ]
  },
  {
   "cell_type": "code",
   "execution_count": 42,
   "metadata": {},
   "outputs": [
    {
     "name": "stderr",
     "output_type": "stream",
     "text": [
      "/home/nadia.testani/.local/lib/python3.9/site-packages/numpy/core/fromnumeric.py:3504: RuntimeWarning: Mean of empty slice.\n",
      "  return _methods._mean(a, axis=axis, dtype=dtype,\n",
      "/home/nadia.testani/.local/lib/python3.9/site-packages/numpy/core/_methods.py:129: RuntimeWarning: invalid value encountered in scalar divide\n",
      "  ret = ret.dtype.type(ret / rcount)\n"
     ]
    }
   ],
   "source": [
    "#detrend\n",
    "t2m_CIdates_detrend = f_Iris.detrend_theil_sen_cube(t2m_CIdates, dimension='time', method='linear')"
   ]
  },
  {
   "cell_type": "code",
   "execution_count": 43,
   "metadata": {},
   "outputs": [
    {
     "data": {
      "text/plain": [
       "array([-1.91375919e+00, -1.18708582e+00, -6.20804639e-02,  1.49600499e+00,\n",
       "        1.84638176e+00,  6.39026208e-01, -3.79333528e-01,  1.59615300e-02,\n",
       "       -6.67417956e-02, -2.04533587e-01, -6.38108067e-01, -1.76325468e+00,\n",
       "       -1.99596813e+00, -1.75068321e+00,  3.53201820e-01,  8.19688127e-01,\n",
       "        5.91212245e-01,  6.77164377e-01, -2.89496953e-01,  5.84644004e-01,\n",
       "        5.01940679e-01,  1.58202775e-01, -1.38137860e+00, -1.98106600e+00,\n",
       "       -1.98834050e+00, -1.04470332e+00,  1.36238015e-01,  9.15457307e-01,\n",
       "        8.45466704e-01,  1.16024785e+00,  2.90203215e-01,  6.66852946e-01,\n",
       "        8.61286982e-01,  1.90408340e-01, -3.62665736e-01, -1.61493958e+00,\n",
       "       -1.46033874e+00, -4.19237353e-01,  9.75277731e-01,  2.25283576e+00,\n",
       "        3.04646281e+00,  9.11078480e-01,  2.66472799e-01,  7.22788927e-01,\n",
       "        5.18890976e-01,  1.13284487e-01, -7.64387782e-01, -1.51832288e+00,\n",
       "       -2.53414007e+00, -1.17945819e+00,  3.79262902e-02,  1.84179105e+00,\n",
       "        2.26081653e+00,  1.04922340e+00,  6.47854488e-01,  1.86312018e-01,\n",
       "        6.73986196e-01,  3.14993025e-01, -3.73683429e-01, -1.10897320e+00,\n",
       "       -1.33914411e+00, -8.04009102e-01, -1.97047206e-02,  1.87145407e+00,\n",
       "        1.80061596e+00,  8.94975697e-01,  1.03855884e+00,  6.43970045e-01,\n",
       "        6.01947433e-01,  5.98910505e-01, -1.39239630e+00, -1.69884355e+00,\n",
       "       -1.57899082e+00, -1.29133015e+00, -6.61273473e-01,  8.99354524e-01,\n",
       "        1.70145672e+00,  1.28483254e+00,  1.76636223e-01,  2.74453564e-01,\n",
       "        6.69748622e-01,  1.30234784e-01, -4.04193964e-01, -1.16321415e+00,\n",
       "       -2.37734982e+00, -2.35157125e+00, -6.97716613e-01,  7.51886938e-01,\n",
       "        1.97435650e+00,  7.93273914e-01,  4.27500623e-01,  4.27853754e-01,\n",
       "        4.55327361e-01,  1.48880111e-01, -6.38108067e-01, -1.43950400e+00,\n",
       "       -1.50695206e+00, -8.32824607e-01,  1.46598884e+00,  2.83338345e+00,\n",
       "        2.73796740e+00,  1.92555377e+00,  3.52919315e-01,  3.41407238e-01,\n",
       "        2.51923794e-01,  8.87065559e-02, -1.18475516e+00, -1.81495308e+00,\n",
       "       -1.91545422e+00, -2.28546509e+00,  3.87949929e-01,  1.10106306e+00,\n",
       "        1.29041201e+00,  7.05132368e-01,  3.01220908e-01,  5.18537845e-01,\n",
       "        2.64636517e-01,  4.56528007e-01, -1.62715791e+00, -1.88360179e+00,\n",
       "       -2.18157389e+00, -1.56677248e+00, -8.10436090e-01,  5.07802657e-01,\n",
       "        1.43364202e+00,  1.79673151e-01, -1.90337713e-01,  8.20676894e-02,\n",
       "        2.95147052e-01,  3.28553263e-01, -3.77073489e-01, -1.60476940e+00,\n",
       "       -1.67221745e+00, -1.54388958e+00,  1.67384186e-02,  1.53244813e+00,\n",
       "        1.52263108e+00,  1.61621085e+00,  4.89369208e-01,  6.34223624e-02,\n",
       "        4.18036707e-01,  3.79404155e-01,  4.07513398e-02, -1.37085529e+00,\n",
       "       -1.65780970e+00, -1.60406313e+00,  9.31206958e-01,  2.45369679e+00,\n",
       "        1.68450642e+00,  7.39880477e-01,  4.27288744e-02,  4.82094706e-01,\n",
       "        9.85024152e-01,  1.37014903e-01, -7.67777841e-01, -3.07012260e+00,\n",
       "       -2.38497746e+00, -2.42106746e+00, -7.90943248e-01,  3.11179208e-01,\n",
       "        1.04802276e+00,  4.76303354e-01, -2.08347404e-02, -1.14555759e-01,\n",
       "        4.05323984e-01, -6.72361793e-01, -1.11864900e+00, -1.80054533e+00,\n",
       "       -2.00274825e+00, -1.88374304e+00, -5.34993759e-01,  6.47642609e-01,\n",
       "        2.69220160e+00,  1.49416871e+00,  1.95281550e-01, -6.03148079e-02,\n",
       "        1.74799941e-01, -2.30806548e-01, -9.14397913e-01, -2.34464987e+00,\n",
       "       -2.54261522e+00, -2.36258894e+00, -9.46038468e-01,  5.58653549e-01,\n",
       "        1.23956112e+00,  1.54247705e-01,  7.91720136e-02,  2.55808237e-01,\n",
       "        3.04469715e-01,  5.17549078e-01, -8.95752586e-01, -1.43441891e+00,\n",
       "       -2.32480390e+00, -1.36930152e+00, -3.58075030e-02,  9.00202039e-01,\n",
       "        1.71247441e+00,  4.61048087e-01,  2.26639600e-01,  4.67686953e-01,\n",
       "        7.47719990e-01,  2.44649291e-01, -3.88091182e-01, -1.19541972e+00,\n",
       "       -2.07478702e+00, -1.54643212e+00,  3.57439394e-01,  1.82145070e+00,\n",
       "        2.80068350e+00,  7.21235150e-01, -3.77638499e-01,  4.38871448e-01,\n",
       "        3.32437706e-01,  2.05663607e-01, -4.98268114e-01, -1.41831613e+00,\n",
       "       -1.72900095e+00, -1.20234109e+00,  6.08091916e-02,  8.46808603e-01,\n",
       "        1.72010204e+00,  7.47508111e-01,  9.57197414e-01,  2.73606049e-01,\n",
       "        1.03078995e+00,  2.09053667e-01, -4.11821598e-01, -1.54374833e+00,\n",
       "       -1.09760238e+00, -1.20403612e+00, -1.23101534e-01,  1.64347258e+00,\n",
       "        3.07104074e+00,  4.27995007e-01,  1.59685926e-01,  2.25297702e-01,\n",
       "        1.04456207e-01,  1.18369576e-01, -7.34724762e-01, -2.65907789e+00,\n",
       "       -2.96806768e+00, -1.54049952e+00,  4.98126862e-01,  9.25203728e-02,\n",
       "        1.80146347e+00,  5.81395197e-01,  3.80039791e-01,  5.40573231e-01,\n",
       "        5.79064532e-01, -4.26582482e-02, -9.05075250e-01, -1.62680478e+00,\n",
       "       -1.36626459e+00, -1.24641186e+00, -2.62941487e-01,  1.23412290e+00,\n",
       "        1.58110961e+00,  9.48369134e-01, -2.77631745e-01,  5.91847881e-02,\n",
       "        4.65497540e-01, -2.63012113e-01, -1.07542574e+00, -1.76918728e+00,\n",
       "       -1.42813317e+00, -7.68413478e-01,  1.21427692e+00,  2.38928566e+00,\n",
       "        2.41252169e+00,  1.98148975e+00,  3.45291681e-01,  6.93125907e-01,\n",
       "        3.54473092e-01, -1.68090448e-01, -3.71988400e-01, -1.34203979e+00,\n",
       "       -2.31378621e+00, -1.28624506e+00, -8.32683355e-02,  1.92230497e+00,\n",
       "        1.77603803e+00,  7.65305923e-01, -3.21702518e-01,  1.55377725e-03,\n",
       "        5.36053152e-02, -3.22338154e-01, -1.68055135e+00, -1.83953101e+00,\n",
       "       -2.77568181e+00, -2.07104383e+00, -7.55347623e-01,  3.94235665e-01,\n",
       "        1.58449967e+00,  3.20360619e-01, -2.78479259e-01, -4.50595403e-02,\n",
       "        1.98530357e-01, -1.92668379e-01, -5.27083620e-01, -1.88614433e+00,\n",
       "       -2.36717964e+00, -1.38370927e+00, -8.96035091e-01,  5.14582776e-01,\n",
       "        1.77603803e+00,  1.10176932e-01, -7.67495337e-01, -4.87462300e-01,\n",
       "       -6.65087290e-01, -6.18120842e-01, -8.58461932e-01, -1.97428588e+00,\n",
       "       -2.58414345e+00, -1.41337229e+00,  9.83752880e-01,  1.60702944e+00,\n",
       "        2.48710300e+00,  1.30686792e+00, -2.25297702e-02,  5.18537845e-01,\n",
       "        8.46031714e-01,  1.43795022e-01,  7.38044195e-02, -5.60631083e-01,\n",
       "       -1.67815006e+00, -1.34387607e+00, -3.50235518e-01,  1.75025945e+00,\n",
       "        2.24386623e+00,  1.33398840e+00,  2.98678364e-01,  5.73626311e-01,\n",
       "        5.27366125e-01, -3.18948094e-01, -1.99942882e-01, -1.82173320e+00,\n",
       "       -1.88494369e+00, -2.45242551e+00, -1.26809412e+00,  4.12033477e-01,\n",
       "        1.11921401e+00,  1.35602378e-01,  7.91720136e-02,  5.77863885e-01,\n",
       "        4.27359371e-01, -2.84199985e-01, -3.93176271e-01, -1.80054533e+00,\n",
       "       -1.65441964e+00, -1.59728302e+00, -9.27393141e-01,  9.84953526e-01,\n",
       "        1.10311122e+00,  1.73740547e-01,  1.20700242e-01,  1.56648998e-01,\n",
       "        4.34351368e-02,  2.76854856e-01, -7.27097128e-01, -1.21915013e+00,\n",
       "       -1.65102958e+00, -1.88374304e+00, -1.97047206e-02,  1.55024594e+00,\n",
       "        1.78536069e+00,  8.81415460e-01,  3.22408780e-01,  1.92244622e-01,\n",
       "       -6.67417956e-02, -3.13015490e-01, -1.21102812e+00, -1.88529682e+00,\n",
       "       -2.09512737e+00, -1.30828045e+00, -2.37516041e-01,  1.57143381e+00,\n",
       "        1.88706247e+00,  1.20855620e+00, -3.35262755e-01, -3.39994713e-01,\n",
       "        6.29279787e-02, -3.33355847e-02, -6.33022978e-01, -1.54883342e+00,\n",
       "       -1.98664547e+00, -1.28370252e+00, -2.15480654e-01,  1.53922825e+00,\n",
       "        1.52686866e+00,  2.83069965e-01,  1.71551134e-01, -4.33221349e-01,\n",
       "       -2.59975185e-01, -4.09632185e-02, -8.39816605e-01, -1.86495646e+00,\n",
       "       -1.97817032e+00, -1.71932516e+00, -2.28193377e-01,  8.72234049e-01,\n",
       "        1.39296131e+00,  1.64417884e-01, -8.01607810e-02,  1.55377725e-03,\n",
       "        2.40058586e-01,  1.40404963e-01, -6.43193156e-01, -1.69206343e+00,\n",
       "       -1.86121327e+00, -1.33031583e+00,  3.45574186e-01,  1.96637574e+00,\n",
       "        1.60144996e+00,  1.03312062e+00,  1.84263857e-01,  9.38057703e-01,\n",
       "        5.29061154e-01,  4.04829601e-01, -7.64387782e-01, -1.50561016e+00,\n",
       "       -2.51379972e+00, -1.58626532e+00, -7.00259157e-01,  1.59685926e+00,\n",
       "        5.39513838e-01,  5.13594008e-01, -2.30170912e-01, -2.01849790e-01,\n",
       "        3.41760369e-01,  5.56534761e-02, -1.21357066e+00, -2.00733896e+00,\n",
       "       -2.18665898e+00, -1.81594185e+00, -9.69768884e-01,  1.25361574e+00,\n",
       "        1.87858732e+00,  3.61041333e-01,  3.28341384e-01,  4.56245502e-02,\n",
       "        4.41767123e-01, -1.97753469e-02, -7.21164524e-01, -1.58951413e+00,\n",
       "       -1.20947434e+00, -1.46337567e-01,  4.44733425e-01,  2.13842126e+00,\n",
       "        2.91764055e+00,  9.91592392e-01,  2.79185522e-01,  6.25324718e-01,\n",
       "        1.17910506e+00, -3.11320460e-01, -7.63540267e-01, -1.60222685e+00,\n",
       "       -2.00274825e+00, -1.98713985e+00, -1.11977902e+00,  8.89184346e-01,\n",
       "        1.38702870e+00,  3.55108728e-01, -3.28482636e-01, -3.06517876e-02,\n",
       "        1.76494971e-01, -8.07116656e-01, -1.53054122e+00, -2.43702899e+00,\n",
       "       -2.81551501e+00, -2.25495455e+00, -5.51944056e-01,  9.96818734e-01,\n",
       "        6.65793553e-01, -5.54274722e-01, -5.77652007e-01, -2.47615593e-01,\n",
       "        2.35821011e-01, -4.96926216e-01, -1.18306013e+00, -2.09209044e+00,\n",
       "       -2.84009294e+00, -2.07612891e+00, -1.08587842e+00,  5.66281182e-01,\n",
       "        1.63789310e+00,  2.79679905e-01, -9.37210188e-02,  3.36322149e-01,\n",
       "       -2.00649144e-01, -3.13015490e-01, -1.27543925e+00, -1.27593363e+00,\n",
       "       -1.65696219e+00, -1.33031583e+00, -1.53612069e-01,  9.63765654e-01,\n",
       "        1.08446590e+00,  9.10230965e-01,  1.01207400e-01,  1.65124146e-01,\n",
       "        9.70616399e-01, -2.95217678e-01, -9.52536082e-01, -1.35644754e+00,\n",
       "       -1.98495044e+00, -8.51469934e-01,  1.17105366e+00,  1.81382306e+00,\n",
       "        1.77010542e+00,  6.54281476e-01,  7.15443799e-02, -2.98042728e-02,\n",
       "        3.96001321e-01,  1.35319873e-01, -5.43186402e-01, -1.82681829e+00,\n",
       "       -1.96122002e+00, -1.06673871e+00, -7.23989573e-01,  1.32056941e+00,\n",
       "        7.48850009e-01,  1.57637765e-01, -1.07281257e-01,  1.88007048e-01,\n",
       "        1.04774025e+00,  1.90408340e-01, -1.13136172e+00, -1.84546362e+00,\n",
       "       -2.42142060e+00, -1.80407664e+00,  2.04314646e+00,  2.99271624e+00,\n",
       "        1.92774319e+00,  1.44077527e+00,  9.80927830e-01,  6.64310402e-01,\n",
       "        6.84156375e-01,  7.92143894e-01, -1.04491520e+00, -1.36068512e+00,\n",
       "       -2.12987548e+00, -1.82102694e+00, -5.29061154e-01,  1.53668570e+00,\n",
       "        1.99130680e+00,  1.02803553e+00,  3.62241979e-01,  6.51597679e-01,\n",
       "        3.14639894e-01,  5.55687247e-01, -1.15085456e+00, -1.30983422e+00,\n",
       "       -1.70527053e+00, -1.65321900e+00, -2.27345863e-01,  1.65618530e+00,\n",
       "        2.07436326e+00,  1.17126554e+00,  1.15615153e-01,  6.20239629e-01,\n",
       "        1.14626385e-01,  4.39577710e-01, -1.16102474e+00, -1.70223361e+00,\n",
       "       -2.14767329e+00, -1.73373291e+00, -6.39238087e-01,  9.70545773e-01,\n",
       "        2.04470024e+00,  3.75449085e-01, -1.42029366e-01,  6.54140223e-01,\n",
       "        1.10113369e+00, -2.19788855e-01, -1.18306013e+00, -1.68358828e+00,\n",
       "       -2.17225123e+00, -2.11511460e+00, -1.20453050e+00,  1.23497041e+00,\n",
       "        1.17175993e+00,  8.31412083e-01,  3.74107187e-01,  1.47326334e-01,\n",
       "        6.00252403e-01, -3.41830996e-02, -7.61845237e-01, -1.21152250e+00,\n",
       "       -2.15784347e+00, -4.07372145e-01,  5.78640774e-01,  1.96044314e+00,\n",
       "        1.25905396e+00,  1.25347449e+00,  6.57177152e-01,  5.89729094e-01,\n",
       "        7.50262534e-01,  5.65009910e-02, -1.50935335e+00, -3.16758681e+00,\n",
       "       -1.96037251e+00, -1.16589795e+00, -7.40092356e-01,  1.25022568e+00,\n",
       "        1.49296806e+00,  8.27174508e-01,  2.18164452e-01,  9.54160486e-01,\n",
       "        6.34152998e-01, -1.30799794e-01, -1.13390426e+00, -2.21159004e+00,\n",
       "       -2.48498421e+00, -1.88374304e+00, -1.05028280e+00,  8.94269435e-01,\n",
       "        9.34455765e-01,  1.05091843e+00,  8.51046177e-02,  4.28701269e-01,\n",
       "        6.88605828e-02,  6.49761396e-03, -1.91446545e+00, -1.82088569e+00,\n",
       "       -1.85104309e+00, -1.35065619e+00, -6.15507671e-01,  1.44430658e+00,\n",
       "        1.44720226e+00,  3.87314293e-01,  3.18171206e-01,  3.96919462e-02,\n",
       "        5.90929740e-01,  2.26003964e-03, -4.82165332e-01, -1.52171294e+00,\n",
       "       -2.10529755e+00, -1.50236135e+00, -5.27578003e-02,  1.75364951e+00,\n",
       "        1.85146685e+00,  6.35636149e-01,  6.03783715e-01,  1.95634681e-01,\n",
       "        9.42860287e-02, -3.41830996e-02, -1.04576272e+00, -1.98106600e+00,\n",
       "       -1.80188723e+00, -1.53371940e+00, -4.12951618e-01,  1.29683900e+00,\n",
       "        1.09124601e+00,  8.22936934e-01,  3.59699434e-01,  6.79565669e-01,\n",
       "        5.66351809e-01,  8.58250053e-01, -2.19435724e-01, -5.02152558e-01,\n",
       "       -1.65102958e+00, -1.50066632e+00,  7.93909550e-01,  2.60116437e+00,\n",
       "        2.80322604e+00,  9.04298361e-01,  3.99532633e-01,  8.97376990e-01,\n",
       "        5.99404888e-01,  2.77702371e-01, -6.45735701e-01, -9.32690109e-01,\n",
       "       -2.01800352e+00, -1.19047588e+00, -9.48581013e-01,  1.11377579e+00,\n",
       "        1.32431260e+00,  1.03820571e+00,  2.21554511e-01,  7.24483957e-01,\n",
       "        1.07994582e+00,  1.91255855e-01, -4.49112252e-01, -1.74545686e+00,\n",
       "       -2.09427986e+00, -1.70745995e+00, -8.01960941e-01,  9.40882753e-01,\n",
       "        1.47771279e+00,  2.59339549e-01,  3.94447543e-01, -2.67955950e-01,\n",
       "        7.22506422e-02, -8.50339915e-02, -4.46569708e-01, -1.85563380e+00,\n",
       "       -1.70950811e+00, -8.46384845e-01, -3.30742676e-01,  1.48413978e+00,\n",
       "        2.14555451e+00,  1.35093869e+00,  3.10543572e-01,  6.20239629e-01,\n",
       "        1.03248498e+00,  2.18376330e-01, -5.94884809e-01, -1.47594714e+00,\n",
       "       -1.69594787e+00, -7.96381468e-01, -6.18050215e-01,  1.97146083e+00,\n",
       "        1.93960839e+00,  7.86493795e-01,  6.24971587e-01,  7.38891710e-01,\n",
       "        1.37233845e+00,  6.91289625e-01, -3.59275677e-01, -1.30390162e+00,\n",
       "       -1.30015843e+00, -8.98930767e-01, -8.81627338e-01,  9.02744584e-01,\n",
       "        1.38024858e+00,  8.50057410e-01,  4.77504000e-01,  2.61740841e-01,\n",
       "        3.66338300e-01,  3.11602965e-01, -1.16441480e+00])"
      ]
     },
     "execution_count": 43,
     "metadata": {},
     "output_type": "execute_result"
    }
   ],
   "source": [
    "t2m_CIdates_detrend.data[:,5,6] #26 minutos"
   ]
  },
  {
   "cell_type": "code",
   "execution_count": 48,
   "metadata": {},
   "outputs": [
    {
     "ename": "CoordinateNotFoundError",
     "evalue": "'Expected to find exactly 1 time.month coordinate, but found none.'",
     "output_type": "error",
     "traceback": [
      "\u001b[0;31m---------------------------------------------------------------------------\u001b[0m",
      "\u001b[0;31mCoordinateNotFoundError\u001b[0m                   Traceback (most recent call last)",
      "Cell \u001b[0;32mIn[48], line 19\u001b[0m\n\u001b[1;32m     17\u001b[0m fecha_inicio_climatologia_str \u001b[38;5;241m=\u001b[39m \u001b[38;5;124m\"\u001b[39m\u001b[38;5;124m1983-12-15\u001b[39m\u001b[38;5;124m\"\u001b[39m\n\u001b[1;32m     18\u001b[0m fecha_final_climatologia_str \u001b[38;5;241m=\u001b[39m \u001b[38;5;124m\"\u001b[39m\u001b[38;5;124m2016-11-15\u001b[39m\u001b[38;5;124m\"\u001b[39m\n\u001b[0;32m---> 19\u001b[0m t2m_CIdates_detrend_anom \u001b[38;5;241m=\u001b[39m \u001b[43manomalies_monthly\u001b[49m\u001b[43m(\u001b[49m\u001b[43mt2m_CIdates_detrend\u001b[49m\u001b[43m,\u001b[49m\u001b[43m \u001b[49m\u001b[43mfecha_inicio_climatologia_str\u001b[49m\u001b[43m,\u001b[49m\u001b[43m \u001b[49m\u001b[43mfecha_final_climatologia_str\u001b[49m\u001b[43m)\u001b[49m\n",
      "Cell \u001b[0;32mIn[48], line 10\u001b[0m, in \u001b[0;36manomalies_monthly\u001b[0;34m(cube, reference_date_i, reference_date_f)\u001b[0m\n\u001b[1;32m      8\u001b[0m cube_clim \u001b[38;5;241m=\u001b[39m f_Iris\u001b[38;5;241m.\u001b[39mclip_timerange(cube, \u001b[38;5;124mf\u001b[39m\u001b[38;5;124m\"\u001b[39m\u001b[38;5;132;01m{\u001b[39;00m\u001b[38;5;28mstr\u001b[39m(date_i_CI)[\u001b[38;5;241m0\u001b[39m:\u001b[38;5;241m10\u001b[39m]\u001b[38;5;132;01m}\u001b[39;00m\u001b[38;5;124m/\u001b[39m\u001b[38;5;132;01m{\u001b[39;00m\u001b[38;5;28mstr\u001b[39m(date_f_CI)[\u001b[38;5;241m0\u001b[39m:\u001b[38;5;241m10\u001b[39m]\u001b[38;5;132;01m}\u001b[39;00m\u001b[38;5;124m\"\u001b[39m)\n\u001b[1;32m      9\u001b[0m \u001b[38;5;66;03m#Compute monthly climatology\u001b[39;00m\n\u001b[0;32m---> 10\u001b[0m clim \u001b[38;5;241m=\u001b[39m \u001b[43mcube_clim\u001b[49m\u001b[38;5;241;43m.\u001b[39;49m\u001b[43maggregated_by\u001b[49m\u001b[43m(\u001b[49m\u001b[38;5;124;43m'\u001b[39;49m\u001b[38;5;124;43mtime.month\u001b[39;49m\u001b[38;5;124;43m'\u001b[39;49m\u001b[43m,\u001b[49m\u001b[43m \u001b[49m\u001b[43miris\u001b[49m\u001b[38;5;241;43m.\u001b[39;49m\u001b[43manalysis\u001b[49m\u001b[38;5;241;43m.\u001b[39;49m\u001b[43mMEAN\u001b[49m\u001b[43m)\u001b[49m\n\u001b[1;32m     11\u001b[0m \u001b[38;5;66;03m#Compute monthly anomalies \u001b[39;00m\n\u001b[1;32m     12\u001b[0m anom \u001b[38;5;241m=\u001b[39m cube\u001b[38;5;241m.\u001b[39maggregated_by(\u001b[38;5;124m'\u001b[39m\u001b[38;5;124mtime.month\u001b[39m\u001b[38;5;124m'\u001b[39m, iris\u001b[38;5;241m.\u001b[39manalysis\u001b[38;5;241m.\u001b[39mMEAN) \u001b[38;5;241m-\u001b[39m clim\n",
      "File \u001b[0;32m~/miniforge3/envs/base_nadia2/lib/python3.9/site-packages/iris/cube.py:3400\u001b[0m, in \u001b[0;36mCube.aggregated_by\u001b[0;34m(self, coords, aggregator, **kwargs)\u001b[0m\n\u001b[1;32m   3395\u001b[0m \u001b[38;5;28;01mif\u001b[39;00m \u001b[38;5;28misinstance\u001b[39m(aggregator, iris\u001b[38;5;241m.\u001b[39manalysis\u001b[38;5;241m.\u001b[39mWeightedAggregator) \u001b[38;5;129;01mand\u001b[39;00m \\\n\u001b[1;32m   3396\u001b[0m         aggregator\u001b[38;5;241m.\u001b[39muses_weighting(\u001b[38;5;241m*\u001b[39m\u001b[38;5;241m*\u001b[39mkwargs):\n\u001b[1;32m   3397\u001b[0m     \u001b[38;5;28;01mraise\u001b[39;00m \u001b[38;5;167;01mValueError\u001b[39;00m(\u001b[38;5;124m'\u001b[39m\u001b[38;5;124mInvalid Aggregation, aggregated_by() cannot use\u001b[39m\u001b[38;5;124m'\u001b[39m\n\u001b[1;32m   3398\u001b[0m                      \u001b[38;5;124m'\u001b[39m\u001b[38;5;124m weights.\u001b[39m\u001b[38;5;124m'\u001b[39m)\n\u001b[0;32m-> 3400\u001b[0m coords \u001b[38;5;241m=\u001b[39m \u001b[38;5;28;43mself\u001b[39;49m\u001b[38;5;241;43m.\u001b[39;49m\u001b[43m_as_list_of_coords\u001b[49m\u001b[43m(\u001b[49m\u001b[43mcoords\u001b[49m\u001b[43m)\u001b[49m\n\u001b[1;32m   3401\u001b[0m \u001b[38;5;28;01mfor\u001b[39;00m coord \u001b[38;5;129;01min\u001b[39;00m \u001b[38;5;28msorted\u001b[39m(coords, key\u001b[38;5;241m=\u001b[39m\u001b[38;5;28;01mlambda\u001b[39;00m coord: coord\u001b[38;5;241m.\u001b[39m_as_defn()):\n\u001b[1;32m   3402\u001b[0m     \u001b[38;5;28;01mif\u001b[39;00m coord\u001b[38;5;241m.\u001b[39mndim \u001b[38;5;241m>\u001b[39m \u001b[38;5;241m1\u001b[39m:\n",
      "File \u001b[0;32m~/miniforge3/envs/base_nadia2/lib/python3.9/site-packages/iris/cube.py:2650\u001b[0m, in \u001b[0;36mCube._as_list_of_coords\u001b[0;34m(self, names_or_coords)\u001b[0m\n\u001b[1;32m   2647\u001b[0m \u001b[38;5;28;01mfor\u001b[39;00m name_or_coord \u001b[38;5;129;01min\u001b[39;00m names_or_coords:\n\u001b[1;32m   2648\u001b[0m     \u001b[38;5;28;01mif\u001b[39;00m (\u001b[38;5;28misinstance\u001b[39m(name_or_coord, six\u001b[38;5;241m.\u001b[39mstring_types) \u001b[38;5;129;01mor\u001b[39;00m\n\u001b[1;32m   2649\u001b[0m             \u001b[38;5;28misinstance\u001b[39m(name_or_coord, iris\u001b[38;5;241m.\u001b[39mcoords\u001b[38;5;241m.\u001b[39mCoord)):\n\u001b[0;32m-> 2650\u001b[0m         coords\u001b[38;5;241m.\u001b[39mappend(\u001b[38;5;28;43mself\u001b[39;49m\u001b[38;5;241;43m.\u001b[39;49m\u001b[43mcoord\u001b[49m\u001b[43m(\u001b[49m\u001b[43mname_or_coord\u001b[49m\u001b[43m)\u001b[49m)\n\u001b[1;32m   2651\u001b[0m     \u001b[38;5;28;01melse\u001b[39;00m:\n\u001b[1;32m   2652\u001b[0m         \u001b[38;5;66;03m# Don't know how to handle this type\u001b[39;00m\n\u001b[1;32m   2653\u001b[0m         msg \u001b[38;5;241m=\u001b[39m (\u001b[38;5;124m\"\u001b[39m\u001b[38;5;124mDon\u001b[39m\u001b[38;5;124m'\u001b[39m\u001b[38;5;124mt know how to handle coordinate of type \u001b[39m\u001b[38;5;132;01m%s\u001b[39;00m\u001b[38;5;124m. \u001b[39m\u001b[38;5;124m\"\u001b[39m\n\u001b[1;32m   2654\u001b[0m                \u001b[38;5;124m\"\u001b[39m\u001b[38;5;124mEnsure all coordinates are of type six.string_types \u001b[39m\u001b[38;5;124m\"\u001b[39m\n\u001b[1;32m   2655\u001b[0m                \u001b[38;5;124m\"\u001b[39m\u001b[38;5;124mor iris.coords.Coord.\u001b[39m\u001b[38;5;124m\"\u001b[39m) \u001b[38;5;241m%\u001b[39m (\u001b[38;5;28mtype\u001b[39m(name_or_coord), )\n",
      "File \u001b[0;32m~/miniforge3/envs/base_nadia2/lib/python3.9/site-packages/iris/cube.py:1497\u001b[0m, in \u001b[0;36mCube.coord\u001b[0;34m(self, name_or_coord, standard_name, long_name, var_name, attributes, axis, contains_dimension, dimensions, coord_system, dim_coords)\u001b[0m\n\u001b[1;32m   1494\u001b[0m     bad_name \u001b[38;5;241m=\u001b[39m _name \u001b[38;5;129;01mor\u001b[39;00m standard_name \u001b[38;5;129;01mor\u001b[39;00m long_name \u001b[38;5;129;01mor\u001b[39;00m \u001b[38;5;124m'\u001b[39m\u001b[38;5;124m'\u001b[39m\n\u001b[1;32m   1495\u001b[0m     msg \u001b[38;5;241m=\u001b[39m \u001b[38;5;124m'\u001b[39m\u001b[38;5;124mExpected to find exactly 1 \u001b[39m\u001b[38;5;132;01m%s\u001b[39;00m\u001b[38;5;124m coordinate, but found \u001b[39m\u001b[38;5;124m'\u001b[39m \\\n\u001b[1;32m   1496\u001b[0m           \u001b[38;5;124m'\u001b[39m\u001b[38;5;124mnone.\u001b[39m\u001b[38;5;124m'\u001b[39m \u001b[38;5;241m%\u001b[39m bad_name\n\u001b[0;32m-> 1497\u001b[0m     \u001b[38;5;28;01mraise\u001b[39;00m iris\u001b[38;5;241m.\u001b[39mexceptions\u001b[38;5;241m.\u001b[39mCoordinateNotFoundError(msg)\n\u001b[1;32m   1499\u001b[0m \u001b[38;5;28;01mreturn\u001b[39;00m coords[\u001b[38;5;241m0\u001b[39m]\n",
      "\u001b[0;31mCoordinateNotFoundError\u001b[0m: 'Expected to find exactly 1 time.month coordinate, but found none.'"
     ]
    }
   ],
   "source": [
    "# anomalies\n",
    "def anomalies_monthly(cube, reference_date_i, reference_date_f):\n",
    "    \"\"\"\n",
    "    reference_date_i: str (e.g. \"1983-12-15\")\n",
    "    reference_date_f: str (e.g. \"2016-11-15\")\n",
    "    \"\"\"\n",
    "    #select temporal range for clim\n",
    "    cube_clim = f_Iris.clip_timerange(cube, f\"{str(date_i_CI)[0:10]}/{str(date_f_CI)[0:10]}\")\n",
    "    #Compute monthly climatology\n",
    "    clim = cube_clim.aggregated_by('time.month', iris.analysis.MEAN)\n",
    "    #Compute monthly anomalies \n",
    "    anom = cube.aggregated_by('time.month', iris.analysis.MEAN) - clim\n",
    "    #Compute  anomalies \n",
    "    #Anom_month = anom.resample('time', iris.analysis.MEAN, freq='M')\n",
    "    return anom  \n",
    "\n",
    "fecha_inicio_climatologia_str = \"1983-12-15\"\n",
    "fecha_final_climatologia_str = \"2016-11-15\"\n",
    "t2m_CIdates_detrend_anom = anomalies_monthly(t2m_CIdates_detrend, fecha_inicio_climatologia_str, fecha_final_climatologia_str)"
   ]
  },
  {
   "cell_type": "code",
   "execution_count": 13,
   "metadata": {},
   "outputs": [
    {
     "ename": "TypeError",
     "evalue": "f_Iris.extract_time() argument after ** must be a mapping, not str",
     "output_type": "error",
     "traceback": [
      "\u001b[0;31m---------------------------------------------------------------------------\u001b[0m",
      "\u001b[0;31mTypeError\u001b[0m                                 Traceback (most recent call last)",
      "Cell \u001b[0;32mIn[13], line 1\u001b[0m\n\u001b[0;32m----> 1\u001b[0m t2m_CIdates_detrend_anom \u001b[38;5;241m=\u001b[39m \u001b[43mf_Iris\u001b[49m\u001b[38;5;241;43m.\u001b[39;49m\u001b[43manomalies\u001b[49m\u001b[43m(\u001b[49m\n\u001b[1;32m      2\u001b[0m \u001b[43m    \u001b[49m\u001b[43mt2m_CIdates\u001b[49m\u001b[43m,\u001b[49m\n\u001b[1;32m      3\u001b[0m \u001b[43m    \u001b[49m\u001b[43mperiod\u001b[49m\u001b[43m \u001b[49m\u001b[38;5;241;43m=\u001b[39;49m\u001b[43m \u001b[49m\u001b[38;5;124;43m\"\u001b[39;49m\u001b[38;5;124;43mfull\u001b[39;49m\u001b[38;5;124;43m\"\u001b[39;49m\u001b[43m,\u001b[49m\n\u001b[1;32m      4\u001b[0m \u001b[43m    \u001b[49m\u001b[43mreference\u001b[49m\u001b[43m \u001b[49m\u001b[38;5;241;43m=\u001b[39;49m\u001b[43m \u001b[49m\u001b[38;5;124;43mf\u001b[39;49m\u001b[38;5;124;43m\"\u001b[39;49m\u001b[38;5;132;43;01m{\u001b[39;49;00m\u001b[43mfecha_inicio_climatologia_str\u001b[49m\u001b[38;5;132;43;01m}\u001b[39;49;00m\u001b[38;5;124;43m/\u001b[39;49m\u001b[38;5;132;43;01m{\u001b[39;49;00m\u001b[43mfecha_final_climatologia_str\u001b[49m\u001b[38;5;132;43;01m}\u001b[39;49;00m\u001b[38;5;124;43m\"\u001b[39;49m\u001b[43m,\u001b[49m\n\u001b[1;32m      5\u001b[0m \u001b[43m    \u001b[49m\u001b[43mstandardize\u001b[49m\u001b[43m \u001b[49m\u001b[38;5;241;43m=\u001b[39;49m\u001b[43m \u001b[49m\u001b[38;5;28;43;01mFalse\u001b[39;49;00m\u001b[43m \u001b[49m\n\u001b[1;32m      6\u001b[0m \u001b[43m)\u001b[49m\n",
      "File \u001b[0;32m~/Doctorado/DoctoradoCodigos/codigos2024/f_Iris.py:741\u001b[0m, in \u001b[0;36manomalies\u001b[0;34m(cube, period, reference, standardize, seasons)\u001b[0m\n\u001b[1;32m    739\u001b[0m     reference_cube \u001b[38;5;241m=\u001b[39m cube\n\u001b[1;32m    740\u001b[0m \u001b[38;5;28;01melse\u001b[39;00m:\n\u001b[0;32m--> 741\u001b[0m     reference_cube \u001b[38;5;241m=\u001b[39m extract_time(cube, \u001b[38;5;241m*\u001b[39m\u001b[38;5;241m*\u001b[39mreference)\n\u001b[1;32m    742\u001b[0m reference \u001b[38;5;241m=\u001b[39m climate_statistics(reference_cube,\n\u001b[1;32m    743\u001b[0m                                period\u001b[38;5;241m=\u001b[39mperiod,\n\u001b[1;32m    744\u001b[0m                                seasons\u001b[38;5;241m=\u001b[39mseasons)\n\u001b[1;32m    745\u001b[0m \u001b[38;5;28;01mif\u001b[39;00m period \u001b[38;5;129;01min\u001b[39;00m [\u001b[38;5;124m'\u001b[39m\u001b[38;5;124mfull\u001b[39m\u001b[38;5;124m'\u001b[39m]:\n",
      "\u001b[0;31mTypeError\u001b[0m: f_Iris.extract_time() argument after ** must be a mapping, not str"
     ]
    }
   ],
   "source": [
    "t2m_CIdates_detrend_anom = f_Iris.anomalies(\n",
    "    t2m_CIdates,\n",
    "    period = \"full\",\n",
    "    reference = f\"{fecha_inicio_climatologia_str}/{fecha_final_climatologia_str}\",\n",
    "    standardize = False \n",
    ")"
   ]
  },
  {
   "cell_type": "code",
   "execution_count": 50,
   "metadata": {},
   "outputs": [],
   "source": [
    "CI_detrend_anom_cube = t2m_CIdates_detrend.copy()\n",
    "CI_detrend_anom_cube = CI_detrend_anom_cube[:,1,1]\n",
    "CI_detrend_anom_cube.data = CI_detrend_anom_cube"
   ]
  },
  {
   "cell_type": "code",
   "execution_count": 55,
   "metadata": {},
   "outputs": [
    {
     "name": "stderr",
     "output_type": "stream",
     "text": [
      "/home/nadia.testani/miniforge3/envs/base_nadia2/lib/python3.9/site-packages/iris/coords.py:1410: UserWarning: Collapsing a non-contiguous coordinate. Metadata may not be fully descriptive for 'time'.\n",
      "  warnings.warn(msg.format(self.name()))\n",
      "/home/nadia.testani/miniforge3/envs/base_nadia2/lib/python3.9/site-packages/iris/coords.py:1410: UserWarning: Collapsing a non-contiguous coordinate. Metadata may not be fully descriptive for 'latitude'.\n",
      "  warnings.warn(msg.format(self.name()))\n",
      "/home/nadia.testani/miniforge3/envs/base_nadia2/lib/python3.9/site-packages/iris/coords.py:1410: UserWarning: Collapsing a non-contiguous coordinate. Metadata may not be fully descriptive for 'longitude'.\n",
      "  warnings.warn(msg.format(self.name()))\n",
      "/home/nadia.testani/miniforge3/envs/base_nadia2/lib/python3.9/site-packages/iris/coords.py:1410: UserWarning: Collapsing a non-contiguous coordinate. Metadata may not be fully descriptive for 'time'.\n",
      "  warnings.warn(msg.format(self.name()))\n",
      "/home/nadia.testani/miniforge3/envs/base_nadia2/lib/python3.9/site-packages/iris/coords.py:1410: UserWarning: Collapsing a non-contiguous coordinate. Metadata may not be fully descriptive for 'latitude'.\n",
      "  warnings.warn(msg.format(self.name()))\n",
      "/home/nadia.testani/miniforge3/envs/base_nadia2/lib/python3.9/site-packages/iris/coords.py:1410: UserWarning: Collapsing a non-contiguous coordinate. Metadata may not be fully descriptive for 'longitude'.\n",
      "  warnings.warn(msg.format(self.name()))\n",
      "/home/nadia.testani/miniforge3/envs/base_nadia2/lib/python3.9/site-packages/iris/coords.py:1410: UserWarning: Collapsing a non-contiguous coordinate. Metadata may not be fully descriptive for 'time'.\n",
      "  warnings.warn(msg.format(self.name()))\n",
      "/home/nadia.testani/miniforge3/envs/base_nadia2/lib/python3.9/site-packages/iris/coords.py:1410: UserWarning: Collapsing a non-contiguous coordinate. Metadata may not be fully descriptive for 'latitude'.\n",
      "  warnings.warn(msg.format(self.name()))\n",
      "/home/nadia.testani/miniforge3/envs/base_nadia2/lib/python3.9/site-packages/iris/coords.py:1410: UserWarning: Collapsing a non-contiguous coordinate. Metadata may not be fully descriptive for 'longitude'.\n",
      "  warnings.warn(msg.format(self.name()))\n"
     ]
    },
    {
     "ename": "TypeError",
     "evalue": "Cube is not iterable",
     "output_type": "error",
     "traceback": [
      "\u001b[0;31m---------------------------------------------------------------------------\u001b[0m",
      "\u001b[0;31mTypeError\u001b[0m                                 Traceback (most recent call last)",
      "Cell \u001b[0;32mIn[55], line 2\u001b[0m\n\u001b[1;32m      1\u001b[0m \u001b[38;5;66;03m# regression\u001b[39;00m\n\u001b[0;32m----> 2\u001b[0m a, b \u001b[38;5;241m=\u001b[39m pearsonr(t2m_CIdates_detrend, t2m_CIdates_detrend)\n\u001b[1;32m      3\u001b[0m plt\u001b[38;5;241m.\u001b[39mcontourf(a\u001b[38;5;241m.\u001b[39mdata)\n\u001b[1;32m      4\u001b[0m \u001b[38;5;66;03m#ver esto tambien\u001b[39;00m\n",
      "File \u001b[0;32m~/miniforge3/envs/base_nadia2/lib/python3.9/site-packages/iris/cube.py:2152\u001b[0m, in \u001b[0;36mCube.__iter__\u001b[0;34m(self)\u001b[0m\n\u001b[1;32m   2151\u001b[0m \u001b[38;5;28;01mdef\u001b[39;00m \u001b[38;5;21m__iter__\u001b[39m(\u001b[38;5;28mself\u001b[39m):\n\u001b[0;32m-> 2152\u001b[0m     \u001b[38;5;28;01mraise\u001b[39;00m \u001b[38;5;167;01mTypeError\u001b[39;00m(\u001b[38;5;124m'\u001b[39m\u001b[38;5;124mCube is not iterable\u001b[39m\u001b[38;5;124m'\u001b[39m)\n",
      "\u001b[0;31mTypeError\u001b[0m: Cube is not iterable"
     ]
    }
   ],
   "source": [
    "# regression ver\n",
    "a, b = pearsonr(t2m_CIdates_detrend, t2m_CIdates_detrend)\n",
    "plt.contourf(a.data)\n",
    "#ver esto tambien"
   ]
  },
  {
   "cell_type": "code",
   "execution_count": null,
   "metadata": {},
   "outputs": [],
   "source": [
    "# plot\n"
   ]
  },
  {
   "cell_type": "code",
   "execution_count": null,
   "metadata": {},
   "outputs": [],
   "source": [
    "######## end ########"
   ]
  },
  {
   "cell_type": "code",
   "execution_count": 46,
   "metadata": {},
   "outputs": [
    {
     "data": {
      "image/png": "[encoded data removed]",
      "text/plain": [
       "<Figure size 640x480 with 1 Axes>"
      ]
     },
     "metadata": {},
     "output_type": "display_data"
    }
   ],
   "source": [
    "data = t2m_CIdates[:,1,1].data    \n",
    "data = np.asarray(data)\n",
    "dtype = 'd'\n",
    "dshape = data.shape\n",
    "axis = 0\n",
    "N = dshape[axis]\n",
    "bp = 0\n",
    "bp = np.sort(np.unique(np.concatenate(np.atleast_1d(0, bp, N))))\n",
    "\n",
    "# Restructure data so that the axis is along the first dimension\n",
    "# and all other dimensions are collapsed into the second dimension\n",
    "rnk = len(dshape)\n",
    "newdata = np.moveaxis(data, axis, 0)\n",
    "newdata_shape = newdata.shape\n",
    "newdata = newdata.reshape(N, -1)\n",
    "\n",
    "newdata = newdata.copy()  # make sure we have a copy\n",
    "\n",
    "# Find Theil-Sen fit and remove it for each piece\n",
    "# Calculate Theil-Sen fit and remove it for each piece\n",
    "for m in range(len(bp) - 1):\n",
    "    sl = range(bp[m], bp[m + 1])  # Convert slice to range\n",
    "    x = np.arange(1, len(sl) + 1, dtype=dtype)\n",
    "    y = newdata[sl]\n",
    "    \n",
    "    # Calculate Theil-Sen fit across all data points\n",
    "    slopes = np.array([(y[j] - y[i]) / (x[j] - x[i]) for i in range(len(sl)-1) for j in range(i+1, len(sl))])\n",
    "    median_slope = np.median(slopes)\n",
    "    intercept = np.median(y - median_slope * x)\n",
    "    \n",
    "    # Calculate trend\n",
    "    trend = median_slope * x + intercept\n",
    "    \n",
    "    # Remove trend from data\n",
    "    newdata[sl] = y - trend.reshape(N, -1)\n",
    "\n",
    "\n",
    "# Put data back in the original shape.\n",
    "newdata = newdata.reshape(newdata_shape)\n",
    "ret = np.moveaxis(newdata, 0, axis)\n",
    "\n",
    "plt.plot(data, label='Original Data', marker='o', linestyle='-', markersize=4)\n",
    "plt.plot(ret, label='Detrended Data', marker='o', linestyle='-', markersize=4)\n",
    "plt.legend()\n",
    "plt.show()\n"
   ]
  },
  {
   "cell_type": "code",
   "execution_count": 12,
   "metadata": {},
   "outputs": [],
   "source": [
    "#Select times = times of climatology\n",
    "#fecha_inicio_climatologia_str = \"1983-12-15\"\n",
    "#fecha_final_climatologia_str = \"2016-11-15\"\n",
    "\n",
    "time_coord = ERA5_netcdf_1.coord(\"time\") \n",
    "time_axis = time_coord.units.num2date(time_coord.core_points())\n",
    "timei = datetime.datetime(1983, 12, 1, 0, 0) \n",
    "timef = datetime.datetime(2016, 11, 1, 0, 0) \n",
    "\n",
    "# Create a constraint based on the chosen datetime\n",
    "time_constraint = iris.Constraint(time=lambda cell: timei <= cell.point <= timef)\n",
    "\n",
    "# Apply the constraint to slice the cube\n",
    "ERA5_netcdf_1_datesClimatology = ERA5_netcdf_1.extract(time_constraint)\n",
    "\n",
    "time_coord = ERA5_netcdf_1_datesClimatology.coord(\"time\")\n",
    "time_axis = time_coord.units.num2date(time_coord.core_points())\n",
    "\n",
    "#mean values\n",
    "# calculate monthly mean\n",
    "# Categorize the time coordinate by month\n",
    "iris.coord_categorisation.add_month(ERA5_netcdf_1_datesClimatology, 'time', name='month')\n",
    "\n",
    "# Calculate the monthly mean for each grid point\n",
    "monthly_means = ERA5_netcdf_1_datesClimatology.aggregated_by('month', iris.analysis.MEAN)"
   ]
  },
  {
   "cell_type": "code",
   "execution_count": 62,
   "metadata": {},
   "outputs": [],
   "source": [
    "# Filter monthly means --> anomalies\n",
    "monthly_means_array = np.repeat(monthly_means.data, len(data_trend_filtered_datesCI.data[:,1,1])/12, axis=0)\n",
    "ERA5_trend_filtered_anomalies = data_trend_filtered_datesCI.data - monthly_means_array\n",
    "\n",
    "#I have to delete the last december to calculate the regression"
   ]
  },
  {
   "cell_type": "code",
   "execution_count": 13,
   "metadata": {},
   "outputs": [
    {
     "name": "stderr",
     "output_type": "stream",
     "text": [
      "/home/nadia.testani/.local/lib/python3.9/site-packages/numpy/core/fromnumeric.py:3504: RuntimeWarning: Mean of empty slice.\n",
      "  return _methods._mean(a, axis=axis, dtype=dtype,\n",
      "/home/nadia.testani/.local/lib/python3.9/site-packages/numpy/core/_methods.py:129: RuntimeWarning: invalid value encountered in scalar divide\n",
      "  ret = ret.dtype.type(ret / rcount)\n"
     ]
    }
   ],
   "source": []
  },
  {
   "cell_type": "code",
   "execution_count": 14,
   "metadata": {},
   "outputs": [
    {
     "data": {
      "text/html": [
       "\n",
       "<style>\n",
       "  a.iris {\n",
       "      text-decoration: none !important;\n",
       "  }\n",
       "  table.iris {\n",
       "      white-space: pre;\n",
       "      border: 1px solid;\n",
       "      border-color: #9c9c9c;\n",
       "      font-family: monaco, monospace;\n",
       "  }\n",
       "  th.iris {\n",
       "      background: #303f3f;\n",
       "      color: #e0e0e0;\n",
       "      border-left: 1px solid;\n",
       "      border-color: #9c9c9c;\n",
       "      font-size: 1.05em;\n",
       "      min-width: 50px;\n",
       "      max-width: 125px;\n",
       "  }\n",
       "  tr.iris :first-child {\n",
       "      border-right: 1px solid #9c9c9c !important;\n",
       "  }\n",
       "  td.iris-title {\n",
       "      background: #d5dcdf;\n",
       "      border-top: 1px solid #9c9c9c;\n",
       "      font-weight: bold;\n",
       "  }\n",
       "  .iris-word-cell {\n",
       "      text-align: left !important;\n",
       "      white-space: pre;\n",
       "  }\n",
       "  .iris-subheading-cell {\n",
       "      padding-left: 2em !important;\n",
       "  }\n",
       "  .iris-inclusion-cell {\n",
       "      padding-right: 1em !important;\n",
       "  }\n",
       "  .iris-panel-body {\n",
       "      padding-top: 0px;\n",
       "  }\n",
       "  .iris-panel-title {\n",
       "      padding-left: 3em;\n",
       "  }\n",
       "  .iris-panel-title {\n",
       "      margin-top: 7px;\n",
       "  }\n",
       "</style>\n",
       "<table class=\"iris\" id=\"139848741902560\">\n",
       "    <tr class=\"iris\">\n",
       "<th class=\"iris iris-word-cell\">2 Metre Temperature (K)</th>\n",
       "<th class=\"iris iris-word-cell\">time</th>\n",
       "<th class=\"iris iris-word-cell\">latitude</th>\n",
       "<th class=\"iris iris-word-cell\">longitude</th>\n",
       "</tr>\n",
       "    <tr class=\"iris\">\n",
       "<td class=\"iris-word-cell iris-subheading-cell\">Shape</td>\n",
       "<td class=\"iris iris-inclusion-cell\">768</td>\n",
       "<td class=\"iris iris-inclusion-cell\">301</td>\n",
       "<td class=\"iris iris-inclusion-cell\">217</td>\n",
       "</tr>\n",
       "    <tr class=\"iris\">\n",
       "    <td class=\"iris-title iris-word-cell\">Dimension coordinates</td>\n",
       "    <td class=\"iris-title\"></td>\n",
       "    <td class=\"iris-title\"></td>\n",
       "    <td class=\"iris-title\"></td>\n",
       "</tr>\n",
       "<tr class=\"iris\">\n",
       "    <td class=\"iris-word-cell iris-subheading-cell\">\ttime</td>\n",
       "    <td class=\"iris-inclusion-cell\">x</td>\n",
       "    <td class=\"iris-inclusion-cell\">-</td>\n",
       "    <td class=\"iris-inclusion-cell\">-</td>\n",
       "</tr>\n",
       "<tr class=\"iris\">\n",
       "    <td class=\"iris-word-cell iris-subheading-cell\">\tlatitude</td>\n",
       "    <td class=\"iris-inclusion-cell\">-</td>\n",
       "    <td class=\"iris-inclusion-cell\">x</td>\n",
       "    <td class=\"iris-inclusion-cell\">-</td>\n",
       "</tr>\n",
       "<tr class=\"iris\">\n",
       "    <td class=\"iris-word-cell iris-subheading-cell\">\tlongitude</td>\n",
       "    <td class=\"iris-inclusion-cell\">-</td>\n",
       "    <td class=\"iris-inclusion-cell\">-</td>\n",
       "    <td class=\"iris-inclusion-cell\">x</td>\n",
       "</tr>\n",
       "<tr class=\"iris\">\n",
       "    <td class=\"iris-title iris-word-cell\">Scalar coordinates</td>\n",
       "    <td class=\"iris-title\"></td>\n",
       "    <td class=\"iris-title\"></td>\n",
       "    <td class=\"iris-title\"></td>\n",
       "</tr>\n",
       "<tr class=\"iris\">\n",
       "    <td class=\"iris-word-cell iris-subheading-cell\">\texpver</td>\n",
       "    <td class=\"iris-word-cell\" colspan=\"3\">1</td>\n",
       "</tr>\n",
       "<tr class=\"iris\">\n",
       "    <td class=\"iris-title iris-word-cell\">Attributes</td>\n",
       "    <td class=\"iris-title\"></td>\n",
       "    <td class=\"iris-title\"></td>\n",
       "    <td class=\"iris-title\"></td>\n",
       "</tr>\n",
       "<tr class=\"iris\">\n",
       "    <td class=\"iris-word-cell iris-subheading-cell\">\tConventions</td>\n",
       "    <td class=\"iris-word-cell\" colspan=\"3\">CF-1.6</td>\n",
       "</tr>\n",
       "<tr class=\"iris\">\n",
       "    <td class=\"iris-word-cell iris-subheading-cell\">\thistory</td>\n",
       "    <td class=\"iris-word-cell\" colspan=\"3\">2023-01-27 16:22:31 GMT by grib_to_netcdf-2.25.1: /opt/ecmwf/mars-client/bin/grib_to_netcdf.bin...</td>\n",
       "</tr>\n",
       "</table>\n",
       "        "
      ],
      "text/plain": [
       "<iris 'Cube' of 2 metre temperature / (K) (time: 768; latitude: 301; longitude: 217)>"
      ]
     },
     "execution_count": 14,
     "metadata": {},
     "output_type": "execute_result"
    }
   ],
   "source": [
    "ERA5_netcdf_detrend"
   ]
  }
 ],
 "metadata": {
  "kernelspec": {
   "display_name": "Python 3 (ipykernel)",
   "language": "python",
   "name": "python3"
  },
  "language_info": {
   "codemirror_mode": {
    "name": "ipython",
    "version": 3
   },
   "file_extension": ".py",
   "mimetype": "text/x-python",
   "name": "python",
   "nbconvert_exporter": "python",
   "pygments_lexer": "ipython3",
   "version": "3.9.18"
  }
 },
 "nbformat": 4,
 "nbformat_minor": 4
}
