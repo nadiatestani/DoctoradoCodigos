{
 "cells": [
  {
   "cell_type": "markdown",
   "metadata": {},
   "source": [
    "Regressions between ERA5 (dif. variables) and Cloud Index (CI) in Corrientes Argentina\n",
    "\n",
    "Las anomalias de CI se generaron asi:\n",
    "\n",
    "* Calculo el CI mensuales para los meses con menos del 20% de datos faltantes\n",
    "* Calculo las anomalias de CI mensuales (le resto a las medias mensuales la CI climatologica de cada mes calculada sobre el periodo comun con el satelite: fecha_inicio_climatologia_str = \"1983-12-15\"\n",
    "fecha_final_climatologia_str = \"2016-11-15\")\n",
    "* Todo se guarda en csvs: cada columna es una estacion. En: \"/pikachu/datos/nadia.testani/Doctorado/resultados/resultados2021/nubosidad/paper\"\n",
    "TCC_monthly_CI_SMN_anomaly.csv\n",
    "\n",
    "ERA5 is for southamerica"
   ]
  },
  {
   "cell_type": "code",
   "execution_count": 1,
   "metadata": {},
   "outputs": [],
   "source": [
    "import os\n",
    "import pandas as pd \n",
    "import datetime \n",
    "import numpy as np\n",
    "\n",
    "import iris\n",
    "#from iris.analysis import MEAN\n",
    "#from iris.analysis.stats import pearsonr\n",
    "import iris.coord_categorisation\n",
    "\n",
    "import scipy\n",
    "from scipy.stats import theilslopes #theil-sen trends\n",
    "\n",
    "import matplotlib.pyplot as plt\n",
    "import cartopy.crs as ccrs\n",
    "\n",
    "import f_Iris\n",
    "#import esmvalcore.preprocessor as ep "
   ]
  },
  {
   "cell_type": "code",
   "execution_count": 2,
   "metadata": {},
   "outputs": [
    {
     "name": "stdout",
     "output_type": "stream",
     "text": [
      "Current working directory: /home/nadia.testani/Doctorado/DoctoradoCodigos/codigos2024\n"
     ]
    }
   ],
   "source": [
    "# directories\n",
    "cwd = os.getcwd()\n",
    "print(\"Current working directory: {0}\".format(cwd))\n",
    "\n",
    "#si estoy trabajando desde el servidor vegeta\n",
    "ruta_a_archivos_ERA5_mensual = \"/pikachu/datos/nadia.testani/Doctorado/datos/ERA5/mon/SAm\" #ruta donde estan los archivos con datos de ERA5\n",
    "ruta_a_archivos_CI = \"/pikachu/datos/nadia.testani/Doctorado/resultados/resultados2021/nubosidad/paper\"\n",
    "ruta_a_resultados = \"/pikachu/datos/nadia.testani/Doctorado/resultados/resultados2024\" #ruta donde se guardan los resultados del analisis de nubosidad"
   ]
  },
  {
   "cell_type": "code",
   "execution_count": 3,
   "metadata": {},
   "outputs": [],
   "source": [
    "fecha_inicio_climatologia_str = \"1983-12-15\"\n",
    "fecha_final_climatologia_str = \"2016-11-15\""
   ]
  },
  {
   "cell_type": "code",
   "execution_count": 4,
   "metadata": {},
   "outputs": [],
   "source": [
    "#Cloud Index\n",
    "CI = pd.read_csv(f\"{ruta_a_archivos_CI}/TCC_monthly_CI_SMN.csv\") #from 1961-01-01 until 2021-11-01\n",
    "\n",
    "#set dates as index\n",
    "CI = CI.set_index(CI[\"Unnamed: 0\"]) \n",
    "CI = CI.drop([\"Unnamed: 0\"], axis = 1)\n",
    "CI.index = pd.DatetimeIndex(CI.index)\n",
    "\n",
    "#estimate regional mean\n",
    "CI_regional_mean = CI.mean(axis=1)\n",
    "\n",
    "#filter theil-sen trend\n",
    "def calculate_theilsen_slope(y):\n",
    "    slope, intercept, _, _ = theilslopes(y, range(len(y)), alpha=0.95)\n",
    "    return slope, intercept\n",
    "\n",
    "CI_detrend = CI_regional_mean.copy()\n",
    "trend = calculate_theilsen_slope(CI_detrend.values)[0] * np.arange(len(CI_detrend)) + calculate_theilsen_slope(CI_detrend.values)[1]\n",
    "CI_detrend = CI_detrend - trend\n",
    "\n",
    "#estimate climatology\n",
    "CI_detrend_fechas_climatologia = CI_detrend.loc[fecha_inicio_climatologia_str:fecha_final_climatologia_str]\n",
    "CI_detrend_climatologia = CI_detrend_fechas_climatologia.groupby(CI_detrend_fechas_climatologia.index.month).mean() \n",
    "\n",
    "#estimate anomalies\n",
    "def f_serie_anomalias_mensuales(serie, serie_climatologia):\n",
    "    serie_anomalia = serie.copy()\n",
    "    for fecha in serie_anomalia.index:\n",
    "        for mes in serie_anomalia.index.month.unique():\n",
    "            if fecha.month == mes:\n",
    "                serie_anomalia.loc[fecha] = serie.loc[fecha]-serie_climatologia.loc[mes]\n",
    "    return serie_anomalia\n",
    "\n",
    "CI_detrend_anom = f_serie_anomalias_mensuales(CI_detrend, CI_detrend_climatologia)"
   ]
  },
  {
   "cell_type": "code",
   "execution_count": 5,
   "metadata": {},
   "outputs": [],
   "source": [
    "#ERA5\n",
    "file_dir = ruta_a_archivos_ERA5_mensual\n",
    "file_name = \"new_data.nc\"\n",
    "variable_name = 't2m'\n",
    "t2m = iris.load_cube(f\"{file_dir}/{file_name}\", variable_name) \n",
    "t2m = t2m[:,0,:,:] #select expver=1"
   ]
  },
  {
   "cell_type": "code",
   "execution_count": 6,
   "metadata": {},
   "outputs": [],
   "source": [
    "#select dates common to CI \n",
    "date_i_CI = CI_detrend_anom.index[0]\n",
    "date_f_CI = CI_detrend_anom.index[-1]"
   ]
  },
  {
   "cell_type": "code",
   "execution_count": 7,
   "metadata": {},
   "outputs": [],
   "source": [
    "t2m_CIdates = f_Iris.clip_timerange(t2m, f\"{str(date_i_CI)[0:10]}/{str(date_f_CI)[0:10]}\")\n",
    "#check that it is ok:\n",
    "time_coord = t2m_CIdates.coord(\"time\") \n",
    "time_axis = time_coord.units.num2date(time_coord.core_points())\n",
    "#print(time_axis)"
   ]
  },
  {
   "cell_type": "code",
   "execution_count": 8,
   "metadata": {},
   "outputs": [
    {
     "name": "stderr",
     "output_type": "stream",
     "text": [
      "/home/nadia.testani/.local/lib/python3.9/site-packages/numpy/core/fromnumeric.py:3504: RuntimeWarning: Mean of empty slice.\n",
      "  return _methods._mean(a, axis=axis, dtype=dtype,\n",
      "/home/nadia.testani/.local/lib/python3.9/site-packages/numpy/core/_methods.py:129: RuntimeWarning: invalid value encountered in scalar divide\n",
      "  ret = ret.dtype.type(ret / rcount)\n"
     ]
    }
   ],
   "source": [
    "#detrend\n",
    "t2m_CIdates_detrend = f_Iris.detrend_theil_sen_cube(t2m_CIdates, dimension='time', method='linear')"
   ]
  },
  {
   "cell_type": "code",
   "execution_count": 14,
   "metadata": {},
   "outputs": [
    {
     "name": "stderr",
     "output_type": "stream",
     "text": [
      "/home/nadia.testani/miniforge3/envs/base_nadia2/lib/python3.9/site-packages/iris/fileformats/netcdf.py:1052: SyntaxWarning: \"is\" with a literal. Did you mean \"==\"?\n",
      "  if data_dtype.itemsize is 1:\n",
      "/home/nadia.testani/miniforge3/envs/base_nadia2/lib/python3.9/site-packages/iris/fileformats/netcdf.py:1052: SyntaxWarning: \"is\" with a literal. Did you mean \"==\"?\n",
      "  if data_dtype.itemsize is 1:\n"
     ]
    },
    {
     "ename": "RuntimeError",
     "evalue": "NetCDF: Not a valid ID",
     "output_type": "error",
     "traceback": [
      "\u001b[0;31m---------------------------------------------------------------------------\u001b[0m",
      "\u001b[0;31mRuntimeError\u001b[0m                              Traceback (most recent call last)",
      "Cell \u001b[0;32mIn[14], line 1\u001b[0m\n\u001b[0;32m----> 1\u001b[0m plt\u001b[38;5;241m.\u001b[39mcontourf(\u001b[43mt2m_CIdates_detrend\u001b[49m\u001b[38;5;241;43m.\u001b[39;49m\u001b[43mdata\u001b[49m[\u001b[38;5;241m1\u001b[39m,:,:])\n",
      "File \u001b[0;32m~/miniforge3/envs/base_nadia2/lib/python3.9/site-packages/iris/cube.py:1726\u001b[0m, in \u001b[0;36mCube.data\u001b[0;34m(self)\u001b[0m\n\u001b[1;32m   1693\u001b[0m \u001b[38;5;129m@property\u001b[39m\n\u001b[1;32m   1694\u001b[0m \u001b[38;5;28;01mdef\u001b[39;00m \u001b[38;5;21mdata\u001b[39m(\u001b[38;5;28mself\u001b[39m):\n\u001b[1;32m   1695\u001b[0m \u001b[38;5;250m    \u001b[39m\u001b[38;5;124;03m\"\"\"\u001b[39;00m\n\u001b[1;32m   1696\u001b[0m \u001b[38;5;124;03m    The :class:`numpy.ndarray` representing the multi-dimensional data of\u001b[39;00m\n\u001b[1;32m   1697\u001b[0m \u001b[38;5;124;03m    the cube.\u001b[39;00m\n\u001b[0;32m   (...)\u001b[0m\n\u001b[1;32m   1724\u001b[0m \n\u001b[1;32m   1725\u001b[0m \u001b[38;5;124;03m    \"\"\"\u001b[39;00m\n\u001b[0;32m-> 1726\u001b[0m     \u001b[38;5;28;01mreturn\u001b[39;00m \u001b[38;5;28;43mself\u001b[39;49m\u001b[38;5;241;43m.\u001b[39;49m\u001b[43m_data_manager\u001b[49m\u001b[38;5;241;43m.\u001b[39;49m\u001b[43mdata\u001b[49m\n",
      "File \u001b[0;32m~/miniforge3/envs/base_nadia2/lib/python3.9/site-packages/iris/_data_manager.py:216\u001b[0m, in \u001b[0;36mDataManager.data\u001b[0;34m(self)\u001b[0m\n\u001b[1;32m    213\u001b[0m \u001b[38;5;28;01mif\u001b[39;00m \u001b[38;5;28mself\u001b[39m\u001b[38;5;241m.\u001b[39mhas_lazy_data():\n\u001b[1;32m    214\u001b[0m     \u001b[38;5;28;01mtry\u001b[39;00m:\n\u001b[1;32m    215\u001b[0m         \u001b[38;5;66;03m# Realise the lazy data.\u001b[39;00m\n\u001b[0;32m--> 216\u001b[0m         result \u001b[38;5;241m=\u001b[39m \u001b[43mas_concrete_data\u001b[49m\u001b[43m(\u001b[49m\u001b[38;5;28;43mself\u001b[39;49m\u001b[38;5;241;43m.\u001b[39;49m\u001b[43m_lazy_array\u001b[49m\u001b[43m)\u001b[49m\n\u001b[1;32m    217\u001b[0m         \u001b[38;5;66;03m# Assign the realised result.\u001b[39;00m\n\u001b[1;32m    218\u001b[0m         \u001b[38;5;28mself\u001b[39m\u001b[38;5;241m.\u001b[39m_real_array \u001b[38;5;241m=\u001b[39m result\n",
      "File \u001b[0;32m~/miniforge3/envs/base_nadia2/lib/python3.9/site-packages/iris/_lazy_data.py:262\u001b[0m, in \u001b[0;36mas_concrete_data\u001b[0;34m(data)\u001b[0m\n\u001b[1;32m    245\u001b[0m \u001b[38;5;250m\u001b[39m\u001b[38;5;124;03m\"\"\"\u001b[39;00m\n\u001b[1;32m    246\u001b[0m \u001b[38;5;124;03mReturn the actual content of a lazy array, as a numpy array.\u001b[39;00m\n\u001b[1;32m    247\u001b[0m \u001b[38;5;124;03mIf the input data is a NumPy `ndarray` or masked array, return it\u001b[39;00m\n\u001b[0;32m   (...)\u001b[0m\n\u001b[1;32m    259\u001b[0m \n\u001b[1;32m    260\u001b[0m \u001b[38;5;124;03m\"\"\"\u001b[39;00m\n\u001b[1;32m    261\u001b[0m \u001b[38;5;28;01mif\u001b[39;00m is_lazy_data(data):\n\u001b[0;32m--> 262\u001b[0m     data, \u001b[38;5;241m=\u001b[39m \u001b[43m_co_realise_lazy_arrays\u001b[49m\u001b[43m(\u001b[49m\u001b[43m[\u001b[49m\u001b[43mdata\u001b[49m\u001b[43m]\u001b[49m\u001b[43m)\u001b[49m\n\u001b[1;32m    264\u001b[0m \u001b[38;5;28;01mreturn\u001b[39;00m data\n",
      "File \u001b[0;32m~/miniforge3/envs/base_nadia2/lib/python3.9/site-packages/iris/_lazy_data.py:226\u001b[0m, in \u001b[0;36m_co_realise_lazy_arrays\u001b[0;34m(arrays)\u001b[0m\n\u001b[1;32m    211\u001b[0m \u001b[38;5;28;01mdef\u001b[39;00m \u001b[38;5;21m_co_realise_lazy_arrays\u001b[39m(arrays):\n\u001b[1;32m    212\u001b[0m \u001b[38;5;250m    \u001b[39m\u001b[38;5;124;03m\"\"\"\u001b[39;00m\n\u001b[1;32m    213\u001b[0m \u001b[38;5;124;03m    Compute multiple lazy arrays and return a list of real values.\u001b[39;00m\n\u001b[1;32m    214\u001b[0m \n\u001b[0;32m   (...)\u001b[0m\n\u001b[1;32m    224\u001b[0m \n\u001b[1;32m    225\u001b[0m \u001b[38;5;124;03m    \"\"\"\u001b[39;00m\n\u001b[0;32m--> 226\u001b[0m     computed_arrays \u001b[38;5;241m=\u001b[39m \u001b[43mda\u001b[49m\u001b[38;5;241;43m.\u001b[39;49m\u001b[43mcompute\u001b[49m\u001b[43m(\u001b[49m\u001b[38;5;241;43m*\u001b[39;49m\u001b[43marrays\u001b[49m\u001b[43m)\u001b[49m\n\u001b[1;32m    227\u001b[0m     results \u001b[38;5;241m=\u001b[39m []\n\u001b[1;32m    228\u001b[0m     \u001b[38;5;28;01mfor\u001b[39;00m lazy_in, real_out \u001b[38;5;129;01min\u001b[39;00m \u001b[38;5;28mzip\u001b[39m(arrays, computed_arrays):\n\u001b[1;32m    229\u001b[0m         \u001b[38;5;66;03m# Ensure we always have arrays.\u001b[39;00m\n\u001b[1;32m    230\u001b[0m         \u001b[38;5;66;03m# Note : in some cases dask (and numpy) will return a scalar\u001b[39;00m\n\u001b[1;32m    231\u001b[0m         \u001b[38;5;66;03m# numpy.int/numpy.float object rather than an ndarray.\u001b[39;00m\n\u001b[1;32m    232\u001b[0m         \u001b[38;5;66;03m# Recorded in https://github.com/dask/dask/issues/2111.\u001b[39;00m\n",
      "File \u001b[0;32m~/.local/lib/python3.9/site-packages/dask/threaded.py:89\u001b[0m, in \u001b[0;36mget\u001b[0;34m(dsk, keys, cache, num_workers, pool, **kwargs)\u001b[0m\n\u001b[1;32m     86\u001b[0m     \u001b[38;5;28;01melif\u001b[39;00m \u001b[38;5;28misinstance\u001b[39m(pool, multiprocessing\u001b[38;5;241m.\u001b[39mpool\u001b[38;5;241m.\u001b[39mPool):\n\u001b[1;32m     87\u001b[0m         pool \u001b[38;5;241m=\u001b[39m MultiprocessingPoolExecutor(pool)\n\u001b[0;32m---> 89\u001b[0m results \u001b[38;5;241m=\u001b[39m \u001b[43mget_async\u001b[49m\u001b[43m(\u001b[49m\n\u001b[1;32m     90\u001b[0m \u001b[43m    \u001b[49m\u001b[43mpool\u001b[49m\u001b[38;5;241;43m.\u001b[39;49m\u001b[43msubmit\u001b[49m\u001b[43m,\u001b[49m\n\u001b[1;32m     91\u001b[0m \u001b[43m    \u001b[49m\u001b[43mpool\u001b[49m\u001b[38;5;241;43m.\u001b[39;49m\u001b[43m_max_workers\u001b[49m\u001b[43m,\u001b[49m\n\u001b[1;32m     92\u001b[0m \u001b[43m    \u001b[49m\u001b[43mdsk\u001b[49m\u001b[43m,\u001b[49m\n\u001b[1;32m     93\u001b[0m \u001b[43m    \u001b[49m\u001b[43mkeys\u001b[49m\u001b[43m,\u001b[49m\n\u001b[1;32m     94\u001b[0m \u001b[43m    \u001b[49m\u001b[43mcache\u001b[49m\u001b[38;5;241;43m=\u001b[39;49m\u001b[43mcache\u001b[49m\u001b[43m,\u001b[49m\n\u001b[1;32m     95\u001b[0m \u001b[43m    \u001b[49m\u001b[43mget_id\u001b[49m\u001b[38;5;241;43m=\u001b[39;49m\u001b[43m_thread_get_id\u001b[49m\u001b[43m,\u001b[49m\n\u001b[1;32m     96\u001b[0m \u001b[43m    \u001b[49m\u001b[43mpack_exception\u001b[49m\u001b[38;5;241;43m=\u001b[39;49m\u001b[43mpack_exception\u001b[49m\u001b[43m,\u001b[49m\n\u001b[1;32m     97\u001b[0m \u001b[43m    \u001b[49m\u001b[38;5;241;43m*\u001b[39;49m\u001b[38;5;241;43m*\u001b[39;49m\u001b[43mkwargs\u001b[49m\u001b[43m,\u001b[49m\n\u001b[1;32m     98\u001b[0m \u001b[43m\u001b[49m\u001b[43m)\u001b[49m\n\u001b[1;32m    100\u001b[0m \u001b[38;5;66;03m# Cleanup pools associated to dead threads\u001b[39;00m\n\u001b[1;32m    101\u001b[0m \u001b[38;5;28;01mwith\u001b[39;00m pools_lock:\n",
      "File \u001b[0;32m~/.local/lib/python3.9/site-packages/dask/local.py:511\u001b[0m, in \u001b[0;36mget_async\u001b[0;34m(submit, num_workers, dsk, result, cache, get_id, rerun_exceptions_locally, pack_exception, raise_exception, callbacks, dumps, loads, chunksize, **kwargs)\u001b[0m\n\u001b[1;32m    509\u001b[0m         _execute_task(task, data)  \u001b[38;5;66;03m# Re-execute locally\u001b[39;00m\n\u001b[1;32m    510\u001b[0m     \u001b[38;5;28;01melse\u001b[39;00m:\n\u001b[0;32m--> 511\u001b[0m         \u001b[43mraise_exception\u001b[49m\u001b[43m(\u001b[49m\u001b[43mexc\u001b[49m\u001b[43m,\u001b[49m\u001b[43m \u001b[49m\u001b[43mtb\u001b[49m\u001b[43m)\u001b[49m\n\u001b[1;32m    512\u001b[0m res, worker_id \u001b[38;5;241m=\u001b[39m loads(res_info)\n\u001b[1;32m    513\u001b[0m state[\u001b[38;5;124m\"\u001b[39m\u001b[38;5;124mcache\u001b[39m\u001b[38;5;124m\"\u001b[39m][key] \u001b[38;5;241m=\u001b[39m res\n",
      "File \u001b[0;32m~/.local/lib/python3.9/site-packages/dask/local.py:319\u001b[0m, in \u001b[0;36mreraise\u001b[0;34m(exc, tb)\u001b[0m\n\u001b[1;32m    317\u001b[0m \u001b[38;5;28;01mif\u001b[39;00m exc\u001b[38;5;241m.\u001b[39m__traceback__ \u001b[38;5;129;01mis\u001b[39;00m \u001b[38;5;129;01mnot\u001b[39;00m tb:\n\u001b[1;32m    318\u001b[0m     \u001b[38;5;28;01mraise\u001b[39;00m exc\u001b[38;5;241m.\u001b[39mwith_traceback(tb)\n\u001b[0;32m--> 319\u001b[0m \u001b[38;5;28;01mraise\u001b[39;00m exc\n",
      "File \u001b[0;32m~/.local/lib/python3.9/site-packages/dask/local.py:224\u001b[0m, in \u001b[0;36mexecute_task\u001b[0;34m(key, task_info, dumps, loads, get_id, pack_exception)\u001b[0m\n\u001b[1;32m    222\u001b[0m \u001b[38;5;28;01mtry\u001b[39;00m:\n\u001b[1;32m    223\u001b[0m     task, data \u001b[38;5;241m=\u001b[39m loads(task_info)\n\u001b[0;32m--> 224\u001b[0m     result \u001b[38;5;241m=\u001b[39m \u001b[43m_execute_task\u001b[49m\u001b[43m(\u001b[49m\u001b[43mtask\u001b[49m\u001b[43m,\u001b[49m\u001b[43m \u001b[49m\u001b[43mdata\u001b[49m\u001b[43m)\u001b[49m\n\u001b[1;32m    225\u001b[0m     \u001b[38;5;28mid\u001b[39m \u001b[38;5;241m=\u001b[39m get_id()\n\u001b[1;32m    226\u001b[0m     result \u001b[38;5;241m=\u001b[39m dumps((result, \u001b[38;5;28mid\u001b[39m))\n",
      "File \u001b[0;32m~/miniforge3/envs/base_nadia2/lib/python3.9/site-packages/iris/fileformats/netcdf.py:391\u001b[0m, in \u001b[0;36mNetCDFDataProxy.__getitem__\u001b[0;34m(self, keys)\u001b[0m\n\u001b[1;32m    390\u001b[0m \u001b[38;5;28;01mdef\u001b[39;00m \u001b[38;5;21m__getitem__\u001b[39m(\u001b[38;5;28mself\u001b[39m, keys):\n\u001b[0;32m--> 391\u001b[0m     dataset \u001b[38;5;241m=\u001b[39m \u001b[43mnetCDF4\u001b[49m\u001b[38;5;241;43m.\u001b[39;49m\u001b[43mDataset\u001b[49m\u001b[43m(\u001b[49m\u001b[38;5;28;43mself\u001b[39;49m\u001b[38;5;241;43m.\u001b[39;49m\u001b[43mpath\u001b[49m\u001b[43m)\u001b[49m\n\u001b[1;32m    392\u001b[0m     \u001b[38;5;28;01mtry\u001b[39;00m:\n\u001b[1;32m    393\u001b[0m         variable \u001b[38;5;241m=\u001b[39m dataset\u001b[38;5;241m.\u001b[39mvariables[\u001b[38;5;28mself\u001b[39m\u001b[38;5;241m.\u001b[39mvariable_name]\n",
      "File \u001b[0;32msrc/netCDF4/_netCDF4.pyx:2472\u001b[0m, in \u001b[0;36mnetCDF4._netCDF4.Dataset.__init__\u001b[0;34m()\u001b[0m\n",
      "File \u001b[0;32msrc/netCDF4/_netCDF4.pyx:1627\u001b[0m, in \u001b[0;36mnetCDF4._netCDF4._get_format\u001b[0;34m()\u001b[0m\n",
      "File \u001b[0;32msrc/netCDF4/_netCDF4.pyx:2034\u001b[0m, in \u001b[0;36mnetCDF4._netCDF4._ensure_nc_success\u001b[0;34m()\u001b[0m\n",
      "\u001b[0;31mRuntimeError\u001b[0m: NetCDF: Not a valid ID"
     ]
    }
   ],
   "source": [
    "t2m_CIdates_detrend.data #correct function"
   ]
  },
  {
   "cell_type": "code",
   "execution_count": null,
   "metadata": {},
   "outputs": [],
   "source": [
    "#estimate anomalies"
   ]
  },
  {
   "cell_type": "code",
   "execution_count": 12,
   "metadata": {},
   "outputs": [],
   "source": [
    "#Select times = times of climatology\n",
    "#fecha_inicio_climatologia_str = \"1983-12-15\"\n",
    "#fecha_final_climatologia_str = \"2016-11-15\"\n",
    "\n",
    "time_coord = ERA5_netcdf_1.coord(\"time\") \n",
    "time_axis = time_coord.units.num2date(time_coord.core_points())\n",
    "timei = datetime.datetime(1983, 12, 1, 0, 0) \n",
    "timef = datetime.datetime(2016, 11, 1, 0, 0) \n",
    "\n",
    "# Create a constraint based on the chosen datetime\n",
    "time_constraint = iris.Constraint(time=lambda cell: timei <= cell.point <= timef)\n",
    "\n",
    "# Apply the constraint to slice the cube\n",
    "ERA5_netcdf_1_datesClimatology = ERA5_netcdf_1.extract(time_constraint)\n",
    "\n",
    "time_coord = ERA5_netcdf_1_datesClimatology.coord(\"time\")\n",
    "time_axis = time_coord.units.num2date(time_coord.core_points())\n",
    "\n",
    "#mean values\n",
    "# calculate monthly mean\n",
    "# Categorize the time coordinate by month\n",
    "iris.coord_categorisation.add_month(ERA5_netcdf_1_datesClimatology, 'time', name='month')\n",
    "\n",
    "# Calculate the monthly mean for each grid point\n",
    "monthly_means = ERA5_netcdf_1_datesClimatology.aggregated_by('month', iris.analysis.MEAN)"
   ]
  },
  {
   "cell_type": "code",
   "execution_count": 62,
   "metadata": {},
   "outputs": [],
   "source": [
    "# Filter monthly means --> anomalies\n",
    "monthly_means_array = np.repeat(monthly_means.data, len(data_trend_filtered_datesCI.data[:,1,1])/12, axis=0)\n",
    "ERA5_trend_filtered_anomalies = data_trend_filtered_datesCI.data - monthly_means_array\n",
    "\n",
    "#I have to delete the last december to calculate the regression"
   ]
  },
  {
   "cell_type": "code",
   "execution_count": 13,
   "metadata": {},
   "outputs": [
    {
     "name": "stderr",
     "output_type": "stream",
     "text": [
      "/home/nadia.testani/.local/lib/python3.9/site-packages/numpy/core/fromnumeric.py:3504: RuntimeWarning: Mean of empty slice.\n",
      "  return _methods._mean(a, axis=axis, dtype=dtype,\n",
      "/home/nadia.testani/.local/lib/python3.9/site-packages/numpy/core/_methods.py:129: RuntimeWarning: invalid value encountered in scalar divide\n",
      "  ret = ret.dtype.type(ret / rcount)\n"
     ]
    }
   ],
   "source": []
  },
  {
   "cell_type": "code",
   "execution_count": 14,
   "metadata": {},
   "outputs": [
    {
     "data": {
      "text/html": [
       "\n",
       "<style>\n",
       "  a.iris {\n",
       "      text-decoration: none !important;\n",
       "  }\n",
       "  table.iris {\n",
       "      white-space: pre;\n",
       "      border: 1px solid;\n",
       "      border-color: #9c9c9c;\n",
       "      font-family: monaco, monospace;\n",
       "  }\n",
       "  th.iris {\n",
       "      background: #303f3f;\n",
       "      color: #e0e0e0;\n",
       "      border-left: 1px solid;\n",
       "      border-color: #9c9c9c;\n",
       "      font-size: 1.05em;\n",
       "      min-width: 50px;\n",
       "      max-width: 125px;\n",
       "  }\n",
       "  tr.iris :first-child {\n",
       "      border-right: 1px solid #9c9c9c !important;\n",
       "  }\n",
       "  td.iris-title {\n",
       "      background: #d5dcdf;\n",
       "      border-top: 1px solid #9c9c9c;\n",
       "      font-weight: bold;\n",
       "  }\n",
       "  .iris-word-cell {\n",
       "      text-align: left !important;\n",
       "      white-space: pre;\n",
       "  }\n",
       "  .iris-subheading-cell {\n",
       "      padding-left: 2em !important;\n",
       "  }\n",
       "  .iris-inclusion-cell {\n",
       "      padding-right: 1em !important;\n",
       "  }\n",
       "  .iris-panel-body {\n",
       "      padding-top: 0px;\n",
       "  }\n",
       "  .iris-panel-title {\n",
       "      padding-left: 3em;\n",
       "  }\n",
       "  .iris-panel-title {\n",
       "      margin-top: 7px;\n",
       "  }\n",
       "</style>\n",
       "<table class=\"iris\" id=\"139848741902560\">\n",
       "    <tr class=\"iris\">\n",
       "<th class=\"iris iris-word-cell\">2 Metre Temperature (K)</th>\n",
       "<th class=\"iris iris-word-cell\">time</th>\n",
       "<th class=\"iris iris-word-cell\">latitude</th>\n",
       "<th class=\"iris iris-word-cell\">longitude</th>\n",
       "</tr>\n",
       "    <tr class=\"iris\">\n",
       "<td class=\"iris-word-cell iris-subheading-cell\">Shape</td>\n",
       "<td class=\"iris iris-inclusion-cell\">768</td>\n",
       "<td class=\"iris iris-inclusion-cell\">301</td>\n",
       "<td class=\"iris iris-inclusion-cell\">217</td>\n",
       "</tr>\n",
       "    <tr class=\"iris\">\n",
       "    <td class=\"iris-title iris-word-cell\">Dimension coordinates</td>\n",
       "    <td class=\"iris-title\"></td>\n",
       "    <td class=\"iris-title\"></td>\n",
       "    <td class=\"iris-title\"></td>\n",
       "</tr>\n",
       "<tr class=\"iris\">\n",
       "    <td class=\"iris-word-cell iris-subheading-cell\">\ttime</td>\n",
       "    <td class=\"iris-inclusion-cell\">x</td>\n",
       "    <td class=\"iris-inclusion-cell\">-</td>\n",
       "    <td class=\"iris-inclusion-cell\">-</td>\n",
       "</tr>\n",
       "<tr class=\"iris\">\n",
       "    <td class=\"iris-word-cell iris-subheading-cell\">\tlatitude</td>\n",
       "    <td class=\"iris-inclusion-cell\">-</td>\n",
       "    <td class=\"iris-inclusion-cell\">x</td>\n",
       "    <td class=\"iris-inclusion-cell\">-</td>\n",
       "</tr>\n",
       "<tr class=\"iris\">\n",
       "    <td class=\"iris-word-cell iris-subheading-cell\">\tlongitude</td>\n",
       "    <td class=\"iris-inclusion-cell\">-</td>\n",
       "    <td class=\"iris-inclusion-cell\">-</td>\n",
       "    <td class=\"iris-inclusion-cell\">x</td>\n",
       "</tr>\n",
       "<tr class=\"iris\">\n",
       "    <td class=\"iris-title iris-word-cell\">Scalar coordinates</td>\n",
       "    <td class=\"iris-title\"></td>\n",
       "    <td class=\"iris-title\"></td>\n",
       "    <td class=\"iris-title\"></td>\n",
       "</tr>\n",
       "<tr class=\"iris\">\n",
       "    <td class=\"iris-word-cell iris-subheading-cell\">\texpver</td>\n",
       "    <td class=\"iris-word-cell\" colspan=\"3\">1</td>\n",
       "</tr>\n",
       "<tr class=\"iris\">\n",
       "    <td class=\"iris-title iris-word-cell\">Attributes</td>\n",
       "    <td class=\"iris-title\"></td>\n",
       "    <td class=\"iris-title\"></td>\n",
       "    <td class=\"iris-title\"></td>\n",
       "</tr>\n",
       "<tr class=\"iris\">\n",
       "    <td class=\"iris-word-cell iris-subheading-cell\">\tConventions</td>\n",
       "    <td class=\"iris-word-cell\" colspan=\"3\">CF-1.6</td>\n",
       "</tr>\n",
       "<tr class=\"iris\">\n",
       "    <td class=\"iris-word-cell iris-subheading-cell\">\thistory</td>\n",
       "    <td class=\"iris-word-cell\" colspan=\"3\">2023-01-27 16:22:31 GMT by grib_to_netcdf-2.25.1: /opt/ecmwf/mars-client/bin/grib_to_netcdf.bin...</td>\n",
       "</tr>\n",
       "</table>\n",
       "        "
      ],
      "text/plain": [
       "<iris 'Cube' of 2 metre temperature / (K) (time: 768; latitude: 301; longitude: 217)>"
      ]
     },
     "execution_count": 14,
     "metadata": {},
     "output_type": "execute_result"
    }
   ],
   "source": [
    "ERA5_netcdf_detrend"
   ]
  }
 ],
 "metadata": {
  "kernelspec": {
   "display_name": "Python 3 (ipykernel)",
   "language": "python",
   "name": "python3"
  },
  "language_info": {
   "codemirror_mode": {
    "name": "ipython",
    "version": 3
   },
   "file_extension": ".py",
   "mimetype": "text/x-python",
   "name": "python",
   "nbconvert_exporter": "python",
   "pygments_lexer": "ipython3",
   "version": "3.9.18"
  }
 },
 "nbformat": 4,
 "nbformat_minor": 4
}
